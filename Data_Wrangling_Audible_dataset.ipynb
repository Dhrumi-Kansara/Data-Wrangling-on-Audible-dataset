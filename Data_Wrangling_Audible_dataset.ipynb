{
  "nbformat": 4,
  "nbformat_minor": 0,
  "metadata": {
    "colab": {
      "provenance": [],
      "toc_visible": true
    },
    "kernelspec": {
      "name": "python3",
      "display_name": "Python 3"
    },
    "language_info": {
      "name": "python"
    }
  },
  "cells": [
    {
      "cell_type": "markdown",
      "source": [
        "**Problem:**\n",
        "\n",
        "You are given the following dataset:\n",
        "1. **Audible Data** : https://1drv.ms/u/s!AiqdXCxPTydhoog8ckLN-6Cw55fzIg?e=EWgZ5d\n",
        "\n",
        "Your task is to:\n",
        "- Find the problems with the datasets.\n",
        "- Define the Data Quality Dimensions.\n",
        "- Try to clean the datasets."
      ],
      "metadata": {
        "id": "1-EbgBO3hInD"
      }
    },
    {
      "cell_type": "code",
      "source": [
        "import pandas as pd\n",
        "import numpy as np"
      ],
      "metadata": {
        "id": "hdIIhzUZ2brk"
      },
      "execution_count": 5,
      "outputs": []
    },
    {
      "cell_type": "code",
      "source": [
        "audible=pd.read_excel('audible_uncleaned.xlsx')"
      ],
      "metadata": {
        "id": "3C5y4V-KygWC"
      },
      "execution_count": 202,
      "outputs": []
    },
    {
      "cell_type": "code",
      "source": [
        "audible"
      ],
      "metadata": {
        "colab": {
          "base_uri": "https://localhost:8080/",
          "height": 815
        },
        "id": "ky37gxmV3EbA",
        "outputId": "93d8e909-d844-4fe7-fccb-81a7f14c81b1"
      },
      "execution_count": 7,
      "outputs": [
        {
          "output_type": "execute_result",
          "data": {
            "text/plain": [
              "                                             name                     author  \\\n",
              "0                      Geronimo Stilton #11 & #12  Writtenby:GeronimoStilton   \n",
              "1                                The Burning Maze      Writtenby:RickRiordan   \n",
              "2                                    The Deep End       Writtenby:JeffKinney   \n",
              "3                            Daughter of the Deep      Writtenby:RickRiordan   \n",
              "4      The Lightning Thief: Percy Jackson, Book 1      Writtenby:RickRiordan   \n",
              "...                                           ...                        ...   \n",
              "87484                   Last Days of the Bus Club     Writtenby:ChrisStewart   \n",
              "87485                                    The Alps    Writtenby:StephenO'Shea   \n",
              "87486                        The Innocents Abroad        Writtenby:MarkTwain   \n",
              "87487                       A Sentimental Journey   Writtenby:LaurenceSterne   \n",
              "87488                                      Havana    Writtenby:MarkKurlansky   \n",
              "\n",
              "                        narrator                time          releasedate  \\\n",
              "0          Narratedby:BillLobely   2 hrs and 20 mins  2008-04-08 00:00:00   \n",
              "1       Narratedby:RobbieDaymond   13 hrs and 8 mins  2018-01-05 00:00:00   \n",
              "2          Narratedby:DanRussell    2 hrs and 3 mins  2020-06-11 00:00:00   \n",
              "3      Narratedby:SoneelaNankani  11 hrs and 16 mins  2021-05-10 00:00:00   \n",
              "4      Narratedby:JesseBernstein              10 hrs  2010-01-13 00:00:00   \n",
              "...                          ...                 ...                  ...   \n",
              "87484    Narratedby:ChrisStewart   7 hrs and 34 mins  2017-09-03 00:00:00   \n",
              "87485      Narratedby:RobertFass   10 hrs and 7 mins             21-02-17   \n",
              "87486       Narratedby:FloGibson   19 hrs and 4 mins             30-12-16   \n",
              "87487     Narratedby:AntonLesser    4 hrs and 8 mins             23-02-11   \n",
              "87488     Narratedby:FleetCooper     6 hrs and 1 min  2017-07-03 00:00:00   \n",
              "\n",
              "      language                          stars price  \n",
              "0      English     5 out of 5 stars34 ratings   468  \n",
              "1      English   4.5 out of 5 stars41 ratings   820  \n",
              "2      English   4.5 out of 5 stars38 ratings   410  \n",
              "3      English   4.5 out of 5 stars12 ratings   615  \n",
              "4      English  4.5 out of 5 stars181 ratings   820  \n",
              "...        ...                            ...   ...  \n",
              "87484  English                  Not rated yet   596  \n",
              "87485  English                  Not rated yet   820  \n",
              "87486  English                  Not rated yet   938  \n",
              "87487  English                  Not rated yet   680  \n",
              "87488  English                  Not rated yet   569  \n",
              "\n",
              "[87489 rows x 8 columns]"
            ],
            "text/html": [
              "\n",
              "  <div id=\"df-973b7f8e-7c4b-4ecd-b954-7f3f6cd36772\">\n",
              "    <div class=\"colab-df-container\">\n",
              "      <div>\n",
              "<style scoped>\n",
              "    .dataframe tbody tr th:only-of-type {\n",
              "        vertical-align: middle;\n",
              "    }\n",
              "\n",
              "    .dataframe tbody tr th {\n",
              "        vertical-align: top;\n",
              "    }\n",
              "\n",
              "    .dataframe thead th {\n",
              "        text-align: right;\n",
              "    }\n",
              "</style>\n",
              "<table border=\"1\" class=\"dataframe\">\n",
              "  <thead>\n",
              "    <tr style=\"text-align: right;\">\n",
              "      <th></th>\n",
              "      <th>name</th>\n",
              "      <th>author</th>\n",
              "      <th>narrator</th>\n",
              "      <th>time</th>\n",
              "      <th>releasedate</th>\n",
              "      <th>language</th>\n",
              "      <th>stars</th>\n",
              "      <th>price</th>\n",
              "    </tr>\n",
              "  </thead>\n",
              "  <tbody>\n",
              "    <tr>\n",
              "      <th>0</th>\n",
              "      <td>Geronimo Stilton #11 &amp; #12</td>\n",
              "      <td>Writtenby:GeronimoStilton</td>\n",
              "      <td>Narratedby:BillLobely</td>\n",
              "      <td>2 hrs and 20 mins</td>\n",
              "      <td>2008-04-08 00:00:00</td>\n",
              "      <td>English</td>\n",
              "      <td>5 out of 5 stars34 ratings</td>\n",
              "      <td>468</td>\n",
              "    </tr>\n",
              "    <tr>\n",
              "      <th>1</th>\n",
              "      <td>The Burning Maze</td>\n",
              "      <td>Writtenby:RickRiordan</td>\n",
              "      <td>Narratedby:RobbieDaymond</td>\n",
              "      <td>13 hrs and 8 mins</td>\n",
              "      <td>2018-01-05 00:00:00</td>\n",
              "      <td>English</td>\n",
              "      <td>4.5 out of 5 stars41 ratings</td>\n",
              "      <td>820</td>\n",
              "    </tr>\n",
              "    <tr>\n",
              "      <th>2</th>\n",
              "      <td>The Deep End</td>\n",
              "      <td>Writtenby:JeffKinney</td>\n",
              "      <td>Narratedby:DanRussell</td>\n",
              "      <td>2 hrs and 3 mins</td>\n",
              "      <td>2020-06-11 00:00:00</td>\n",
              "      <td>English</td>\n",
              "      <td>4.5 out of 5 stars38 ratings</td>\n",
              "      <td>410</td>\n",
              "    </tr>\n",
              "    <tr>\n",
              "      <th>3</th>\n",
              "      <td>Daughter of the Deep</td>\n",
              "      <td>Writtenby:RickRiordan</td>\n",
              "      <td>Narratedby:SoneelaNankani</td>\n",
              "      <td>11 hrs and 16 mins</td>\n",
              "      <td>2021-05-10 00:00:00</td>\n",
              "      <td>English</td>\n",
              "      <td>4.5 out of 5 stars12 ratings</td>\n",
              "      <td>615</td>\n",
              "    </tr>\n",
              "    <tr>\n",
              "      <th>4</th>\n",
              "      <td>The Lightning Thief: Percy Jackson, Book 1</td>\n",
              "      <td>Writtenby:RickRiordan</td>\n",
              "      <td>Narratedby:JesseBernstein</td>\n",
              "      <td>10 hrs</td>\n",
              "      <td>2010-01-13 00:00:00</td>\n",
              "      <td>English</td>\n",
              "      <td>4.5 out of 5 stars181 ratings</td>\n",
              "      <td>820</td>\n",
              "    </tr>\n",
              "    <tr>\n",
              "      <th>...</th>\n",
              "      <td>...</td>\n",
              "      <td>...</td>\n",
              "      <td>...</td>\n",
              "      <td>...</td>\n",
              "      <td>...</td>\n",
              "      <td>...</td>\n",
              "      <td>...</td>\n",
              "      <td>...</td>\n",
              "    </tr>\n",
              "    <tr>\n",
              "      <th>87484</th>\n",
              "      <td>Last Days of the Bus Club</td>\n",
              "      <td>Writtenby:ChrisStewart</td>\n",
              "      <td>Narratedby:ChrisStewart</td>\n",
              "      <td>7 hrs and 34 mins</td>\n",
              "      <td>2017-09-03 00:00:00</td>\n",
              "      <td>English</td>\n",
              "      <td>Not rated yet</td>\n",
              "      <td>596</td>\n",
              "    </tr>\n",
              "    <tr>\n",
              "      <th>87485</th>\n",
              "      <td>The Alps</td>\n",
              "      <td>Writtenby:StephenO'Shea</td>\n",
              "      <td>Narratedby:RobertFass</td>\n",
              "      <td>10 hrs and 7 mins</td>\n",
              "      <td>21-02-17</td>\n",
              "      <td>English</td>\n",
              "      <td>Not rated yet</td>\n",
              "      <td>820</td>\n",
              "    </tr>\n",
              "    <tr>\n",
              "      <th>87486</th>\n",
              "      <td>The Innocents Abroad</td>\n",
              "      <td>Writtenby:MarkTwain</td>\n",
              "      <td>Narratedby:FloGibson</td>\n",
              "      <td>19 hrs and 4 mins</td>\n",
              "      <td>30-12-16</td>\n",
              "      <td>English</td>\n",
              "      <td>Not rated yet</td>\n",
              "      <td>938</td>\n",
              "    </tr>\n",
              "    <tr>\n",
              "      <th>87487</th>\n",
              "      <td>A Sentimental Journey</td>\n",
              "      <td>Writtenby:LaurenceSterne</td>\n",
              "      <td>Narratedby:AntonLesser</td>\n",
              "      <td>4 hrs and 8 mins</td>\n",
              "      <td>23-02-11</td>\n",
              "      <td>English</td>\n",
              "      <td>Not rated yet</td>\n",
              "      <td>680</td>\n",
              "    </tr>\n",
              "    <tr>\n",
              "      <th>87488</th>\n",
              "      <td>Havana</td>\n",
              "      <td>Writtenby:MarkKurlansky</td>\n",
              "      <td>Narratedby:FleetCooper</td>\n",
              "      <td>6 hrs and 1 min</td>\n",
              "      <td>2017-07-03 00:00:00</td>\n",
              "      <td>English</td>\n",
              "      <td>Not rated yet</td>\n",
              "      <td>569</td>\n",
              "    </tr>\n",
              "  </tbody>\n",
              "</table>\n",
              "<p>87489 rows × 8 columns</p>\n",
              "</div>\n",
              "      <button class=\"colab-df-convert\" onclick=\"convertToInteractive('df-973b7f8e-7c4b-4ecd-b954-7f3f6cd36772')\"\n",
              "              title=\"Convert this dataframe to an interactive table.\"\n",
              "              style=\"display:none;\">\n",
              "        \n",
              "  <svg xmlns=\"http://www.w3.org/2000/svg\" height=\"24px\"viewBox=\"0 0 24 24\"\n",
              "       width=\"24px\">\n",
              "    <path d=\"M0 0h24v24H0V0z\" fill=\"none\"/>\n",
              "    <path d=\"M18.56 5.44l.94 2.06.94-2.06 2.06-.94-2.06-.94-.94-2.06-.94 2.06-2.06.94zm-11 1L8.5 8.5l.94-2.06 2.06-.94-2.06-.94L8.5 2.5l-.94 2.06-2.06.94zm10 10l.94 2.06.94-2.06 2.06-.94-2.06-.94-.94-2.06-.94 2.06-2.06.94z\"/><path d=\"M17.41 7.96l-1.37-1.37c-.4-.4-.92-.59-1.43-.59-.52 0-1.04.2-1.43.59L10.3 9.45l-7.72 7.72c-.78.78-.78 2.05 0 2.83L4 21.41c.39.39.9.59 1.41.59.51 0 1.02-.2 1.41-.59l7.78-7.78 2.81-2.81c.8-.78.8-2.07 0-2.86zM5.41 20L4 18.59l7.72-7.72 1.47 1.35L5.41 20z\"/>\n",
              "  </svg>\n",
              "      </button>\n",
              "      \n",
              "  <style>\n",
              "    .colab-df-container {\n",
              "      display:flex;\n",
              "      flex-wrap:wrap;\n",
              "      gap: 12px;\n",
              "    }\n",
              "\n",
              "    .colab-df-convert {\n",
              "      background-color: #E8F0FE;\n",
              "      border: none;\n",
              "      border-radius: 50%;\n",
              "      cursor: pointer;\n",
              "      display: none;\n",
              "      fill: #1967D2;\n",
              "      height: 32px;\n",
              "      padding: 0 0 0 0;\n",
              "      width: 32px;\n",
              "    }\n",
              "\n",
              "    .colab-df-convert:hover {\n",
              "      background-color: #E2EBFA;\n",
              "      box-shadow: 0px 1px 2px rgba(60, 64, 67, 0.3), 0px 1px 3px 1px rgba(60, 64, 67, 0.15);\n",
              "      fill: #174EA6;\n",
              "    }\n",
              "\n",
              "    [theme=dark] .colab-df-convert {\n",
              "      background-color: #3B4455;\n",
              "      fill: #D2E3FC;\n",
              "    }\n",
              "\n",
              "    [theme=dark] .colab-df-convert:hover {\n",
              "      background-color: #434B5C;\n",
              "      box-shadow: 0px 1px 3px 1px rgba(0, 0, 0, 0.15);\n",
              "      filter: drop-shadow(0px 1px 2px rgba(0, 0, 0, 0.3));\n",
              "      fill: #FFFFFF;\n",
              "    }\n",
              "  </style>\n",
              "\n",
              "      <script>\n",
              "        const buttonEl =\n",
              "          document.querySelector('#df-973b7f8e-7c4b-4ecd-b954-7f3f6cd36772 button.colab-df-convert');\n",
              "        buttonEl.style.display =\n",
              "          google.colab.kernel.accessAllowed ? 'block' : 'none';\n",
              "\n",
              "        async function convertToInteractive(key) {\n",
              "          const element = document.querySelector('#df-973b7f8e-7c4b-4ecd-b954-7f3f6cd36772');\n",
              "          const dataTable =\n",
              "            await google.colab.kernel.invokeFunction('convertToInteractive',\n",
              "                                                     [key], {});\n",
              "          if (!dataTable) return;\n",
              "\n",
              "          const docLinkHtml = 'Like what you see? Visit the ' +\n",
              "            '<a target=\"_blank\" href=https://colab.research.google.com/notebooks/data_table.ipynb>data table notebook</a>'\n",
              "            + ' to learn more about interactive tables.';\n",
              "          element.innerHTML = '';\n",
              "          dataTable['output_type'] = 'display_data';\n",
              "          await google.colab.output.renderOutput(dataTable, element);\n",
              "          const docLink = document.createElement('div');\n",
              "          docLink.innerHTML = docLinkHtml;\n",
              "          element.appendChild(docLink);\n",
              "        }\n",
              "      </script>\n",
              "    </div>\n",
              "  </div>\n",
              "  "
            ]
          },
          "metadata": {},
          "execution_count": 7
        }
      ]
    },
    {
      "cell_type": "markdown",
      "source": [
        "# 1. data summary\n",
        "\n",
        "audible dataset\n",
        "\n",
        "- data about 87489 audiobooks offered by Amazon as Audible service "
      ],
      "metadata": {
        "id": "6CR5okfDxbjz"
      }
    },
    {
      "cell_type": "markdown",
      "source": [
        "# 2. Column discription\n",
        "\n",
        "1. `name`: name of the book\n",
        "2. `author`: writer of the book\n",
        "3. `narrator`: narrator of the book\n",
        "4. `time`: total time of audiobook\n",
        "5. `releasedate`: date when book was released\n",
        "6. `language`: language of narration\n",
        "7. `price` : amount of the book"
      ],
      "metadata": {
        "id": "UQmDHQi72yLM"
      }
    },
    {
      "cell_type": "code",
      "source": [
        "audible.columns"
      ],
      "metadata": {
        "colab": {
          "base_uri": "https://localhost:8080/"
        },
        "id": "G_pi2_5hxU-U",
        "outputId": "6a32c234-8355-4202-d500-8f3faff30b9e"
      },
      "execution_count": 8,
      "outputs": [
        {
          "output_type": "execute_result",
          "data": {
            "text/plain": [
              "Index(['name', 'author', 'narrator', 'time', 'releasedate', 'language',\n",
              "       'stars', 'price'],\n",
              "      dtype='object')"
            ]
          },
          "metadata": {},
          "execution_count": 8
        }
      ]
    },
    {
      "cell_type": "markdown",
      "source": [
        "# 3. additional info\n",
        "\n",
        "- there can be more than one author or narrator\n",
        "- author can a person's name or a company's name\n",
        "- foreword author are also present\n",
        "- some narrator include middlename"
      ],
      "metadata": {
        "id": "kNIB85Wr4xZe"
      }
    },
    {
      "cell_type": "markdown",
      "source": [
        "Types of Assessment\n",
        "There are 2 types of assessment styles\n",
        "\n",
        "Manual - Looking through the data manually in google sheets\n",
        "Programmatic - By using pandas functions such as info(), describe() or sample()"
      ],
      "metadata": {
        "id": "pM6eh-UD4240"
      }
    },
    {
      "cell_type": "markdown",
      "source": [
        "# 4. manual assessment\n",
        "\n",
        "- check by column\n",
        "- then by row"
      ],
      "metadata": {
        "id": "U2ICvTpe44Yn"
      }
    },
    {
      "cell_type": "markdown",
      "source": [
        "# issues with Data\n",
        "\n",
        "1. Dirty Data\n",
        "  - author - remove suffix writtenby `validity` [done]\n",
        "  - narrator - remove suffix narratedby `validity` [done]\n",
        "  - releasedate - year given both in yy and in yyyy formate [convert all to yyyy] `consistency` [done]\n",
        "  - time - remove hrs and mins unit `validity` [done]\n",
        "  - star - remove 'out of _ starts' and 'ratings' | 'rating' `validity` [done]\n",
        "  - price - given in object - convert to float `accuracy` [done]\n",
        "  - star - most (72417) movies are 'not rated yet' -> replace with nan `completeness` [revisit]\n",
        "  - releasedate - some dates include time [but it's set to 00:00:00] `consistency` [done]\n",
        "  - language - convert to a category `accuracy` [done]\n",
        "  - language - some in lower case and some in capitalized format `consistency`\n",
        "  - star - convert avg_rating to float and total_rating to int `accuracy` [done]\n",
        "  - price - contains string 'free' instade of 0 `validity` [done]\n",
        "  - total_ratings - remove ',' `validity` [done]\n",
        "\n",
        "\n",
        "  - confusion in issues\n",
        "  - [maybe an issue] name - contains '#' - could means number [can replace with no.]of just a hash tag [maybe part of original title - should not be changes] `validity`\n",
        "  - [maybe an issue] name, author, narrator, releasedate,langauge, price - duplicated but time and rating for those audiobooks are different (96 rows) `consistency`\n",
        "  - name, author, narrator - some data is corrupted `validity`\n",
        "  - time - convert to correct hr:min format \n",
        "  - time datatype `accuracy`\n",
        "  - author, narrator, name - can be converted to category `accuracy`\n",
        "  - author - middle name sometimes are present, written in abbrivation or in fullform `consistency` \n",
        "  \n",
        "2. Messy Data\n",
        "\n",
        "  - star - star and total_ratings in same column [seperate] [done]\n",
        "  - seperate time into hours and minutes [done]\n",
        "  - [maybe an issuse]author - more than one author are present  \n",
        "  - [maybe an issuse]narrator - more than one narrator are present\n",
        "  "
      ],
      "metadata": {
        "id": "qiO0U2025Bc_"
      }
    },
    {
      "cell_type": "markdown",
      "source": [
        "# 5. Automatic assessment"
      ],
      "metadata": {
        "id": "CEjDhtqn8St3"
      }
    },
    {
      "cell_type": "markdown",
      "source": [
        "## full"
      ],
      "metadata": {
        "id": "0ZjHkaKZBy9E"
      }
    },
    {
      "cell_type": "markdown",
      "source": [
        "### head"
      ],
      "metadata": {
        "id": "zsgtK7qKB7KY"
      }
    },
    {
      "cell_type": "code",
      "source": [
        "audible.duplicated().sum()"
      ],
      "metadata": {
        "colab": {
          "base_uri": "https://localhost:8080/"
        },
        "id": "2K8Lo4XxB0n8",
        "outputId": "4602d312-1256-4341-93cb-e6794aafed6c"
      },
      "execution_count": 9,
      "outputs": [
        {
          "output_type": "execute_result",
          "data": {
            "text/plain": [
              "0"
            ]
          },
          "metadata": {},
          "execution_count": 9
        }
      ]
    },
    {
      "cell_type": "markdown",
      "source": [],
      "metadata": {
        "id": "MynmYkgpB6cx"
      }
    },
    {
      "cell_type": "markdown",
      "source": [
        "## 1. name"
      ],
      "metadata": {
        "id": "8qOAH5PC8k6p"
      }
    },
    {
      "cell_type": "markdown",
      "source": [
        "### head, tail & sample\n",
        "\n",
        "- name corrupted"
      ],
      "metadata": {
        "id": "PHot1ZlM9Jru"
      }
    },
    {
      "cell_type": "code",
      "source": [
        "audible['name'].head()"
      ],
      "metadata": {
        "colab": {
          "base_uri": "https://localhost:8080/"
        },
        "id": "BMjZ1Op54zgE",
        "outputId": "48eac450-c000-47ee-a9e7-a463bcdae676"
      },
      "execution_count": 10,
      "outputs": [
        {
          "output_type": "execute_result",
          "data": {
            "text/plain": [
              "0                    Geronimo Stilton #11 & #12\n",
              "1                              The Burning Maze\n",
              "2                                  The Deep End\n",
              "3                          Daughter of the Deep\n",
              "4    The Lightning Thief: Percy Jackson, Book 1\n",
              "Name: name, dtype: object"
            ]
          },
          "metadata": {},
          "execution_count": 10
        }
      ]
    },
    {
      "cell_type": "code",
      "source": [
        "audible['name'].tail()"
      ],
      "metadata": {
        "colab": {
          "base_uri": "https://localhost:8080/"
        },
        "id": "0rr6LMAO9P5O",
        "outputId": "2baf22df-4102-4739-976a-a5432750eb94"
      },
      "execution_count": 11,
      "outputs": [
        {
          "output_type": "execute_result",
          "data": {
            "text/plain": [
              "87484    Last Days of the Bus Club\n",
              "87485                     The Alps\n",
              "87486         The Innocents Abroad\n",
              "87487        A Sentimental Journey\n",
              "87488                       Havana\n",
              "Name: name, dtype: object"
            ]
          },
          "metadata": {},
          "execution_count": 11
        }
      ]
    },
    {
      "cell_type": "code",
      "source": [
        "audible.sample(5)"
      ],
      "metadata": {
        "colab": {
          "base_uri": "https://localhost:8080/",
          "height": 583
        },
        "id": "TBtM5dpQ9UgJ",
        "outputId": "4c2a5002-3201-4332-c85d-3df483b68eef"
      },
      "execution_count": 12,
      "outputs": [
        {
          "output_type": "execute_result",
          "data": {
            "text/plain": [
              "                                         name  \\\n",
              "68374           Lezioni sulla divina umanitÃ    \n",
              "7683               I'm Terrified of Bath Time   \n",
              "19278  Living Biographies of Famous Novelists   \n",
              "26155                        Unnatural Causes   \n",
              "70654                 The Sunday Potluck Club   \n",
              "\n",
              "                                        author                      narrator  \\\n",
              "68374              Writtenby:VladimirSolov'Ã«v     Narratedby:SilviaCecchini   \n",
              "7683   Writtenby:SimonRich,TomToro-illustrator          Narratedby:SimonRich   \n",
              "19278      Writtenby:HenryThomas,DanaLeeThomas         Narratedby:PatBottino   \n",
              "26155              Writtenby:DrRichardShepherd  Narratedby:DrRichardShepherd   \n",
              "70654                   Writtenby:MelissaStorm    Narratedby:StephanieCozart   \n",
              "\n",
              "                     time          releasedate language  \\\n",
              "68374   7 hrs and 13 mins  2017-01-06 00:00:00  italian   \n",
              "7683               4 mins  2022-05-04 00:00:00  English   \n",
              "19278  10 hrs and 42 mins  2000-12-06 00:00:00  English   \n",
              "26155  11 hrs and 46 mins             20-09-18  English   \n",
              "70654   7 hrs and 43 mins             31-03-20  English   \n",
              "\n",
              "                          stars price  \n",
              "68374             Not rated yet   113  \n",
              "7683              Not rated yet   500  \n",
              "19278             Not rated yet   773  \n",
              "26155  5 out of 5 stars1 rating   820  \n",
              "70654             Not rated yet   703  "
            ],
            "text/html": [
              "\n",
              "  <div id=\"df-f2e17be1-cd42-4172-9ef4-3050d9f07873\">\n",
              "    <div class=\"colab-df-container\">\n",
              "      <div>\n",
              "<style scoped>\n",
              "    .dataframe tbody tr th:only-of-type {\n",
              "        vertical-align: middle;\n",
              "    }\n",
              "\n",
              "    .dataframe tbody tr th {\n",
              "        vertical-align: top;\n",
              "    }\n",
              "\n",
              "    .dataframe thead th {\n",
              "        text-align: right;\n",
              "    }\n",
              "</style>\n",
              "<table border=\"1\" class=\"dataframe\">\n",
              "  <thead>\n",
              "    <tr style=\"text-align: right;\">\n",
              "      <th></th>\n",
              "      <th>name</th>\n",
              "      <th>author</th>\n",
              "      <th>narrator</th>\n",
              "      <th>time</th>\n",
              "      <th>releasedate</th>\n",
              "      <th>language</th>\n",
              "      <th>stars</th>\n",
              "      <th>price</th>\n",
              "    </tr>\n",
              "  </thead>\n",
              "  <tbody>\n",
              "    <tr>\n",
              "      <th>68374</th>\n",
              "      <td>Lezioni sulla divina umanitÃ</td>\n",
              "      <td>Writtenby:VladimirSolov'Ã«v</td>\n",
              "      <td>Narratedby:SilviaCecchini</td>\n",
              "      <td>7 hrs and 13 mins</td>\n",
              "      <td>2017-01-06 00:00:00</td>\n",
              "      <td>italian</td>\n",
              "      <td>Not rated yet</td>\n",
              "      <td>113</td>\n",
              "    </tr>\n",
              "    <tr>\n",
              "      <th>7683</th>\n",
              "      <td>I'm Terrified of Bath Time</td>\n",
              "      <td>Writtenby:SimonRich,TomToro-illustrator</td>\n",
              "      <td>Narratedby:SimonRich</td>\n",
              "      <td>4 mins</td>\n",
              "      <td>2022-05-04 00:00:00</td>\n",
              "      <td>English</td>\n",
              "      <td>Not rated yet</td>\n",
              "      <td>500</td>\n",
              "    </tr>\n",
              "    <tr>\n",
              "      <th>19278</th>\n",
              "      <td>Living Biographies of Famous Novelists</td>\n",
              "      <td>Writtenby:HenryThomas,DanaLeeThomas</td>\n",
              "      <td>Narratedby:PatBottino</td>\n",
              "      <td>10 hrs and 42 mins</td>\n",
              "      <td>2000-12-06 00:00:00</td>\n",
              "      <td>English</td>\n",
              "      <td>Not rated yet</td>\n",
              "      <td>773</td>\n",
              "    </tr>\n",
              "    <tr>\n",
              "      <th>26155</th>\n",
              "      <td>Unnatural Causes</td>\n",
              "      <td>Writtenby:DrRichardShepherd</td>\n",
              "      <td>Narratedby:DrRichardShepherd</td>\n",
              "      <td>11 hrs and 46 mins</td>\n",
              "      <td>20-09-18</td>\n",
              "      <td>English</td>\n",
              "      <td>5 out of 5 stars1 rating</td>\n",
              "      <td>820</td>\n",
              "    </tr>\n",
              "    <tr>\n",
              "      <th>70654</th>\n",
              "      <td>The Sunday Potluck Club</td>\n",
              "      <td>Writtenby:MelissaStorm</td>\n",
              "      <td>Narratedby:StephanieCozart</td>\n",
              "      <td>7 hrs and 43 mins</td>\n",
              "      <td>31-03-20</td>\n",
              "      <td>English</td>\n",
              "      <td>Not rated yet</td>\n",
              "      <td>703</td>\n",
              "    </tr>\n",
              "  </tbody>\n",
              "</table>\n",
              "</div>\n",
              "      <button class=\"colab-df-convert\" onclick=\"convertToInteractive('df-f2e17be1-cd42-4172-9ef4-3050d9f07873')\"\n",
              "              title=\"Convert this dataframe to an interactive table.\"\n",
              "              style=\"display:none;\">\n",
              "        \n",
              "  <svg xmlns=\"http://www.w3.org/2000/svg\" height=\"24px\"viewBox=\"0 0 24 24\"\n",
              "       width=\"24px\">\n",
              "    <path d=\"M0 0h24v24H0V0z\" fill=\"none\"/>\n",
              "    <path d=\"M18.56 5.44l.94 2.06.94-2.06 2.06-.94-2.06-.94-.94-2.06-.94 2.06-2.06.94zm-11 1L8.5 8.5l.94-2.06 2.06-.94-2.06-.94L8.5 2.5l-.94 2.06-2.06.94zm10 10l.94 2.06.94-2.06 2.06-.94-2.06-.94-.94-2.06-.94 2.06-2.06.94z\"/><path d=\"M17.41 7.96l-1.37-1.37c-.4-.4-.92-.59-1.43-.59-.52 0-1.04.2-1.43.59L10.3 9.45l-7.72 7.72c-.78.78-.78 2.05 0 2.83L4 21.41c.39.39.9.59 1.41.59.51 0 1.02-.2 1.41-.59l7.78-7.78 2.81-2.81c.8-.78.8-2.07 0-2.86zM5.41 20L4 18.59l7.72-7.72 1.47 1.35L5.41 20z\"/>\n",
              "  </svg>\n",
              "      </button>\n",
              "      \n",
              "  <style>\n",
              "    .colab-df-container {\n",
              "      display:flex;\n",
              "      flex-wrap:wrap;\n",
              "      gap: 12px;\n",
              "    }\n",
              "\n",
              "    .colab-df-convert {\n",
              "      background-color: #E8F0FE;\n",
              "      border: none;\n",
              "      border-radius: 50%;\n",
              "      cursor: pointer;\n",
              "      display: none;\n",
              "      fill: #1967D2;\n",
              "      height: 32px;\n",
              "      padding: 0 0 0 0;\n",
              "      width: 32px;\n",
              "    }\n",
              "\n",
              "    .colab-df-convert:hover {\n",
              "      background-color: #E2EBFA;\n",
              "      box-shadow: 0px 1px 2px rgba(60, 64, 67, 0.3), 0px 1px 3px 1px rgba(60, 64, 67, 0.15);\n",
              "      fill: #174EA6;\n",
              "    }\n",
              "\n",
              "    [theme=dark] .colab-df-convert {\n",
              "      background-color: #3B4455;\n",
              "      fill: #D2E3FC;\n",
              "    }\n",
              "\n",
              "    [theme=dark] .colab-df-convert:hover {\n",
              "      background-color: #434B5C;\n",
              "      box-shadow: 0px 1px 3px 1px rgba(0, 0, 0, 0.15);\n",
              "      filter: drop-shadow(0px 1px 2px rgba(0, 0, 0, 0.3));\n",
              "      fill: #FFFFFF;\n",
              "    }\n",
              "  </style>\n",
              "\n",
              "      <script>\n",
              "        const buttonEl =\n",
              "          document.querySelector('#df-f2e17be1-cd42-4172-9ef4-3050d9f07873 button.colab-df-convert');\n",
              "        buttonEl.style.display =\n",
              "          google.colab.kernel.accessAllowed ? 'block' : 'none';\n",
              "\n",
              "        async function convertToInteractive(key) {\n",
              "          const element = document.querySelector('#df-f2e17be1-cd42-4172-9ef4-3050d9f07873');\n",
              "          const dataTable =\n",
              "            await google.colab.kernel.invokeFunction('convertToInteractive',\n",
              "                                                     [key], {});\n",
              "          if (!dataTable) return;\n",
              "\n",
              "          const docLinkHtml = 'Like what you see? Visit the ' +\n",
              "            '<a target=\"_blank\" href=https://colab.research.google.com/notebooks/data_table.ipynb>data table notebook</a>'\n",
              "            + ' to learn more about interactive tables.';\n",
              "          element.innerHTML = '';\n",
              "          dataTable['output_type'] = 'display_data';\n",
              "          await google.colab.output.renderOutput(dataTable, element);\n",
              "          const docLink = document.createElement('div');\n",
              "          docLink.innerHTML = docLinkHtml;\n",
              "          element.appendChild(docLink);\n",
              "        }\n",
              "      </script>\n",
              "    </div>\n",
              "  </div>\n",
              "  "
            ]
          },
          "metadata": {},
          "execution_count": 12
        }
      ]
    },
    {
      "cell_type": "code",
      "source": [
        "audible['name'].count()-audible['name'].str.isalpha().sum()"
      ],
      "metadata": {
        "colab": {
          "base_uri": "https://localhost:8080/"
        },
        "id": "F5AVRlv3-KeZ",
        "outputId": "1ae8cbd8-d5fb-4410-bbae-af186f131efd"
      },
      "execution_count": 13,
      "outputs": [
        {
          "output_type": "execute_result",
          "data": {
            "text/plain": [
              "80551"
            ]
          },
          "metadata": {},
          "execution_count": 13
        }
      ]
    },
    {
      "cell_type": "code",
      "source": [
        "audible['name'].str.isalpha().replace(np.nan,False)"
      ],
      "metadata": {
        "id": "oCmtxK9Q-Ktd",
        "colab": {
          "base_uri": "https://localhost:8080/"
        },
        "outputId": "b14d5ae6-66b9-4352-cb6c-488e2d6fe88c"
      },
      "execution_count": 14,
      "outputs": [
        {
          "output_type": "execute_result",
          "data": {
            "text/plain": [
              "0        False\n",
              "1        False\n",
              "2        False\n",
              "3        False\n",
              "4        False\n",
              "         ...  \n",
              "87484    False\n",
              "87485    False\n",
              "87486    False\n",
              "87487    False\n",
              "87488     True\n",
              "Name: name, Length: 87489, dtype: bool"
            ]
          },
          "metadata": {},
          "execution_count": 14
        }
      ]
    },
    {
      "cell_type": "code",
      "source": [
        "import re"
      ],
      "metadata": {
        "id": "JvJRfgJd5PUS"
      },
      "execution_count": 15,
      "outputs": []
    },
    {
      "cell_type": "code",
      "source": [
        "print(audible.iloc[15689]['name'])\n",
        "print(audible.iloc[15689]['name'].isalpha())"
      ],
      "metadata": {
        "colab": {
          "base_uri": "https://localhost:8080/"
        },
        "id": "c3niEla4-K0w",
        "outputId": "43c91819-813b-46be-f732-a2c082a46b59"
      },
      "execution_count": 16,
      "outputs": [
        {
          "output_type": "stream",
          "name": "stdout",
          "text": [
            "ç¬¬355å›ž æ–°åˆŠãƒ©ã‚¸ã‚ªç¬¬2éƒ¨ãƒ—ãƒ¬ãƒŸã‚¢ãƒ ã€€\n",
            "False\n"
          ]
        }
      ]
    },
    {
      "cell_type": "code",
      "source": [
        "audible.iloc[15687:]"
      ],
      "metadata": {
        "colab": {
          "base_uri": "https://localhost:8080/",
          "height": 832
        },
        "id": "MD01itPE3vYb",
        "outputId": "a81cdea2-54d3-4450-f616-994d93598baf"
      },
      "execution_count": 17,
      "outputs": [
        {
          "output_type": "execute_result",
          "data": {
            "text/plain": [
              "                                                    name  \\\n",
              "15687  ç¬¬352å›ž æ–°åˆŠãƒ©ã‚¸ã‚ªç¬¬2éƒ¨ãƒ—ãƒ¬ãƒŸã‚¢ãƒ...   \n",
              "15688  ç¬¬842å›ž æ–°åˆŠãƒ©ã‚¸ã‚ªç¬¬2éƒ¨ãƒ—ãƒ¬ãƒŸã‚¢ãƒ...   \n",
              "15689  ç¬¬355å›ž æ–°åˆŠãƒ©ã‚¸ã‚ªç¬¬2éƒ¨ãƒ—ãƒ¬ãƒŸã‚¢ãƒ...   \n",
              "15690  ç¬¬156å›ž æ–°åˆŠãƒ©ã‚¸ã‚ªç¬¬2éƒ¨ãƒ—ãƒ¬ãƒŸã‚¢ãƒ...   \n",
              "15691  ç¬¬65å›ž æ–°åˆŠãƒ©ã‚¸ã‚ªç¬¬2éƒ¨ãƒ—ãƒ¬ãƒŸã‚¢ãƒ ã€€   \n",
              "...                                                  ...   \n",
              "87484                          Last Days of the Bus Club   \n",
              "87485                                           The Alps   \n",
              "87486                               The Innocents Abroad   \n",
              "87487                              A Sentimental Journey   \n",
              "87488                                             Havana   \n",
              "\n",
              "                                 author                           narrator  \\\n",
              "15687  Writtenby:çŸ¢å³¶é›…å¼˜,çŸ³æ©‹éŠ  Narratedby:çŸ¢å³¶é›…å¼˜,çŸ³æ©‹éŠ   \n",
              "15688  Writtenby:çŸ¢å³¶é›…å¼˜,çŸ³æ©‹éŠ  Narratedby:çŸ¢å³¶é›…å¼˜,çŸ³æ©‹éŠ   \n",
              "15689  Writtenby:çŸ¢å³¶é›…å¼˜,çŸ³æ©‹éŠ  Narratedby:çŸ¢å³¶é›…å¼˜,çŸ³æ©‹éŠ   \n",
              "15690  Writtenby:çŸ¢å³¶é›…å¼˜,çŸ³æ©‹éŠ  Narratedby:çŸ¢å³¶é›…å¼˜,çŸ³æ©‹éŠ   \n",
              "15691  Writtenby:çŸ¢å³¶é›…å¼˜,çŸ³æ©‹éŠ  Narratedby:çŸ¢å³¶é›…å¼˜,çŸ³æ©‹éŠ   \n",
              "...                                 ...                                ...   \n",
              "87484            Writtenby:ChrisStewart            Narratedby:ChrisStewart   \n",
              "87485           Writtenby:StephenO'Shea              Narratedby:RobertFass   \n",
              "87486               Writtenby:MarkTwain               Narratedby:FloGibson   \n",
              "87487          Writtenby:LaurenceSterne             Narratedby:AntonLesser   \n",
              "87488           Writtenby:MarkKurlansky             Narratedby:FleetCooper   \n",
              "\n",
              "                    time          releasedate  language          stars price  \n",
              "15687            29 mins             16-05-18  japanese  Not rated yet   139  \n",
              "15688            32 mins             16-05-18  japanese  Not rated yet   139  \n",
              "15689            16 mins             15-05-18  japanese  Not rated yet   139  \n",
              "15690            25 mins             16-05-18  japanese  Not rated yet   139  \n",
              "15691            18 mins             16-05-18  japanese  Not rated yet   139  \n",
              "...                  ...                  ...       ...            ...   ...  \n",
              "87484  7 hrs and 34 mins  2017-09-03 00:00:00   English  Not rated yet   596  \n",
              "87485  10 hrs and 7 mins             21-02-17   English  Not rated yet   820  \n",
              "87486  19 hrs and 4 mins             30-12-16   English  Not rated yet   938  \n",
              "87487   4 hrs and 8 mins             23-02-11   English  Not rated yet   680  \n",
              "87488    6 hrs and 1 min  2017-07-03 00:00:00   English  Not rated yet   569  \n",
              "\n",
              "[71802 rows x 8 columns]"
            ],
            "text/html": [
              "\n",
              "  <div id=\"df-d18a2e56-3a0c-4e8d-90e8-f70705cfb5cf\">\n",
              "    <div class=\"colab-df-container\">\n",
              "      <div>\n",
              "<style scoped>\n",
              "    .dataframe tbody tr th:only-of-type {\n",
              "        vertical-align: middle;\n",
              "    }\n",
              "\n",
              "    .dataframe tbody tr th {\n",
              "        vertical-align: top;\n",
              "    }\n",
              "\n",
              "    .dataframe thead th {\n",
              "        text-align: right;\n",
              "    }\n",
              "</style>\n",
              "<table border=\"1\" class=\"dataframe\">\n",
              "  <thead>\n",
              "    <tr style=\"text-align: right;\">\n",
              "      <th></th>\n",
              "      <th>name</th>\n",
              "      <th>author</th>\n",
              "      <th>narrator</th>\n",
              "      <th>time</th>\n",
              "      <th>releasedate</th>\n",
              "      <th>language</th>\n",
              "      <th>stars</th>\n",
              "      <th>price</th>\n",
              "    </tr>\n",
              "  </thead>\n",
              "  <tbody>\n",
              "    <tr>\n",
              "      <th>15687</th>\n",
              "      <td>ç¬¬352å›ž æ–°åˆŠãƒ©ã‚¸ã‚ªç¬¬2éƒ¨ãƒ—ãƒ¬ãƒŸã‚¢ãƒ...</td>\n",
              "      <td>Writtenby:çŸ¢å³¶é›…å¼˜,çŸ³æ©‹éŠ</td>\n",
              "      <td>Narratedby:çŸ¢å³¶é›…å¼˜,çŸ³æ©‹éŠ</td>\n",
              "      <td>29 mins</td>\n",
              "      <td>16-05-18</td>\n",
              "      <td>japanese</td>\n",
              "      <td>Not rated yet</td>\n",
              "      <td>139</td>\n",
              "    </tr>\n",
              "    <tr>\n",
              "      <th>15688</th>\n",
              "      <td>ç¬¬842å›ž æ–°åˆŠãƒ©ã‚¸ã‚ªç¬¬2éƒ¨ãƒ—ãƒ¬ãƒŸã‚¢ãƒ...</td>\n",
              "      <td>Writtenby:çŸ¢å³¶é›…å¼˜,çŸ³æ©‹éŠ</td>\n",
              "      <td>Narratedby:çŸ¢å³¶é›…å¼˜,çŸ³æ©‹éŠ</td>\n",
              "      <td>32 mins</td>\n",
              "      <td>16-05-18</td>\n",
              "      <td>japanese</td>\n",
              "      <td>Not rated yet</td>\n",
              "      <td>139</td>\n",
              "    </tr>\n",
              "    <tr>\n",
              "      <th>15689</th>\n",
              "      <td>ç¬¬355å›ž æ–°åˆŠãƒ©ã‚¸ã‚ªç¬¬2éƒ¨ãƒ—ãƒ¬ãƒŸã‚¢ãƒ...</td>\n",
              "      <td>Writtenby:çŸ¢å³¶é›…å¼˜,çŸ³æ©‹éŠ</td>\n",
              "      <td>Narratedby:çŸ¢å³¶é›…å¼˜,çŸ³æ©‹éŠ</td>\n",
              "      <td>16 mins</td>\n",
              "      <td>15-05-18</td>\n",
              "      <td>japanese</td>\n",
              "      <td>Not rated yet</td>\n",
              "      <td>139</td>\n",
              "    </tr>\n",
              "    <tr>\n",
              "      <th>15690</th>\n",
              "      <td>ç¬¬156å›ž æ–°åˆŠãƒ©ã‚¸ã‚ªç¬¬2éƒ¨ãƒ—ãƒ¬ãƒŸã‚¢ãƒ...</td>\n",
              "      <td>Writtenby:çŸ¢å³¶é›…å¼˜,çŸ³æ©‹éŠ</td>\n",
              "      <td>Narratedby:çŸ¢å³¶é›…å¼˜,çŸ³æ©‹éŠ</td>\n",
              "      <td>25 mins</td>\n",
              "      <td>16-05-18</td>\n",
              "      <td>japanese</td>\n",
              "      <td>Not rated yet</td>\n",
              "      <td>139</td>\n",
              "    </tr>\n",
              "    <tr>\n",
              "      <th>15691</th>\n",
              "      <td>ç¬¬65å›ž æ–°åˆŠãƒ©ã‚¸ã‚ªç¬¬2éƒ¨ãƒ—ãƒ¬ãƒŸã‚¢ãƒ ã€€</td>\n",
              "      <td>Writtenby:çŸ¢å³¶é›…å¼˜,çŸ³æ©‹éŠ</td>\n",
              "      <td>Narratedby:çŸ¢å³¶é›…å¼˜,çŸ³æ©‹éŠ</td>\n",
              "      <td>18 mins</td>\n",
              "      <td>16-05-18</td>\n",
              "      <td>japanese</td>\n",
              "      <td>Not rated yet</td>\n",
              "      <td>139</td>\n",
              "    </tr>\n",
              "    <tr>\n",
              "      <th>...</th>\n",
              "      <td>...</td>\n",
              "      <td>...</td>\n",
              "      <td>...</td>\n",
              "      <td>...</td>\n",
              "      <td>...</td>\n",
              "      <td>...</td>\n",
              "      <td>...</td>\n",
              "      <td>...</td>\n",
              "    </tr>\n",
              "    <tr>\n",
              "      <th>87484</th>\n",
              "      <td>Last Days of the Bus Club</td>\n",
              "      <td>Writtenby:ChrisStewart</td>\n",
              "      <td>Narratedby:ChrisStewart</td>\n",
              "      <td>7 hrs and 34 mins</td>\n",
              "      <td>2017-09-03 00:00:00</td>\n",
              "      <td>English</td>\n",
              "      <td>Not rated yet</td>\n",
              "      <td>596</td>\n",
              "    </tr>\n",
              "    <tr>\n",
              "      <th>87485</th>\n",
              "      <td>The Alps</td>\n",
              "      <td>Writtenby:StephenO'Shea</td>\n",
              "      <td>Narratedby:RobertFass</td>\n",
              "      <td>10 hrs and 7 mins</td>\n",
              "      <td>21-02-17</td>\n",
              "      <td>English</td>\n",
              "      <td>Not rated yet</td>\n",
              "      <td>820</td>\n",
              "    </tr>\n",
              "    <tr>\n",
              "      <th>87486</th>\n",
              "      <td>The Innocents Abroad</td>\n",
              "      <td>Writtenby:MarkTwain</td>\n",
              "      <td>Narratedby:FloGibson</td>\n",
              "      <td>19 hrs and 4 mins</td>\n",
              "      <td>30-12-16</td>\n",
              "      <td>English</td>\n",
              "      <td>Not rated yet</td>\n",
              "      <td>938</td>\n",
              "    </tr>\n",
              "    <tr>\n",
              "      <th>87487</th>\n",
              "      <td>A Sentimental Journey</td>\n",
              "      <td>Writtenby:LaurenceSterne</td>\n",
              "      <td>Narratedby:AntonLesser</td>\n",
              "      <td>4 hrs and 8 mins</td>\n",
              "      <td>23-02-11</td>\n",
              "      <td>English</td>\n",
              "      <td>Not rated yet</td>\n",
              "      <td>680</td>\n",
              "    </tr>\n",
              "    <tr>\n",
              "      <th>87488</th>\n",
              "      <td>Havana</td>\n",
              "      <td>Writtenby:MarkKurlansky</td>\n",
              "      <td>Narratedby:FleetCooper</td>\n",
              "      <td>6 hrs and 1 min</td>\n",
              "      <td>2017-07-03 00:00:00</td>\n",
              "      <td>English</td>\n",
              "      <td>Not rated yet</td>\n",
              "      <td>569</td>\n",
              "    </tr>\n",
              "  </tbody>\n",
              "</table>\n",
              "<p>71802 rows × 8 columns</p>\n",
              "</div>\n",
              "      <button class=\"colab-df-convert\" onclick=\"convertToInteractive('df-d18a2e56-3a0c-4e8d-90e8-f70705cfb5cf')\"\n",
              "              title=\"Convert this dataframe to an interactive table.\"\n",
              "              style=\"display:none;\">\n",
              "        \n",
              "  <svg xmlns=\"http://www.w3.org/2000/svg\" height=\"24px\"viewBox=\"0 0 24 24\"\n",
              "       width=\"24px\">\n",
              "    <path d=\"M0 0h24v24H0V0z\" fill=\"none\"/>\n",
              "    <path d=\"M18.56 5.44l.94 2.06.94-2.06 2.06-.94-2.06-.94-.94-2.06-.94 2.06-2.06.94zm-11 1L8.5 8.5l.94-2.06 2.06-.94-2.06-.94L8.5 2.5l-.94 2.06-2.06.94zm10 10l.94 2.06.94-2.06 2.06-.94-2.06-.94-.94-2.06-.94 2.06-2.06.94z\"/><path d=\"M17.41 7.96l-1.37-1.37c-.4-.4-.92-.59-1.43-.59-.52 0-1.04.2-1.43.59L10.3 9.45l-7.72 7.72c-.78.78-.78 2.05 0 2.83L4 21.41c.39.39.9.59 1.41.59.51 0 1.02-.2 1.41-.59l7.78-7.78 2.81-2.81c.8-.78.8-2.07 0-2.86zM5.41 20L4 18.59l7.72-7.72 1.47 1.35L5.41 20z\"/>\n",
              "  </svg>\n",
              "      </button>\n",
              "      \n",
              "  <style>\n",
              "    .colab-df-container {\n",
              "      display:flex;\n",
              "      flex-wrap:wrap;\n",
              "      gap: 12px;\n",
              "    }\n",
              "\n",
              "    .colab-df-convert {\n",
              "      background-color: #E8F0FE;\n",
              "      border: none;\n",
              "      border-radius: 50%;\n",
              "      cursor: pointer;\n",
              "      display: none;\n",
              "      fill: #1967D2;\n",
              "      height: 32px;\n",
              "      padding: 0 0 0 0;\n",
              "      width: 32px;\n",
              "    }\n",
              "\n",
              "    .colab-df-convert:hover {\n",
              "      background-color: #E2EBFA;\n",
              "      box-shadow: 0px 1px 2px rgba(60, 64, 67, 0.3), 0px 1px 3px 1px rgba(60, 64, 67, 0.15);\n",
              "      fill: #174EA6;\n",
              "    }\n",
              "\n",
              "    [theme=dark] .colab-df-convert {\n",
              "      background-color: #3B4455;\n",
              "      fill: #D2E3FC;\n",
              "    }\n",
              "\n",
              "    [theme=dark] .colab-df-convert:hover {\n",
              "      background-color: #434B5C;\n",
              "      box-shadow: 0px 1px 3px 1px rgba(0, 0, 0, 0.15);\n",
              "      filter: drop-shadow(0px 1px 2px rgba(0, 0, 0, 0.3));\n",
              "      fill: #FFFFFF;\n",
              "    }\n",
              "  </style>\n",
              "\n",
              "      <script>\n",
              "        const buttonEl =\n",
              "          document.querySelector('#df-d18a2e56-3a0c-4e8d-90e8-f70705cfb5cf button.colab-df-convert');\n",
              "        buttonEl.style.display =\n",
              "          google.colab.kernel.accessAllowed ? 'block' : 'none';\n",
              "\n",
              "        async function convertToInteractive(key) {\n",
              "          const element = document.querySelector('#df-d18a2e56-3a0c-4e8d-90e8-f70705cfb5cf');\n",
              "          const dataTable =\n",
              "            await google.colab.kernel.invokeFunction('convertToInteractive',\n",
              "                                                     [key], {});\n",
              "          if (!dataTable) return;\n",
              "\n",
              "          const docLinkHtml = 'Like what you see? Visit the ' +\n",
              "            '<a target=\"_blank\" href=https://colab.research.google.com/notebooks/data_table.ipynb>data table notebook</a>'\n",
              "            + ' to learn more about interactive tables.';\n",
              "          element.innerHTML = '';\n",
              "          dataTable['output_type'] = 'display_data';\n",
              "          await google.colab.output.renderOutput(dataTable, element);\n",
              "          const docLink = document.createElement('div');\n",
              "          docLink.innerHTML = docLinkHtml;\n",
              "          element.appendChild(docLink);\n",
              "        }\n",
              "      </script>\n",
              "    </div>\n",
              "  </div>\n",
              "  "
            ]
          },
          "metadata": {},
          "execution_count": 17
        }
      ]
    },
    {
      "cell_type": "markdown",
      "source": [
        "### info"
      ],
      "metadata": {
        "id": "OObnfd3R6H5U"
      }
    },
    {
      "cell_type": "code",
      "source": [
        "audible['name'].info()"
      ],
      "metadata": {
        "id": "tnI8z8IM-K6k",
        "colab": {
          "base_uri": "https://localhost:8080/"
        },
        "outputId": "c91ced3f-7619-40be-dccf-e41ac1e29e27"
      },
      "execution_count": 18,
      "outputs": [
        {
          "output_type": "stream",
          "name": "stdout",
          "text": [
            "<class 'pandas.core.series.Series'>\n",
            "RangeIndex: 87489 entries, 0 to 87488\n",
            "Series name: name\n",
            "Non-Null Count  Dtype \n",
            "--------------  ----- \n",
            "87489 non-null  object\n",
            "dtypes: object(1)\n",
            "memory usage: 683.6+ KB\n"
          ]
        }
      ]
    },
    {
      "cell_type": "markdown",
      "source": [
        "### isnull"
      ],
      "metadata": {
        "id": "XWMf7NqX6adb"
      }
    },
    {
      "cell_type": "code",
      "source": [
        "audible['name'].isnull().sum()"
      ],
      "metadata": {
        "colab": {
          "base_uri": "https://localhost:8080/"
        },
        "id": "iL9RgLFY6OIg",
        "outputId": "65e1437e-82f0-46b4-85ca-4970424a88f8"
      },
      "execution_count": 19,
      "outputs": [
        {
          "output_type": "execute_result",
          "data": {
            "text/plain": [
              "0"
            ]
          },
          "metadata": {},
          "execution_count": 19
        }
      ]
    },
    {
      "cell_type": "code",
      "source": [
        "audible[audible['name'].str.contains('#').replace(np.nan,False)]"
      ],
      "metadata": {
        "id": "W_9Y3wfE-K_r",
        "colab": {
          "base_uri": "https://localhost:8080/",
          "height": 815
        },
        "outputId": "5b466f6c-c5fb-4184-d76a-04713badb0fa"
      },
      "execution_count": 20,
      "outputs": [
        {
          "output_type": "execute_result",
          "data": {
            "text/plain": [
              "                               name                     author  \\\n",
              "0        Geronimo Stilton #11 & #12  Writtenby:GeronimoStilton   \n",
              "15     Geronimo Stilton #13 and #14  Writtenby:GeronimoStilton   \n",
              "27     Geronimo Stilton #20 and #21  Writtenby:GeronimoStilton   \n",
              "30             Geronimo Stilton #17  Writtenby:GeronimoStilton   \n",
              "36     Geronimo Stilton #15 and #16  Writtenby:GeronimoStilton   \n",
              "...                             ...                        ...   \n",
              "85017               #GoodGirlBadBoy    Writtenby:YeseniaVargas   \n",
              "85045                  #HateThatBoy    Writtenby:YeseniaVargas   \n",
              "85210            #TheRealCinderella    Writtenby:YeseniaVargas   \n",
              "85822   Art Mages of Lure Series #1      Writtenby:JordanRivet   \n",
              "85900               Eat, Pray, #FML   Writtenby:GabrielleStone   \n",
              "\n",
              "                        narrator               time          releasedate  \\\n",
              "0          Narratedby:BillLobely  2 hrs and 20 mins  2008-04-08 00:00:00   \n",
              "15         Narratedby:BillLobley  2 hrs and 25 mins  2008-08-02 00:00:00   \n",
              "27         Narratedby:BillLobley  2 hrs and 32 mins  2010-01-10 00:00:00   \n",
              "30         Narratedby:BillLobley  2 hrs and 28 mins             13-07-09   \n",
              "36         Narratedby:BillLobley  2 hrs and 43 mins  2008-08-02 00:00:00   \n",
              "...                          ...                ...                  ...   \n",
              "85017     Narratedby:KylaGarcÃ­a  4 hrs and 26 mins             27-08-19   \n",
              "85045     Narratedby:KylaGarcÃ­a  6 hrs and 12 mins  2019-06-08 00:00:00   \n",
              "85210     Narratedby:KylaGarcÃ­a  6 hrs and 29 mins  2019-09-07 00:00:00   \n",
              "85822     Narratedby:MarnyeYoung   9 hrs and 2 mins  2021-06-04 00:00:00   \n",
              "85900  Narratedby:GabrielleStone  9 hrs and 39 mins  2020-11-02 00:00:00   \n",
              "\n",
              "      language                         stars price  \n",
              "0      English    5 out of 5 stars34 ratings   468  \n",
              "15     English  4.5 out of 5 stars33 ratings   467  \n",
              "27     English    5 out of 5 stars18 ratings   469  \n",
              "30     English     5 out of 5 stars8 ratings   468  \n",
              "36     English    4 out of 5 stars28 ratings   467  \n",
              "...        ...                           ...   ...  \n",
              "85017  English                 Not rated yet   469  \n",
              "85045  English                 Not rated yet   586  \n",
              "85210  English                 Not rated yet   586  \n",
              "85822  English                 Not rated yet   586  \n",
              "85900  English   2.5 out of 5 stars2 ratings   703  \n",
              "\n",
              "[78 rows x 8 columns]"
            ],
            "text/html": [
              "\n",
              "  <div id=\"df-cebf2db6-25fd-4577-b0a5-e518e2b377cd\">\n",
              "    <div class=\"colab-df-container\">\n",
              "      <div>\n",
              "<style scoped>\n",
              "    .dataframe tbody tr th:only-of-type {\n",
              "        vertical-align: middle;\n",
              "    }\n",
              "\n",
              "    .dataframe tbody tr th {\n",
              "        vertical-align: top;\n",
              "    }\n",
              "\n",
              "    .dataframe thead th {\n",
              "        text-align: right;\n",
              "    }\n",
              "</style>\n",
              "<table border=\"1\" class=\"dataframe\">\n",
              "  <thead>\n",
              "    <tr style=\"text-align: right;\">\n",
              "      <th></th>\n",
              "      <th>name</th>\n",
              "      <th>author</th>\n",
              "      <th>narrator</th>\n",
              "      <th>time</th>\n",
              "      <th>releasedate</th>\n",
              "      <th>language</th>\n",
              "      <th>stars</th>\n",
              "      <th>price</th>\n",
              "    </tr>\n",
              "  </thead>\n",
              "  <tbody>\n",
              "    <tr>\n",
              "      <th>0</th>\n",
              "      <td>Geronimo Stilton #11 &amp; #12</td>\n",
              "      <td>Writtenby:GeronimoStilton</td>\n",
              "      <td>Narratedby:BillLobely</td>\n",
              "      <td>2 hrs and 20 mins</td>\n",
              "      <td>2008-04-08 00:00:00</td>\n",
              "      <td>English</td>\n",
              "      <td>5 out of 5 stars34 ratings</td>\n",
              "      <td>468</td>\n",
              "    </tr>\n",
              "    <tr>\n",
              "      <th>15</th>\n",
              "      <td>Geronimo Stilton #13 and #14</td>\n",
              "      <td>Writtenby:GeronimoStilton</td>\n",
              "      <td>Narratedby:BillLobley</td>\n",
              "      <td>2 hrs and 25 mins</td>\n",
              "      <td>2008-08-02 00:00:00</td>\n",
              "      <td>English</td>\n",
              "      <td>4.5 out of 5 stars33 ratings</td>\n",
              "      <td>467</td>\n",
              "    </tr>\n",
              "    <tr>\n",
              "      <th>27</th>\n",
              "      <td>Geronimo Stilton #20 and #21</td>\n",
              "      <td>Writtenby:GeronimoStilton</td>\n",
              "      <td>Narratedby:BillLobley</td>\n",
              "      <td>2 hrs and 32 mins</td>\n",
              "      <td>2010-01-10 00:00:00</td>\n",
              "      <td>English</td>\n",
              "      <td>5 out of 5 stars18 ratings</td>\n",
              "      <td>469</td>\n",
              "    </tr>\n",
              "    <tr>\n",
              "      <th>30</th>\n",
              "      <td>Geronimo Stilton #17</td>\n",
              "      <td>Writtenby:GeronimoStilton</td>\n",
              "      <td>Narratedby:BillLobley</td>\n",
              "      <td>2 hrs and 28 mins</td>\n",
              "      <td>13-07-09</td>\n",
              "      <td>English</td>\n",
              "      <td>5 out of 5 stars8 ratings</td>\n",
              "      <td>468</td>\n",
              "    </tr>\n",
              "    <tr>\n",
              "      <th>36</th>\n",
              "      <td>Geronimo Stilton #15 and #16</td>\n",
              "      <td>Writtenby:GeronimoStilton</td>\n",
              "      <td>Narratedby:BillLobley</td>\n",
              "      <td>2 hrs and 43 mins</td>\n",
              "      <td>2008-08-02 00:00:00</td>\n",
              "      <td>English</td>\n",
              "      <td>4 out of 5 stars28 ratings</td>\n",
              "      <td>467</td>\n",
              "    </tr>\n",
              "    <tr>\n",
              "      <th>...</th>\n",
              "      <td>...</td>\n",
              "      <td>...</td>\n",
              "      <td>...</td>\n",
              "      <td>...</td>\n",
              "      <td>...</td>\n",
              "      <td>...</td>\n",
              "      <td>...</td>\n",
              "      <td>...</td>\n",
              "    </tr>\n",
              "    <tr>\n",
              "      <th>85017</th>\n",
              "      <td>#GoodGirlBadBoy</td>\n",
              "      <td>Writtenby:YeseniaVargas</td>\n",
              "      <td>Narratedby:KylaGarcÃ­a</td>\n",
              "      <td>4 hrs and 26 mins</td>\n",
              "      <td>27-08-19</td>\n",
              "      <td>English</td>\n",
              "      <td>Not rated yet</td>\n",
              "      <td>469</td>\n",
              "    </tr>\n",
              "    <tr>\n",
              "      <th>85045</th>\n",
              "      <td>#HateThatBoy</td>\n",
              "      <td>Writtenby:YeseniaVargas</td>\n",
              "      <td>Narratedby:KylaGarcÃ­a</td>\n",
              "      <td>6 hrs and 12 mins</td>\n",
              "      <td>2019-06-08 00:00:00</td>\n",
              "      <td>English</td>\n",
              "      <td>Not rated yet</td>\n",
              "      <td>586</td>\n",
              "    </tr>\n",
              "    <tr>\n",
              "      <th>85210</th>\n",
              "      <td>#TheRealCinderella</td>\n",
              "      <td>Writtenby:YeseniaVargas</td>\n",
              "      <td>Narratedby:KylaGarcÃ­a</td>\n",
              "      <td>6 hrs and 29 mins</td>\n",
              "      <td>2019-09-07 00:00:00</td>\n",
              "      <td>English</td>\n",
              "      <td>Not rated yet</td>\n",
              "      <td>586</td>\n",
              "    </tr>\n",
              "    <tr>\n",
              "      <th>85822</th>\n",
              "      <td>Art Mages of Lure Series #1</td>\n",
              "      <td>Writtenby:JordanRivet</td>\n",
              "      <td>Narratedby:MarnyeYoung</td>\n",
              "      <td>9 hrs and 2 mins</td>\n",
              "      <td>2021-06-04 00:00:00</td>\n",
              "      <td>English</td>\n",
              "      <td>Not rated yet</td>\n",
              "      <td>586</td>\n",
              "    </tr>\n",
              "    <tr>\n",
              "      <th>85900</th>\n",
              "      <td>Eat, Pray, #FML</td>\n",
              "      <td>Writtenby:GabrielleStone</td>\n",
              "      <td>Narratedby:GabrielleStone</td>\n",
              "      <td>9 hrs and 39 mins</td>\n",
              "      <td>2020-11-02 00:00:00</td>\n",
              "      <td>English</td>\n",
              "      <td>2.5 out of 5 stars2 ratings</td>\n",
              "      <td>703</td>\n",
              "    </tr>\n",
              "  </tbody>\n",
              "</table>\n",
              "<p>78 rows × 8 columns</p>\n",
              "</div>\n",
              "      <button class=\"colab-df-convert\" onclick=\"convertToInteractive('df-cebf2db6-25fd-4577-b0a5-e518e2b377cd')\"\n",
              "              title=\"Convert this dataframe to an interactive table.\"\n",
              "              style=\"display:none;\">\n",
              "        \n",
              "  <svg xmlns=\"http://www.w3.org/2000/svg\" height=\"24px\"viewBox=\"0 0 24 24\"\n",
              "       width=\"24px\">\n",
              "    <path d=\"M0 0h24v24H0V0z\" fill=\"none\"/>\n",
              "    <path d=\"M18.56 5.44l.94 2.06.94-2.06 2.06-.94-2.06-.94-.94-2.06-.94 2.06-2.06.94zm-11 1L8.5 8.5l.94-2.06 2.06-.94-2.06-.94L8.5 2.5l-.94 2.06-2.06.94zm10 10l.94 2.06.94-2.06 2.06-.94-2.06-.94-.94-2.06-.94 2.06-2.06.94z\"/><path d=\"M17.41 7.96l-1.37-1.37c-.4-.4-.92-.59-1.43-.59-.52 0-1.04.2-1.43.59L10.3 9.45l-7.72 7.72c-.78.78-.78 2.05 0 2.83L4 21.41c.39.39.9.59 1.41.59.51 0 1.02-.2 1.41-.59l7.78-7.78 2.81-2.81c.8-.78.8-2.07 0-2.86zM5.41 20L4 18.59l7.72-7.72 1.47 1.35L5.41 20z\"/>\n",
              "  </svg>\n",
              "      </button>\n",
              "      \n",
              "  <style>\n",
              "    .colab-df-container {\n",
              "      display:flex;\n",
              "      flex-wrap:wrap;\n",
              "      gap: 12px;\n",
              "    }\n",
              "\n",
              "    .colab-df-convert {\n",
              "      background-color: #E8F0FE;\n",
              "      border: none;\n",
              "      border-radius: 50%;\n",
              "      cursor: pointer;\n",
              "      display: none;\n",
              "      fill: #1967D2;\n",
              "      height: 32px;\n",
              "      padding: 0 0 0 0;\n",
              "      width: 32px;\n",
              "    }\n",
              "\n",
              "    .colab-df-convert:hover {\n",
              "      background-color: #E2EBFA;\n",
              "      box-shadow: 0px 1px 2px rgba(60, 64, 67, 0.3), 0px 1px 3px 1px rgba(60, 64, 67, 0.15);\n",
              "      fill: #174EA6;\n",
              "    }\n",
              "\n",
              "    [theme=dark] .colab-df-convert {\n",
              "      background-color: #3B4455;\n",
              "      fill: #D2E3FC;\n",
              "    }\n",
              "\n",
              "    [theme=dark] .colab-df-convert:hover {\n",
              "      background-color: #434B5C;\n",
              "      box-shadow: 0px 1px 3px 1px rgba(0, 0, 0, 0.15);\n",
              "      filter: drop-shadow(0px 1px 2px rgba(0, 0, 0, 0.3));\n",
              "      fill: #FFFFFF;\n",
              "    }\n",
              "  </style>\n",
              "\n",
              "      <script>\n",
              "        const buttonEl =\n",
              "          document.querySelector('#df-cebf2db6-25fd-4577-b0a5-e518e2b377cd button.colab-df-convert');\n",
              "        buttonEl.style.display =\n",
              "          google.colab.kernel.accessAllowed ? 'block' : 'none';\n",
              "\n",
              "        async function convertToInteractive(key) {\n",
              "          const element = document.querySelector('#df-cebf2db6-25fd-4577-b0a5-e518e2b377cd');\n",
              "          const dataTable =\n",
              "            await google.colab.kernel.invokeFunction('convertToInteractive',\n",
              "                                                     [key], {});\n",
              "          if (!dataTable) return;\n",
              "\n",
              "          const docLinkHtml = 'Like what you see? Visit the ' +\n",
              "            '<a target=\"_blank\" href=https://colab.research.google.com/notebooks/data_table.ipynb>data table notebook</a>'\n",
              "            + ' to learn more about interactive tables.';\n",
              "          element.innerHTML = '';\n",
              "          dataTable['output_type'] = 'display_data';\n",
              "          await google.colab.output.renderOutput(dataTable, element);\n",
              "          const docLink = document.createElement('div');\n",
              "          docLink.innerHTML = docLinkHtml;\n",
              "          element.appendChild(docLink);\n",
              "        }\n",
              "      </script>\n",
              "    </div>\n",
              "  </div>\n",
              "  "
            ]
          },
          "metadata": {},
          "execution_count": 20
        }
      ]
    },
    {
      "cell_type": "markdown",
      "source": [
        "### duplicated\n",
        "\n",
        "- not duplicate as same book is recited by many narrators\n",
        "- check for duplicated for name,book and auther combined"
      ],
      "metadata": {
        "id": "eSPwBTA57Jut"
      }
    },
    {
      "cell_type": "code",
      "source": [
        "audible['name'].duplicated().sum()"
      ],
      "metadata": {
        "id": "7Yfla88F-LER",
        "colab": {
          "base_uri": "https://localhost:8080/"
        },
        "outputId": "0cb2330c-daaf-4045-c773-98852c84b2f2"
      },
      "execution_count": 21,
      "outputs": [
        {
          "output_type": "execute_result",
          "data": {
            "text/plain": [
              "4722"
            ]
          },
          "metadata": {},
          "execution_count": 21
        }
      ]
    },
    {
      "cell_type": "code",
      "source": [
        "audible[audible['name'].duplicated()]"
      ],
      "metadata": {
        "id": "xkjzNOpO-Lj3",
        "colab": {
          "base_uri": "https://localhost:8080/",
          "height": 1000
        },
        "outputId": "2ba6a10b-97f8-498a-d7f6-8c7960730162"
      },
      "execution_count": 22,
      "outputs": [
        {
          "output_type": "execute_result",
          "data": {
            "text/plain": [
              "                                             name  \\\n",
              "18                      Merlin Mission Collection   \n",
              "46     The Lightning Thief: Percy Jackson, Book 1   \n",
              "54                      Merlin Mission Collection   \n",
              "155                        Barbie - Superprincesa   \n",
              "273                           Barbie - Dreamtopia   \n",
              "...                                           ...   \n",
              "87443       Travels with a Donkey in the Cevennes   \n",
              "87456                                  Gettysburg   \n",
              "87457                                        Solo   \n",
              "87475                                  Wanderlust   \n",
              "87486                        The Innocents Abroad   \n",
              "\n",
              "                                           author  \\\n",
              "18                      Writtenby:MaryPopeOsborne   \n",
              "46                          Writtenby:RickRiordan   \n",
              "54                      Writtenby:MaryPopeOsborne   \n",
              "155                              Writtenby:Mattel   \n",
              "273    Writtenby:Mattel,MartaCisaMuÃ±oz-traductor   \n",
              "...                                           ...   \n",
              "87443              Writtenby:RobertLouisStevenson   \n",
              "87456                        Writtenby:JeffShaara   \n",
              "87457                          Writtenby:PenHadow   \n",
              "87475                    Writtenby:ElisabethEaves   \n",
              "87486                         Writtenby:MarkTwain   \n",
              "\n",
              "                             narrator                time  \\\n",
              "18         Narratedby:MaryPopeOsborne  10 hrs and 18 mins   \n",
              "46             Narratedby:WalterLewis   3 hrs and 51 mins   \n",
              "54         Narratedby:MaryPopeOsborne  13 hrs and 24 mins   \n",
              "155    Narratedby:VanessaPÃ©rezJurado             29 mins   \n",
              "273          Narratedby:MiriamMonlleo             21 mins   \n",
              "...                               ...                 ...   \n",
              "87443          Narratedby:DenisLawson   2 hrs and 51 mins   \n",
              "87456        Narratedby:RobertsonDean    1 hr and 12 mins   \n",
              "87457             Narratedby:PenHadow    3 hrs and 5 mins   \n",
              "87475          Narratedby:ErinBennett   9 hrs and 51 mins   \n",
              "87486            Narratedby:FloGibson   19 hrs and 4 mins   \n",
              "\n",
              "               releasedate language                       stars price  \n",
              "18     2017-02-05 00:00:00  English  5 out of 5 stars11 ratings  1256  \n",
              "46                13-01-10  English   4 out of 5 stars4 ratings   615  \n",
              "54     2017-02-05 00:00:00  English   5 out of 5 stars8 ratings  1256  \n",
              "155    2022-07-03 00:00:00  spanish               Not rated yet    38  \n",
              "273               31-01-22  catalan               Not rated yet    38  \n",
              "...                    ...      ...                         ...   ...  \n",
              "87443             13-05-08  English               Not rated yet   569  \n",
              "87456             26-03-07  English               Not rated yet   200  \n",
              "87457             14-02-05  English               Not rated yet   615  \n",
              "87475             26-02-14  English               Not rated yet   668  \n",
              "87486             30-12-16  English               Not rated yet   938  \n",
              "\n",
              "[4722 rows x 8 columns]"
            ],
            "text/html": [
              "\n",
              "  <div id=\"df-fe5eee93-1b4d-46da-bd97-1ed103294f47\">\n",
              "    <div class=\"colab-df-container\">\n",
              "      <div>\n",
              "<style scoped>\n",
              "    .dataframe tbody tr th:only-of-type {\n",
              "        vertical-align: middle;\n",
              "    }\n",
              "\n",
              "    .dataframe tbody tr th {\n",
              "        vertical-align: top;\n",
              "    }\n",
              "\n",
              "    .dataframe thead th {\n",
              "        text-align: right;\n",
              "    }\n",
              "</style>\n",
              "<table border=\"1\" class=\"dataframe\">\n",
              "  <thead>\n",
              "    <tr style=\"text-align: right;\">\n",
              "      <th></th>\n",
              "      <th>name</th>\n",
              "      <th>author</th>\n",
              "      <th>narrator</th>\n",
              "      <th>time</th>\n",
              "      <th>releasedate</th>\n",
              "      <th>language</th>\n",
              "      <th>stars</th>\n",
              "      <th>price</th>\n",
              "    </tr>\n",
              "  </thead>\n",
              "  <tbody>\n",
              "    <tr>\n",
              "      <th>18</th>\n",
              "      <td>Merlin Mission Collection</td>\n",
              "      <td>Writtenby:MaryPopeOsborne</td>\n",
              "      <td>Narratedby:MaryPopeOsborne</td>\n",
              "      <td>10 hrs and 18 mins</td>\n",
              "      <td>2017-02-05 00:00:00</td>\n",
              "      <td>English</td>\n",
              "      <td>5 out of 5 stars11 ratings</td>\n",
              "      <td>1256</td>\n",
              "    </tr>\n",
              "    <tr>\n",
              "      <th>46</th>\n",
              "      <td>The Lightning Thief: Percy Jackson, Book 1</td>\n",
              "      <td>Writtenby:RickRiordan</td>\n",
              "      <td>Narratedby:WalterLewis</td>\n",
              "      <td>3 hrs and 51 mins</td>\n",
              "      <td>13-01-10</td>\n",
              "      <td>English</td>\n",
              "      <td>4 out of 5 stars4 ratings</td>\n",
              "      <td>615</td>\n",
              "    </tr>\n",
              "    <tr>\n",
              "      <th>54</th>\n",
              "      <td>Merlin Mission Collection</td>\n",
              "      <td>Writtenby:MaryPopeOsborne</td>\n",
              "      <td>Narratedby:MaryPopeOsborne</td>\n",
              "      <td>13 hrs and 24 mins</td>\n",
              "      <td>2017-02-05 00:00:00</td>\n",
              "      <td>English</td>\n",
              "      <td>5 out of 5 stars8 ratings</td>\n",
              "      <td>1256</td>\n",
              "    </tr>\n",
              "    <tr>\n",
              "      <th>155</th>\n",
              "      <td>Barbie - Superprincesa</td>\n",
              "      <td>Writtenby:Mattel</td>\n",
              "      <td>Narratedby:VanessaPÃ©rezJurado</td>\n",
              "      <td>29 mins</td>\n",
              "      <td>2022-07-03 00:00:00</td>\n",
              "      <td>spanish</td>\n",
              "      <td>Not rated yet</td>\n",
              "      <td>38</td>\n",
              "    </tr>\n",
              "    <tr>\n",
              "      <th>273</th>\n",
              "      <td>Barbie - Dreamtopia</td>\n",
              "      <td>Writtenby:Mattel,MartaCisaMuÃ±oz-traductor</td>\n",
              "      <td>Narratedby:MiriamMonlleo</td>\n",
              "      <td>21 mins</td>\n",
              "      <td>31-01-22</td>\n",
              "      <td>catalan</td>\n",
              "      <td>Not rated yet</td>\n",
              "      <td>38</td>\n",
              "    </tr>\n",
              "    <tr>\n",
              "      <th>...</th>\n",
              "      <td>...</td>\n",
              "      <td>...</td>\n",
              "      <td>...</td>\n",
              "      <td>...</td>\n",
              "      <td>...</td>\n",
              "      <td>...</td>\n",
              "      <td>...</td>\n",
              "      <td>...</td>\n",
              "    </tr>\n",
              "    <tr>\n",
              "      <th>87443</th>\n",
              "      <td>Travels with a Donkey in the Cevennes</td>\n",
              "      <td>Writtenby:RobertLouisStevenson</td>\n",
              "      <td>Narratedby:DenisLawson</td>\n",
              "      <td>2 hrs and 51 mins</td>\n",
              "      <td>13-05-08</td>\n",
              "      <td>English</td>\n",
              "      <td>Not rated yet</td>\n",
              "      <td>569</td>\n",
              "    </tr>\n",
              "    <tr>\n",
              "      <th>87456</th>\n",
              "      <td>Gettysburg</td>\n",
              "      <td>Writtenby:JeffShaara</td>\n",
              "      <td>Narratedby:RobertsonDean</td>\n",
              "      <td>1 hr and 12 mins</td>\n",
              "      <td>26-03-07</td>\n",
              "      <td>English</td>\n",
              "      <td>Not rated yet</td>\n",
              "      <td>200</td>\n",
              "    </tr>\n",
              "    <tr>\n",
              "      <th>87457</th>\n",
              "      <td>Solo</td>\n",
              "      <td>Writtenby:PenHadow</td>\n",
              "      <td>Narratedby:PenHadow</td>\n",
              "      <td>3 hrs and 5 mins</td>\n",
              "      <td>14-02-05</td>\n",
              "      <td>English</td>\n",
              "      <td>Not rated yet</td>\n",
              "      <td>615</td>\n",
              "    </tr>\n",
              "    <tr>\n",
              "      <th>87475</th>\n",
              "      <td>Wanderlust</td>\n",
              "      <td>Writtenby:ElisabethEaves</td>\n",
              "      <td>Narratedby:ErinBennett</td>\n",
              "      <td>9 hrs and 51 mins</td>\n",
              "      <td>26-02-14</td>\n",
              "      <td>English</td>\n",
              "      <td>Not rated yet</td>\n",
              "      <td>668</td>\n",
              "    </tr>\n",
              "    <tr>\n",
              "      <th>87486</th>\n",
              "      <td>The Innocents Abroad</td>\n",
              "      <td>Writtenby:MarkTwain</td>\n",
              "      <td>Narratedby:FloGibson</td>\n",
              "      <td>19 hrs and 4 mins</td>\n",
              "      <td>30-12-16</td>\n",
              "      <td>English</td>\n",
              "      <td>Not rated yet</td>\n",
              "      <td>938</td>\n",
              "    </tr>\n",
              "  </tbody>\n",
              "</table>\n",
              "<p>4722 rows × 8 columns</p>\n",
              "</div>\n",
              "      <button class=\"colab-df-convert\" onclick=\"convertToInteractive('df-fe5eee93-1b4d-46da-bd97-1ed103294f47')\"\n",
              "              title=\"Convert this dataframe to an interactive table.\"\n",
              "              style=\"display:none;\">\n",
              "        \n",
              "  <svg xmlns=\"http://www.w3.org/2000/svg\" height=\"24px\"viewBox=\"0 0 24 24\"\n",
              "       width=\"24px\">\n",
              "    <path d=\"M0 0h24v24H0V0z\" fill=\"none\"/>\n",
              "    <path d=\"M18.56 5.44l.94 2.06.94-2.06 2.06-.94-2.06-.94-.94-2.06-.94 2.06-2.06.94zm-11 1L8.5 8.5l.94-2.06 2.06-.94-2.06-.94L8.5 2.5l-.94 2.06-2.06.94zm10 10l.94 2.06.94-2.06 2.06-.94-2.06-.94-.94-2.06-.94 2.06-2.06.94z\"/><path d=\"M17.41 7.96l-1.37-1.37c-.4-.4-.92-.59-1.43-.59-.52 0-1.04.2-1.43.59L10.3 9.45l-7.72 7.72c-.78.78-.78 2.05 0 2.83L4 21.41c.39.39.9.59 1.41.59.51 0 1.02-.2 1.41-.59l7.78-7.78 2.81-2.81c.8-.78.8-2.07 0-2.86zM5.41 20L4 18.59l7.72-7.72 1.47 1.35L5.41 20z\"/>\n",
              "  </svg>\n",
              "      </button>\n",
              "      \n",
              "  <style>\n",
              "    .colab-df-container {\n",
              "      display:flex;\n",
              "      flex-wrap:wrap;\n",
              "      gap: 12px;\n",
              "    }\n",
              "\n",
              "    .colab-df-convert {\n",
              "      background-color: #E8F0FE;\n",
              "      border: none;\n",
              "      border-radius: 50%;\n",
              "      cursor: pointer;\n",
              "      display: none;\n",
              "      fill: #1967D2;\n",
              "      height: 32px;\n",
              "      padding: 0 0 0 0;\n",
              "      width: 32px;\n",
              "    }\n",
              "\n",
              "    .colab-df-convert:hover {\n",
              "      background-color: #E2EBFA;\n",
              "      box-shadow: 0px 1px 2px rgba(60, 64, 67, 0.3), 0px 1px 3px 1px rgba(60, 64, 67, 0.15);\n",
              "      fill: #174EA6;\n",
              "    }\n",
              "\n",
              "    [theme=dark] .colab-df-convert {\n",
              "      background-color: #3B4455;\n",
              "      fill: #D2E3FC;\n",
              "    }\n",
              "\n",
              "    [theme=dark] .colab-df-convert:hover {\n",
              "      background-color: #434B5C;\n",
              "      box-shadow: 0px 1px 3px 1px rgba(0, 0, 0, 0.15);\n",
              "      filter: drop-shadow(0px 1px 2px rgba(0, 0, 0, 0.3));\n",
              "      fill: #FFFFFF;\n",
              "    }\n",
              "  </style>\n",
              "\n",
              "      <script>\n",
              "        const buttonEl =\n",
              "          document.querySelector('#df-fe5eee93-1b4d-46da-bd97-1ed103294f47 button.colab-df-convert');\n",
              "        buttonEl.style.display =\n",
              "          google.colab.kernel.accessAllowed ? 'block' : 'none';\n",
              "\n",
              "        async function convertToInteractive(key) {\n",
              "          const element = document.querySelector('#df-fe5eee93-1b4d-46da-bd97-1ed103294f47');\n",
              "          const dataTable =\n",
              "            await google.colab.kernel.invokeFunction('convertToInteractive',\n",
              "                                                     [key], {});\n",
              "          if (!dataTable) return;\n",
              "\n",
              "          const docLinkHtml = 'Like what you see? Visit the ' +\n",
              "            '<a target=\"_blank\" href=https://colab.research.google.com/notebooks/data_table.ipynb>data table notebook</a>'\n",
              "            + ' to learn more about interactive tables.';\n",
              "          element.innerHTML = '';\n",
              "          dataTable['output_type'] = 'display_data';\n",
              "          await google.colab.output.renderOutput(dataTable, element);\n",
              "          const docLink = document.createElement('div');\n",
              "          docLink.innerHTML = docLinkHtml;\n",
              "          element.appendChild(docLink);\n",
              "        }\n",
              "      </script>\n",
              "    </div>\n",
              "  </div>\n",
              "  "
            ]
          },
          "metadata": {},
          "execution_count": 22
        }
      ]
    },
    {
      "cell_type": "code",
      "source": [
        "audible.query('name==\"Merlin Mission Collection\"')\n",
        "#not duplicate as same book is recited by many narrators"
      ],
      "metadata": {
        "id": "11HWZY-B-Lxb",
        "colab": {
          "base_uri": "https://localhost:8080/",
          "height": 292
        },
        "outputId": "5532a7a9-32eb-48ff-d0e6-6fd1a6951bf8"
      },
      "execution_count": 23,
      "outputs": [
        {
          "output_type": "execute_result",
          "data": {
            "text/plain": [
              "                         name                     author  \\\n",
              "8   Merlin Mission Collection  Writtenby:MaryPopeOsborne   \n",
              "18  Merlin Mission Collection  Writtenby:MaryPopeOsborne   \n",
              "54  Merlin Mission Collection  Writtenby:MaryPopeOsborne   \n",
              "\n",
              "                      narrator                time          releasedate  \\\n",
              "8   Narratedby:MaryPopeOsborne  10 hrs and 56 mins  2017-02-05 00:00:00   \n",
              "18  Narratedby:MaryPopeOsborne  10 hrs and 18 mins  2017-02-05 00:00:00   \n",
              "54  Narratedby:MaryPopeOsborne  13 hrs and 24 mins  2017-02-05 00:00:00   \n",
              "\n",
              "   language                       stars price  \n",
              "8   English   5 out of 5 stars5 ratings  1256  \n",
              "18  English  5 out of 5 stars11 ratings  1256  \n",
              "54  English   5 out of 5 stars8 ratings  1256  "
            ],
            "text/html": [
              "\n",
              "  <div id=\"df-004e2d3e-ba74-4834-8a8d-fbeec669be67\">\n",
              "    <div class=\"colab-df-container\">\n",
              "      <div>\n",
              "<style scoped>\n",
              "    .dataframe tbody tr th:only-of-type {\n",
              "        vertical-align: middle;\n",
              "    }\n",
              "\n",
              "    .dataframe tbody tr th {\n",
              "        vertical-align: top;\n",
              "    }\n",
              "\n",
              "    .dataframe thead th {\n",
              "        text-align: right;\n",
              "    }\n",
              "</style>\n",
              "<table border=\"1\" class=\"dataframe\">\n",
              "  <thead>\n",
              "    <tr style=\"text-align: right;\">\n",
              "      <th></th>\n",
              "      <th>name</th>\n",
              "      <th>author</th>\n",
              "      <th>narrator</th>\n",
              "      <th>time</th>\n",
              "      <th>releasedate</th>\n",
              "      <th>language</th>\n",
              "      <th>stars</th>\n",
              "      <th>price</th>\n",
              "    </tr>\n",
              "  </thead>\n",
              "  <tbody>\n",
              "    <tr>\n",
              "      <th>8</th>\n",
              "      <td>Merlin Mission Collection</td>\n",
              "      <td>Writtenby:MaryPopeOsborne</td>\n",
              "      <td>Narratedby:MaryPopeOsborne</td>\n",
              "      <td>10 hrs and 56 mins</td>\n",
              "      <td>2017-02-05 00:00:00</td>\n",
              "      <td>English</td>\n",
              "      <td>5 out of 5 stars5 ratings</td>\n",
              "      <td>1256</td>\n",
              "    </tr>\n",
              "    <tr>\n",
              "      <th>18</th>\n",
              "      <td>Merlin Mission Collection</td>\n",
              "      <td>Writtenby:MaryPopeOsborne</td>\n",
              "      <td>Narratedby:MaryPopeOsborne</td>\n",
              "      <td>10 hrs and 18 mins</td>\n",
              "      <td>2017-02-05 00:00:00</td>\n",
              "      <td>English</td>\n",
              "      <td>5 out of 5 stars11 ratings</td>\n",
              "      <td>1256</td>\n",
              "    </tr>\n",
              "    <tr>\n",
              "      <th>54</th>\n",
              "      <td>Merlin Mission Collection</td>\n",
              "      <td>Writtenby:MaryPopeOsborne</td>\n",
              "      <td>Narratedby:MaryPopeOsborne</td>\n",
              "      <td>13 hrs and 24 mins</td>\n",
              "      <td>2017-02-05 00:00:00</td>\n",
              "      <td>English</td>\n",
              "      <td>5 out of 5 stars8 ratings</td>\n",
              "      <td>1256</td>\n",
              "    </tr>\n",
              "  </tbody>\n",
              "</table>\n",
              "</div>\n",
              "      <button class=\"colab-df-convert\" onclick=\"convertToInteractive('df-004e2d3e-ba74-4834-8a8d-fbeec669be67')\"\n",
              "              title=\"Convert this dataframe to an interactive table.\"\n",
              "              style=\"display:none;\">\n",
              "        \n",
              "  <svg xmlns=\"http://www.w3.org/2000/svg\" height=\"24px\"viewBox=\"0 0 24 24\"\n",
              "       width=\"24px\">\n",
              "    <path d=\"M0 0h24v24H0V0z\" fill=\"none\"/>\n",
              "    <path d=\"M18.56 5.44l.94 2.06.94-2.06 2.06-.94-2.06-.94-.94-2.06-.94 2.06-2.06.94zm-11 1L8.5 8.5l.94-2.06 2.06-.94-2.06-.94L8.5 2.5l-.94 2.06-2.06.94zm10 10l.94 2.06.94-2.06 2.06-.94-2.06-.94-.94-2.06-.94 2.06-2.06.94z\"/><path d=\"M17.41 7.96l-1.37-1.37c-.4-.4-.92-.59-1.43-.59-.52 0-1.04.2-1.43.59L10.3 9.45l-7.72 7.72c-.78.78-.78 2.05 0 2.83L4 21.41c.39.39.9.59 1.41.59.51 0 1.02-.2 1.41-.59l7.78-7.78 2.81-2.81c.8-.78.8-2.07 0-2.86zM5.41 20L4 18.59l7.72-7.72 1.47 1.35L5.41 20z\"/>\n",
              "  </svg>\n",
              "      </button>\n",
              "      \n",
              "  <style>\n",
              "    .colab-df-container {\n",
              "      display:flex;\n",
              "      flex-wrap:wrap;\n",
              "      gap: 12px;\n",
              "    }\n",
              "\n",
              "    .colab-df-convert {\n",
              "      background-color: #E8F0FE;\n",
              "      border: none;\n",
              "      border-radius: 50%;\n",
              "      cursor: pointer;\n",
              "      display: none;\n",
              "      fill: #1967D2;\n",
              "      height: 32px;\n",
              "      padding: 0 0 0 0;\n",
              "      width: 32px;\n",
              "    }\n",
              "\n",
              "    .colab-df-convert:hover {\n",
              "      background-color: #E2EBFA;\n",
              "      box-shadow: 0px 1px 2px rgba(60, 64, 67, 0.3), 0px 1px 3px 1px rgba(60, 64, 67, 0.15);\n",
              "      fill: #174EA6;\n",
              "    }\n",
              "\n",
              "    [theme=dark] .colab-df-convert {\n",
              "      background-color: #3B4455;\n",
              "      fill: #D2E3FC;\n",
              "    }\n",
              "\n",
              "    [theme=dark] .colab-df-convert:hover {\n",
              "      background-color: #434B5C;\n",
              "      box-shadow: 0px 1px 3px 1px rgba(0, 0, 0, 0.15);\n",
              "      filter: drop-shadow(0px 1px 2px rgba(0, 0, 0, 0.3));\n",
              "      fill: #FFFFFF;\n",
              "    }\n",
              "  </style>\n",
              "\n",
              "      <script>\n",
              "        const buttonEl =\n",
              "          document.querySelector('#df-004e2d3e-ba74-4834-8a8d-fbeec669be67 button.colab-df-convert');\n",
              "        buttonEl.style.display =\n",
              "          google.colab.kernel.accessAllowed ? 'block' : 'none';\n",
              "\n",
              "        async function convertToInteractive(key) {\n",
              "          const element = document.querySelector('#df-004e2d3e-ba74-4834-8a8d-fbeec669be67');\n",
              "          const dataTable =\n",
              "            await google.colab.kernel.invokeFunction('convertToInteractive',\n",
              "                                                     [key], {});\n",
              "          if (!dataTable) return;\n",
              "\n",
              "          const docLinkHtml = 'Like what you see? Visit the ' +\n",
              "            '<a target=\"_blank\" href=https://colab.research.google.com/notebooks/data_table.ipynb>data table notebook</a>'\n",
              "            + ' to learn more about interactive tables.';\n",
              "          element.innerHTML = '';\n",
              "          dataTable['output_type'] = 'display_data';\n",
              "          await google.colab.output.renderOutput(dataTable, element);\n",
              "          const docLink = document.createElement('div');\n",
              "          docLink.innerHTML = docLinkHtml;\n",
              "          element.appendChild(docLink);\n",
              "        }\n",
              "      </script>\n",
              "    </div>\n",
              "  </div>\n",
              "  "
            ]
          },
          "metadata": {},
          "execution_count": 23
        }
      ]
    },
    {
      "cell_type": "markdown",
      "source": [
        "### duplicated for name,author and narrator combined"
      ],
      "metadata": {
        "id": "wHGWtb-C79QJ"
      }
    },
    {
      "cell_type": "code",
      "source": [
        "audible[audible[['name','author','narrator']].duplicated()]"
      ],
      "metadata": {
        "id": "uoTK-yJj-L4f",
        "colab": {
          "base_uri": "https://localhost:8080/",
          "height": 728
        },
        "outputId": "86268bf2-efcf-4034-db11-d02e9338d72f"
      },
      "execution_count": 24,
      "outputs": [
        {
          "output_type": "execute_result",
          "data": {
            "text/plain": [
              "                            name                     author  \\\n",
              "18     Merlin Mission Collection  Writtenby:MaryPopeOsborne   \n",
              "54     Merlin Mission Collection  Writtenby:MaryPopeOsborne   \n",
              "1882          Egg Marks the Spot    Writtenby:AmyTimberlake   \n",
              "2162                        Fish    Writtenby:LisaJ.Amstutz   \n",
              "2244     The Snail and the Whale   Writtenby:JuliaDonaldson   \n",
              "...                          ...                        ...   \n",
              "86656                     Venice        Writtenby:JanMorris   \n",
              "86725           Audiowalk Berlin     Writtenby:TaufigKhalil   \n",
              "86746                  City Surf         Writtenby:CitySurf   \n",
              "86747                  City Surf         Writtenby:CitySurf   \n",
              "86749                  City Surf         Writtenby:CitySurf   \n",
              "\n",
              "                           narrator                time          releasedate  \\\n",
              "18       Narratedby:MaryPopeOsborne  10 hrs and 18 mins  2017-02-05 00:00:00   \n",
              "54       Narratedby:MaryPopeOsborne  13 hrs and 24 mins  2017-02-05 00:00:00   \n",
              "1882      Narratedby:MichaelBoatman   3 hrs and 54 mins             14-09-21   \n",
              "2162           Narratedby:anonymous             18 mins             23-02-22   \n",
              "2244      Narratedby:ImeldaStaunton             22 mins             22-06-21   \n",
              "...                             ...                 ...                  ...   \n",
              "86656  Narratedby:SebastianComberti   5 hrs and 16 mins  2010-09-08 00:00:00   \n",
              "86725       Narratedby:TaufigKhalil    1 hr and 12 mins  2005-01-06 00:00:00   \n",
              "86746         Narratedby:uncredited             32 mins             23-10-07   \n",
              "86747         Narratedby:uncredited             52 mins             23-10-07   \n",
              "86749         Narratedby:uncredited             40 mins             23-10-07   \n",
              "\n",
              "      language                       stars price  \n",
              "18     English  5 out of 5 stars11 ratings  1256  \n",
              "54     English   5 out of 5 stars8 ratings  1256  \n",
              "1882   English               Not rated yet   398  \n",
              "2162   English               Not rated yet    93  \n",
              "2244   English               Not rated yet   251  \n",
              "...        ...                         ...   ...  \n",
              "86656  English               Not rated yet   668  \n",
              "86725   german               Not rated yet   334  \n",
              "86746  English               Not rated yet   234  \n",
              "86747  English               Not rated yet   234  \n",
              "86749  English               Not rated yet   234  \n",
              "\n",
              "[404 rows x 8 columns]"
            ],
            "text/html": [
              "\n",
              "  <div id=\"df-bbdcc6ea-3708-4198-8cfc-b5ab3ae41375\">\n",
              "    <div class=\"colab-df-container\">\n",
              "      <div>\n",
              "<style scoped>\n",
              "    .dataframe tbody tr th:only-of-type {\n",
              "        vertical-align: middle;\n",
              "    }\n",
              "\n",
              "    .dataframe tbody tr th {\n",
              "        vertical-align: top;\n",
              "    }\n",
              "\n",
              "    .dataframe thead th {\n",
              "        text-align: right;\n",
              "    }\n",
              "</style>\n",
              "<table border=\"1\" class=\"dataframe\">\n",
              "  <thead>\n",
              "    <tr style=\"text-align: right;\">\n",
              "      <th></th>\n",
              "      <th>name</th>\n",
              "      <th>author</th>\n",
              "      <th>narrator</th>\n",
              "      <th>time</th>\n",
              "      <th>releasedate</th>\n",
              "      <th>language</th>\n",
              "      <th>stars</th>\n",
              "      <th>price</th>\n",
              "    </tr>\n",
              "  </thead>\n",
              "  <tbody>\n",
              "    <tr>\n",
              "      <th>18</th>\n",
              "      <td>Merlin Mission Collection</td>\n",
              "      <td>Writtenby:MaryPopeOsborne</td>\n",
              "      <td>Narratedby:MaryPopeOsborne</td>\n",
              "      <td>10 hrs and 18 mins</td>\n",
              "      <td>2017-02-05 00:00:00</td>\n",
              "      <td>English</td>\n",
              "      <td>5 out of 5 stars11 ratings</td>\n",
              "      <td>1256</td>\n",
              "    </tr>\n",
              "    <tr>\n",
              "      <th>54</th>\n",
              "      <td>Merlin Mission Collection</td>\n",
              "      <td>Writtenby:MaryPopeOsborne</td>\n",
              "      <td>Narratedby:MaryPopeOsborne</td>\n",
              "      <td>13 hrs and 24 mins</td>\n",
              "      <td>2017-02-05 00:00:00</td>\n",
              "      <td>English</td>\n",
              "      <td>5 out of 5 stars8 ratings</td>\n",
              "      <td>1256</td>\n",
              "    </tr>\n",
              "    <tr>\n",
              "      <th>1882</th>\n",
              "      <td>Egg Marks the Spot</td>\n",
              "      <td>Writtenby:AmyTimberlake</td>\n",
              "      <td>Narratedby:MichaelBoatman</td>\n",
              "      <td>3 hrs and 54 mins</td>\n",
              "      <td>14-09-21</td>\n",
              "      <td>English</td>\n",
              "      <td>Not rated yet</td>\n",
              "      <td>398</td>\n",
              "    </tr>\n",
              "    <tr>\n",
              "      <th>2162</th>\n",
              "      <td>Fish</td>\n",
              "      <td>Writtenby:LisaJ.Amstutz</td>\n",
              "      <td>Narratedby:anonymous</td>\n",
              "      <td>18 mins</td>\n",
              "      <td>23-02-22</td>\n",
              "      <td>English</td>\n",
              "      <td>Not rated yet</td>\n",
              "      <td>93</td>\n",
              "    </tr>\n",
              "    <tr>\n",
              "      <th>2244</th>\n",
              "      <td>The Snail and the Whale</td>\n",
              "      <td>Writtenby:JuliaDonaldson</td>\n",
              "      <td>Narratedby:ImeldaStaunton</td>\n",
              "      <td>22 mins</td>\n",
              "      <td>22-06-21</td>\n",
              "      <td>English</td>\n",
              "      <td>Not rated yet</td>\n",
              "      <td>251</td>\n",
              "    </tr>\n",
              "    <tr>\n",
              "      <th>...</th>\n",
              "      <td>...</td>\n",
              "      <td>...</td>\n",
              "      <td>...</td>\n",
              "      <td>...</td>\n",
              "      <td>...</td>\n",
              "      <td>...</td>\n",
              "      <td>...</td>\n",
              "      <td>...</td>\n",
              "    </tr>\n",
              "    <tr>\n",
              "      <th>86656</th>\n",
              "      <td>Venice</td>\n",
              "      <td>Writtenby:JanMorris</td>\n",
              "      <td>Narratedby:SebastianComberti</td>\n",
              "      <td>5 hrs and 16 mins</td>\n",
              "      <td>2010-09-08 00:00:00</td>\n",
              "      <td>English</td>\n",
              "      <td>Not rated yet</td>\n",
              "      <td>668</td>\n",
              "    </tr>\n",
              "    <tr>\n",
              "      <th>86725</th>\n",
              "      <td>Audiowalk Berlin</td>\n",
              "      <td>Writtenby:TaufigKhalil</td>\n",
              "      <td>Narratedby:TaufigKhalil</td>\n",
              "      <td>1 hr and 12 mins</td>\n",
              "      <td>2005-01-06 00:00:00</td>\n",
              "      <td>german</td>\n",
              "      <td>Not rated yet</td>\n",
              "      <td>334</td>\n",
              "    </tr>\n",
              "    <tr>\n",
              "      <th>86746</th>\n",
              "      <td>City Surf</td>\n",
              "      <td>Writtenby:CitySurf</td>\n",
              "      <td>Narratedby:uncredited</td>\n",
              "      <td>32 mins</td>\n",
              "      <td>23-10-07</td>\n",
              "      <td>English</td>\n",
              "      <td>Not rated yet</td>\n",
              "      <td>234</td>\n",
              "    </tr>\n",
              "    <tr>\n",
              "      <th>86747</th>\n",
              "      <td>City Surf</td>\n",
              "      <td>Writtenby:CitySurf</td>\n",
              "      <td>Narratedby:uncredited</td>\n",
              "      <td>52 mins</td>\n",
              "      <td>23-10-07</td>\n",
              "      <td>English</td>\n",
              "      <td>Not rated yet</td>\n",
              "      <td>234</td>\n",
              "    </tr>\n",
              "    <tr>\n",
              "      <th>86749</th>\n",
              "      <td>City Surf</td>\n",
              "      <td>Writtenby:CitySurf</td>\n",
              "      <td>Narratedby:uncredited</td>\n",
              "      <td>40 mins</td>\n",
              "      <td>23-10-07</td>\n",
              "      <td>English</td>\n",
              "      <td>Not rated yet</td>\n",
              "      <td>234</td>\n",
              "    </tr>\n",
              "  </tbody>\n",
              "</table>\n",
              "<p>404 rows × 8 columns</p>\n",
              "</div>\n",
              "      <button class=\"colab-df-convert\" onclick=\"convertToInteractive('df-bbdcc6ea-3708-4198-8cfc-b5ab3ae41375')\"\n",
              "              title=\"Convert this dataframe to an interactive table.\"\n",
              "              style=\"display:none;\">\n",
              "        \n",
              "  <svg xmlns=\"http://www.w3.org/2000/svg\" height=\"24px\"viewBox=\"0 0 24 24\"\n",
              "       width=\"24px\">\n",
              "    <path d=\"M0 0h24v24H0V0z\" fill=\"none\"/>\n",
              "    <path d=\"M18.56 5.44l.94 2.06.94-2.06 2.06-.94-2.06-.94-.94-2.06-.94 2.06-2.06.94zm-11 1L8.5 8.5l.94-2.06 2.06-.94-2.06-.94L8.5 2.5l-.94 2.06-2.06.94zm10 10l.94 2.06.94-2.06 2.06-.94-2.06-.94-.94-2.06-.94 2.06-2.06.94z\"/><path d=\"M17.41 7.96l-1.37-1.37c-.4-.4-.92-.59-1.43-.59-.52 0-1.04.2-1.43.59L10.3 9.45l-7.72 7.72c-.78.78-.78 2.05 0 2.83L4 21.41c.39.39.9.59 1.41.59.51 0 1.02-.2 1.41-.59l7.78-7.78 2.81-2.81c.8-.78.8-2.07 0-2.86zM5.41 20L4 18.59l7.72-7.72 1.47 1.35L5.41 20z\"/>\n",
              "  </svg>\n",
              "      </button>\n",
              "      \n",
              "  <style>\n",
              "    .colab-df-container {\n",
              "      display:flex;\n",
              "      flex-wrap:wrap;\n",
              "      gap: 12px;\n",
              "    }\n",
              "\n",
              "    .colab-df-convert {\n",
              "      background-color: #E8F0FE;\n",
              "      border: none;\n",
              "      border-radius: 50%;\n",
              "      cursor: pointer;\n",
              "      display: none;\n",
              "      fill: #1967D2;\n",
              "      height: 32px;\n",
              "      padding: 0 0 0 0;\n",
              "      width: 32px;\n",
              "    }\n",
              "\n",
              "    .colab-df-convert:hover {\n",
              "      background-color: #E2EBFA;\n",
              "      box-shadow: 0px 1px 2px rgba(60, 64, 67, 0.3), 0px 1px 3px 1px rgba(60, 64, 67, 0.15);\n",
              "      fill: #174EA6;\n",
              "    }\n",
              "\n",
              "    [theme=dark] .colab-df-convert {\n",
              "      background-color: #3B4455;\n",
              "      fill: #D2E3FC;\n",
              "    }\n",
              "\n",
              "    [theme=dark] .colab-df-convert:hover {\n",
              "      background-color: #434B5C;\n",
              "      box-shadow: 0px 1px 3px 1px rgba(0, 0, 0, 0.15);\n",
              "      filter: drop-shadow(0px 1px 2px rgba(0, 0, 0, 0.3));\n",
              "      fill: #FFFFFF;\n",
              "    }\n",
              "  </style>\n",
              "\n",
              "      <script>\n",
              "        const buttonEl =\n",
              "          document.querySelector('#df-bbdcc6ea-3708-4198-8cfc-b5ab3ae41375 button.colab-df-convert');\n",
              "        buttonEl.style.display =\n",
              "          google.colab.kernel.accessAllowed ? 'block' : 'none';\n",
              "\n",
              "        async function convertToInteractive(key) {\n",
              "          const element = document.querySelector('#df-bbdcc6ea-3708-4198-8cfc-b5ab3ae41375');\n",
              "          const dataTable =\n",
              "            await google.colab.kernel.invokeFunction('convertToInteractive',\n",
              "                                                     [key], {});\n",
              "          if (!dataTable) return;\n",
              "\n",
              "          const docLinkHtml = 'Like what you see? Visit the ' +\n",
              "            '<a target=\"_blank\" href=https://colab.research.google.com/notebooks/data_table.ipynb>data table notebook</a>'\n",
              "            + ' to learn more about interactive tables.';\n",
              "          element.innerHTML = '';\n",
              "          dataTable['output_type'] = 'display_data';\n",
              "          await google.colab.output.renderOutput(dataTable, element);\n",
              "          const docLink = document.createElement('div');\n",
              "          docLink.innerHTML = docLinkHtml;\n",
              "          element.appendChild(docLink);\n",
              "        }\n",
              "      </script>\n",
              "    </div>\n",
              "  </div>\n",
              "  "
            ]
          },
          "metadata": {},
          "execution_count": 24
        }
      ]
    },
    {
      "cell_type": "code",
      "source": [
        "audible[audible[['name','author','narrator','releasedate', 'language', 'price']].duplicated()]"
      ],
      "metadata": {
        "id": "s6Xjks5Z-L_6",
        "colab": {
          "base_uri": "https://localhost:8080/",
          "height": 711
        },
        "outputId": "744748db-3d65-4825-bd77-c8b3208ecd71"
      },
      "execution_count": 25,
      "outputs": [
        {
          "output_type": "execute_result",
          "data": {
            "text/plain": [
              "                                          name                      author  \\\n",
              "18                   Merlin Mission Collection   Writtenby:MaryPopeOsborne   \n",
              "54                   Merlin Mission Collection   Writtenby:MaryPopeOsborne   \n",
              "4321                   My First French Lessons     Writtenby:AlexaPolidoro   \n",
              "4322                   My First French Lessons     Writtenby:AlexaPolidoro   \n",
              "4337                   My First French Lessons     Writtenby:AlexaPolidoro   \n",
              "...                                        ...                         ...   \n",
              "81524  GesÃ¤nge und Rufe heimischer Vogelarten  Writtenby:KarlHeinzDingler   \n",
              "86244        Japan, fÃ¼r dich ein Spaziergang!       Writtenby:RonjaSakata   \n",
              "86746                                City Surf          Writtenby:CitySurf   \n",
              "86747                                City Surf          Writtenby:CitySurf   \n",
              "86749                                City Surf          Writtenby:CitySurf   \n",
              "\n",
              "                         narrator                time          releasedate  \\\n",
              "18     Narratedby:MaryPopeOsborne  10 hrs and 18 mins  2017-02-05 00:00:00   \n",
              "54     Narratedby:MaryPopeOsborne  13 hrs and 24 mins  2017-02-05 00:00:00   \n",
              "4321     Narratedby:AlexaPolidoro             59 mins             28-11-06   \n",
              "4322     Narratedby:AlexaPolidoro                1 hr             28-11-06   \n",
              "4337     Narratedby:AlexaPolidoro             51 mins             28-11-06   \n",
              "...                           ...                 ...                  ...   \n",
              "81524             Narratedby:div.    1 hr and 15 mins  2011-12-10 00:00:00   \n",
              "86244      Narratedby:RonjaSakata   3 hrs and 48 mins             20-10-19   \n",
              "86746       Narratedby:uncredited             32 mins             23-10-07   \n",
              "86747       Narratedby:uncredited             52 mins             23-10-07   \n",
              "86749       Narratedby:uncredited             40 mins             23-10-07   \n",
              "\n",
              "      language                       stars price  \n",
              "18     English  5 out of 5 stars11 ratings  1256  \n",
              "54     English   5 out of 5 stars8 ratings  1256  \n",
              "4321   English               Not rated yet   190  \n",
              "4322   English               Not rated yet   190  \n",
              "4337   English               Not rated yet   190  \n",
              "...        ...                         ...   ...  \n",
              "81524   german               Not rated yet   200  \n",
              "86244   german               Not rated yet   535  \n",
              "86746  English               Not rated yet   234  \n",
              "86747  English               Not rated yet   234  \n",
              "86749  English               Not rated yet   234  \n",
              "\n",
              "[96 rows x 8 columns]"
            ],
            "text/html": [
              "\n",
              "  <div id=\"df-f2955070-b136-45c6-84ca-a23670479540\">\n",
              "    <div class=\"colab-df-container\">\n",
              "      <div>\n",
              "<style scoped>\n",
              "    .dataframe tbody tr th:only-of-type {\n",
              "        vertical-align: middle;\n",
              "    }\n",
              "\n",
              "    .dataframe tbody tr th {\n",
              "        vertical-align: top;\n",
              "    }\n",
              "\n",
              "    .dataframe thead th {\n",
              "        text-align: right;\n",
              "    }\n",
              "</style>\n",
              "<table border=\"1\" class=\"dataframe\">\n",
              "  <thead>\n",
              "    <tr style=\"text-align: right;\">\n",
              "      <th></th>\n",
              "      <th>name</th>\n",
              "      <th>author</th>\n",
              "      <th>narrator</th>\n",
              "      <th>time</th>\n",
              "      <th>releasedate</th>\n",
              "      <th>language</th>\n",
              "      <th>stars</th>\n",
              "      <th>price</th>\n",
              "    </tr>\n",
              "  </thead>\n",
              "  <tbody>\n",
              "    <tr>\n",
              "      <th>18</th>\n",
              "      <td>Merlin Mission Collection</td>\n",
              "      <td>Writtenby:MaryPopeOsborne</td>\n",
              "      <td>Narratedby:MaryPopeOsborne</td>\n",
              "      <td>10 hrs and 18 mins</td>\n",
              "      <td>2017-02-05 00:00:00</td>\n",
              "      <td>English</td>\n",
              "      <td>5 out of 5 stars11 ratings</td>\n",
              "      <td>1256</td>\n",
              "    </tr>\n",
              "    <tr>\n",
              "      <th>54</th>\n",
              "      <td>Merlin Mission Collection</td>\n",
              "      <td>Writtenby:MaryPopeOsborne</td>\n",
              "      <td>Narratedby:MaryPopeOsborne</td>\n",
              "      <td>13 hrs and 24 mins</td>\n",
              "      <td>2017-02-05 00:00:00</td>\n",
              "      <td>English</td>\n",
              "      <td>5 out of 5 stars8 ratings</td>\n",
              "      <td>1256</td>\n",
              "    </tr>\n",
              "    <tr>\n",
              "      <th>4321</th>\n",
              "      <td>My First French Lessons</td>\n",
              "      <td>Writtenby:AlexaPolidoro</td>\n",
              "      <td>Narratedby:AlexaPolidoro</td>\n",
              "      <td>59 mins</td>\n",
              "      <td>28-11-06</td>\n",
              "      <td>English</td>\n",
              "      <td>Not rated yet</td>\n",
              "      <td>190</td>\n",
              "    </tr>\n",
              "    <tr>\n",
              "      <th>4322</th>\n",
              "      <td>My First French Lessons</td>\n",
              "      <td>Writtenby:AlexaPolidoro</td>\n",
              "      <td>Narratedby:AlexaPolidoro</td>\n",
              "      <td>1 hr</td>\n",
              "      <td>28-11-06</td>\n",
              "      <td>English</td>\n",
              "      <td>Not rated yet</td>\n",
              "      <td>190</td>\n",
              "    </tr>\n",
              "    <tr>\n",
              "      <th>4337</th>\n",
              "      <td>My First French Lessons</td>\n",
              "      <td>Writtenby:AlexaPolidoro</td>\n",
              "      <td>Narratedby:AlexaPolidoro</td>\n",
              "      <td>51 mins</td>\n",
              "      <td>28-11-06</td>\n",
              "      <td>English</td>\n",
              "      <td>Not rated yet</td>\n",
              "      <td>190</td>\n",
              "    </tr>\n",
              "    <tr>\n",
              "      <th>...</th>\n",
              "      <td>...</td>\n",
              "      <td>...</td>\n",
              "      <td>...</td>\n",
              "      <td>...</td>\n",
              "      <td>...</td>\n",
              "      <td>...</td>\n",
              "      <td>...</td>\n",
              "      <td>...</td>\n",
              "    </tr>\n",
              "    <tr>\n",
              "      <th>81524</th>\n",
              "      <td>GesÃ¤nge und Rufe heimischer Vogelarten</td>\n",
              "      <td>Writtenby:KarlHeinzDingler</td>\n",
              "      <td>Narratedby:div.</td>\n",
              "      <td>1 hr and 15 mins</td>\n",
              "      <td>2011-12-10 00:00:00</td>\n",
              "      <td>german</td>\n",
              "      <td>Not rated yet</td>\n",
              "      <td>200</td>\n",
              "    </tr>\n",
              "    <tr>\n",
              "      <th>86244</th>\n",
              "      <td>Japan, fÃ¼r dich ein Spaziergang!</td>\n",
              "      <td>Writtenby:RonjaSakata</td>\n",
              "      <td>Narratedby:RonjaSakata</td>\n",
              "      <td>3 hrs and 48 mins</td>\n",
              "      <td>20-10-19</td>\n",
              "      <td>german</td>\n",
              "      <td>Not rated yet</td>\n",
              "      <td>535</td>\n",
              "    </tr>\n",
              "    <tr>\n",
              "      <th>86746</th>\n",
              "      <td>City Surf</td>\n",
              "      <td>Writtenby:CitySurf</td>\n",
              "      <td>Narratedby:uncredited</td>\n",
              "      <td>32 mins</td>\n",
              "      <td>23-10-07</td>\n",
              "      <td>English</td>\n",
              "      <td>Not rated yet</td>\n",
              "      <td>234</td>\n",
              "    </tr>\n",
              "    <tr>\n",
              "      <th>86747</th>\n",
              "      <td>City Surf</td>\n",
              "      <td>Writtenby:CitySurf</td>\n",
              "      <td>Narratedby:uncredited</td>\n",
              "      <td>52 mins</td>\n",
              "      <td>23-10-07</td>\n",
              "      <td>English</td>\n",
              "      <td>Not rated yet</td>\n",
              "      <td>234</td>\n",
              "    </tr>\n",
              "    <tr>\n",
              "      <th>86749</th>\n",
              "      <td>City Surf</td>\n",
              "      <td>Writtenby:CitySurf</td>\n",
              "      <td>Narratedby:uncredited</td>\n",
              "      <td>40 mins</td>\n",
              "      <td>23-10-07</td>\n",
              "      <td>English</td>\n",
              "      <td>Not rated yet</td>\n",
              "      <td>234</td>\n",
              "    </tr>\n",
              "  </tbody>\n",
              "</table>\n",
              "<p>96 rows × 8 columns</p>\n",
              "</div>\n",
              "      <button class=\"colab-df-convert\" onclick=\"convertToInteractive('df-f2955070-b136-45c6-84ca-a23670479540')\"\n",
              "              title=\"Convert this dataframe to an interactive table.\"\n",
              "              style=\"display:none;\">\n",
              "        \n",
              "  <svg xmlns=\"http://www.w3.org/2000/svg\" height=\"24px\"viewBox=\"0 0 24 24\"\n",
              "       width=\"24px\">\n",
              "    <path d=\"M0 0h24v24H0V0z\" fill=\"none\"/>\n",
              "    <path d=\"M18.56 5.44l.94 2.06.94-2.06 2.06-.94-2.06-.94-.94-2.06-.94 2.06-2.06.94zm-11 1L8.5 8.5l.94-2.06 2.06-.94-2.06-.94L8.5 2.5l-.94 2.06-2.06.94zm10 10l.94 2.06.94-2.06 2.06-.94-2.06-.94-.94-2.06-.94 2.06-2.06.94z\"/><path d=\"M17.41 7.96l-1.37-1.37c-.4-.4-.92-.59-1.43-.59-.52 0-1.04.2-1.43.59L10.3 9.45l-7.72 7.72c-.78.78-.78 2.05 0 2.83L4 21.41c.39.39.9.59 1.41.59.51 0 1.02-.2 1.41-.59l7.78-7.78 2.81-2.81c.8-.78.8-2.07 0-2.86zM5.41 20L4 18.59l7.72-7.72 1.47 1.35L5.41 20z\"/>\n",
              "  </svg>\n",
              "      </button>\n",
              "      \n",
              "  <style>\n",
              "    .colab-df-container {\n",
              "      display:flex;\n",
              "      flex-wrap:wrap;\n",
              "      gap: 12px;\n",
              "    }\n",
              "\n",
              "    .colab-df-convert {\n",
              "      background-color: #E8F0FE;\n",
              "      border: none;\n",
              "      border-radius: 50%;\n",
              "      cursor: pointer;\n",
              "      display: none;\n",
              "      fill: #1967D2;\n",
              "      height: 32px;\n",
              "      padding: 0 0 0 0;\n",
              "      width: 32px;\n",
              "    }\n",
              "\n",
              "    .colab-df-convert:hover {\n",
              "      background-color: #E2EBFA;\n",
              "      box-shadow: 0px 1px 2px rgba(60, 64, 67, 0.3), 0px 1px 3px 1px rgba(60, 64, 67, 0.15);\n",
              "      fill: #174EA6;\n",
              "    }\n",
              "\n",
              "    [theme=dark] .colab-df-convert {\n",
              "      background-color: #3B4455;\n",
              "      fill: #D2E3FC;\n",
              "    }\n",
              "\n",
              "    [theme=dark] .colab-df-convert:hover {\n",
              "      background-color: #434B5C;\n",
              "      box-shadow: 0px 1px 3px 1px rgba(0, 0, 0, 0.15);\n",
              "      filter: drop-shadow(0px 1px 2px rgba(0, 0, 0, 0.3));\n",
              "      fill: #FFFFFF;\n",
              "    }\n",
              "  </style>\n",
              "\n",
              "      <script>\n",
              "        const buttonEl =\n",
              "          document.querySelector('#df-f2955070-b136-45c6-84ca-a23670479540 button.colab-df-convert');\n",
              "        buttonEl.style.display =\n",
              "          google.colab.kernel.accessAllowed ? 'block' : 'none';\n",
              "\n",
              "        async function convertToInteractive(key) {\n",
              "          const element = document.querySelector('#df-f2955070-b136-45c6-84ca-a23670479540');\n",
              "          const dataTable =\n",
              "            await google.colab.kernel.invokeFunction('convertToInteractive',\n",
              "                                                     [key], {});\n",
              "          if (!dataTable) return;\n",
              "\n",
              "          const docLinkHtml = 'Like what you see? Visit the ' +\n",
              "            '<a target=\"_blank\" href=https://colab.research.google.com/notebooks/data_table.ipynb>data table notebook</a>'\n",
              "            + ' to learn more about interactive tables.';\n",
              "          element.innerHTML = '';\n",
              "          dataTable['output_type'] = 'display_data';\n",
              "          await google.colab.output.renderOutput(dataTable, element);\n",
              "          const docLink = document.createElement('div');\n",
              "          docLink.innerHTML = docLinkHtml;\n",
              "          element.appendChild(docLink);\n",
              "        }\n",
              "      </script>\n",
              "    </div>\n",
              "  </div>\n",
              "  "
            ]
          },
          "metadata": {},
          "execution_count": 25
        }
      ]
    },
    {
      "cell_type": "markdown",
      "source": [
        "### unique"
      ],
      "metadata": {
        "id": "a_813E0THBAt"
      }
    },
    {
      "cell_type": "code",
      "source": [
        "len(audible['name'].unique())"
      ],
      "metadata": {
        "colab": {
          "base_uri": "https://localhost:8080/"
        },
        "id": "SgT5hHBcHDJY",
        "outputId": "88d539b7-754d-4fd5-ec6c-df6ff2d34773"
      },
      "execution_count": 26,
      "outputs": [
        {
          "output_type": "execute_result",
          "data": {
            "text/plain": [
              "82767"
            ]
          },
          "metadata": {},
          "execution_count": 26
        }
      ]
    },
    {
      "cell_type": "code",
      "source": [
        "len(audible['name'])"
      ],
      "metadata": {
        "colab": {
          "base_uri": "https://localhost:8080/"
        },
        "id": "QiUPmhXXHKTT",
        "outputId": "bbf1f0ca-3c6d-462b-f667-3c610a4c74e1"
      },
      "execution_count": 27,
      "outputs": [
        {
          "output_type": "execute_result",
          "data": {
            "text/plain": [
              "87489"
            ]
          },
          "metadata": {},
          "execution_count": 27
        }
      ]
    },
    {
      "cell_type": "markdown",
      "source": [
        "## author"
      ],
      "metadata": {
        "id": "7po7tFQC9NIg"
      }
    },
    {
      "cell_type": "markdown",
      "source": [
        "### head, tail & sample"
      ],
      "metadata": {
        "id": "jWfcHvqh-beP"
      }
    },
    {
      "cell_type": "code",
      "source": [
        "audible['author'].head()"
      ],
      "metadata": {
        "colab": {
          "base_uri": "https://localhost:8080/"
        },
        "id": "h4jjVqx_-nff",
        "outputId": "be25e522-e252-42b3-f16f-f7ef454c0327"
      },
      "execution_count": 28,
      "outputs": [
        {
          "output_type": "execute_result",
          "data": {
            "text/plain": [
              "0    Writtenby:GeronimoStilton\n",
              "1        Writtenby:RickRiordan\n",
              "2         Writtenby:JeffKinney\n",
              "3        Writtenby:RickRiordan\n",
              "4        Writtenby:RickRiordan\n",
              "Name: author, dtype: object"
            ]
          },
          "metadata": {},
          "execution_count": 28
        }
      ]
    },
    {
      "cell_type": "code",
      "source": [
        "audible['author'].tail()"
      ],
      "metadata": {
        "colab": {
          "base_uri": "https://localhost:8080/"
        },
        "id": "rNp9AOZq-nyj",
        "outputId": "a89ee377-f8c0-4dac-cb58-59a485169494"
      },
      "execution_count": 29,
      "outputs": [
        {
          "output_type": "execute_result",
          "data": {
            "text/plain": [
              "87484      Writtenby:ChrisStewart\n",
              "87485     Writtenby:StephenO'Shea\n",
              "87486         Writtenby:MarkTwain\n",
              "87487    Writtenby:LaurenceSterne\n",
              "87488     Writtenby:MarkKurlansky\n",
              "Name: author, dtype: object"
            ]
          },
          "metadata": {},
          "execution_count": 29
        }
      ]
    },
    {
      "cell_type": "code",
      "source": [
        "audible['author'].sample(5)"
      ],
      "metadata": {
        "colab": {
          "base_uri": "https://localhost:8080/"
        },
        "id": "xURmdLC2-n62",
        "outputId": "6a0c037b-b7bf-4f23-9047-a0ab9910c143"
      },
      "execution_count": 30,
      "outputs": [
        {
          "output_type": "execute_result",
          "data": {
            "text/plain": [
              "75610         Writtenby:I.T.Lucas\n",
              "18865      Writtenby:A.E.Hotchner\n",
              "63740         Writtenby:Epictetus\n",
              "16894         Writtenby:BillBrown\n",
              "63467    Writtenby:TrevorAaronson\n",
              "Name: author, dtype: object"
            ]
          },
          "metadata": {},
          "execution_count": 30
        }
      ]
    },
    {
      "cell_type": "markdown",
      "source": [
        "### info"
      ],
      "metadata": {
        "id": "uWX0bIGBBKtQ"
      }
    },
    {
      "cell_type": "code",
      "source": [
        "audible['author'].info()"
      ],
      "metadata": {
        "colab": {
          "base_uri": "https://localhost:8080/"
        },
        "id": "-yfHTiIRBMNN",
        "outputId": "c1d271bf-a663-4f96-ce7a-4962c7338306"
      },
      "execution_count": 31,
      "outputs": [
        {
          "output_type": "stream",
          "name": "stdout",
          "text": [
            "<class 'pandas.core.series.Series'>\n",
            "RangeIndex: 87489 entries, 0 to 87488\n",
            "Series name: author\n",
            "Non-Null Count  Dtype \n",
            "--------------  ----- \n",
            "87489 non-null  object\n",
            "dtypes: object(1)\n",
            "memory usage: 683.6+ KB\n"
          ]
        }
      ]
    },
    {
      "cell_type": "markdown",
      "source": [
        "### isnull"
      ],
      "metadata": {
        "id": "PZ9BpvcdBUO8"
      }
    },
    {
      "cell_type": "code",
      "source": [
        "audible['author'].isnull().sum()"
      ],
      "metadata": {
        "colab": {
          "base_uri": "https://localhost:8080/"
        },
        "id": "mhiOH38J-oAw",
        "outputId": "da576e30-91af-4904-e799-61d31c1b861b"
      },
      "execution_count": 32,
      "outputs": [
        {
          "output_type": "execute_result",
          "data": {
            "text/plain": [
              "0"
            ]
          },
          "metadata": {},
          "execution_count": 32
        }
      ]
    },
    {
      "cell_type": "markdown",
      "source": [
        "### duplicated"
      ],
      "metadata": {
        "id": "Uwa-HlxhBfz5"
      }
    },
    {
      "cell_type": "code",
      "source": [
        "audible['author'].duplicated().sum()"
      ],
      "metadata": {
        "colab": {
          "base_uri": "https://localhost:8080/"
        },
        "id": "bta605Zd-oF_",
        "outputId": "b014fee7-45f9-4757-c739-cae355cfb3c8"
      },
      "execution_count": 33,
      "outputs": [
        {
          "output_type": "execute_result",
          "data": {
            "text/plain": [
              "39115"
            ]
          },
          "metadata": {},
          "execution_count": 33
        }
      ]
    },
    {
      "cell_type": "code",
      "source": [
        "audible[audible['author'].duplicated()]\n",
        "#same author can have many books -> not duplication"
      ],
      "metadata": {
        "colab": {
          "base_uri": "https://localhost:8080/",
          "height": 815
        },
        "id": "st7hgCKy-oKx",
        "outputId": "5ace597d-adb6-4fb7-cec2-0fb58e9ab00f"
      },
      "execution_count": 34,
      "outputs": [
        {
          "output_type": "execute_result",
          "data": {
            "text/plain": [
              "                                             name                    author  \\\n",
              "3                            Daughter of the Deep     Writtenby:RickRiordan   \n",
              "4      The Lightning Thief: Percy Jackson, Book 1     Writtenby:RickRiordan   \n",
              "7                               The Dark Prophecy     Writtenby:RickRiordan   \n",
              "9                             The Tyrantâ€™s Tomb     Writtenby:RickRiordan   \n",
              "10       The Titan's Curse: Percy Jackson, Book 3     Writtenby:RickRiordan   \n",
              "...                                           ...                       ...   \n",
              "87480                         Journey into Cyprus    Writtenby:ColinThubron   \n",
              "87481                         The Hills of Adonis    Writtenby:ColinThubron   \n",
              "87486                        The Innocents Abroad       Writtenby:MarkTwain   \n",
              "87487                       A Sentimental Journey  Writtenby:LaurenceSterne   \n",
              "87488                                      Havana   Writtenby:MarkKurlansky   \n",
              "\n",
              "                        narrator                time          releasedate  \\\n",
              "3      Narratedby:SoneelaNankani  11 hrs and 16 mins  2021-05-10 00:00:00   \n",
              "4      Narratedby:JesseBernstein              10 hrs  2010-01-13 00:00:00   \n",
              "7       Narratedby:RobbieDaymond  12 hrs and 32 mins  2017-02-05 00:00:00   \n",
              "9       Narratedby:RobbieDaymond  13 hrs and 22 mins             24-09-19   \n",
              "10     Narratedby:JesseBernstein   8 hrs and 48 mins             14-01-10   \n",
              "...                          ...                 ...                  ...   \n",
              "87480  Narratedby:JonathanKeeble  11 hrs and 51 mins  2018-01-01 00:00:00   \n",
              "87481  Narratedby:JonathanKeeble   6 hrs and 52 mins  2017-01-12 00:00:00   \n",
              "87486       Narratedby:FloGibson   19 hrs and 4 mins             30-12-16   \n",
              "87487     Narratedby:AntonLesser    4 hrs and 8 mins             23-02-11   \n",
              "87488     Narratedby:FleetCooper     6 hrs and 1 min  2017-07-03 00:00:00   \n",
              "\n",
              "      language                          stars price  \n",
              "3      English   4.5 out of 5 stars12 ratings   615  \n",
              "4      English  4.5 out of 5 stars181 ratings   820  \n",
              "7      English     5 out of 5 stars50 ratings   820  \n",
              "9      English     5 out of 5 stars58 ratings   820  \n",
              "10     English  4.5 out of 5 stars130 ratings   820  \n",
              "...        ...                            ...   ...  \n",
              "87480  English                  Not rated yet   785  \n",
              "87481  English                  Not rated yet   679  \n",
              "87486  English                  Not rated yet   938  \n",
              "87487  English                  Not rated yet   680  \n",
              "87488  English                  Not rated yet   569  \n",
              "\n",
              "[39115 rows x 8 columns]"
            ],
            "text/html": [
              "\n",
              "  <div id=\"df-7395e460-cab3-4417-ab2c-1dd1cc6561bc\">\n",
              "    <div class=\"colab-df-container\">\n",
              "      <div>\n",
              "<style scoped>\n",
              "    .dataframe tbody tr th:only-of-type {\n",
              "        vertical-align: middle;\n",
              "    }\n",
              "\n",
              "    .dataframe tbody tr th {\n",
              "        vertical-align: top;\n",
              "    }\n",
              "\n",
              "    .dataframe thead th {\n",
              "        text-align: right;\n",
              "    }\n",
              "</style>\n",
              "<table border=\"1\" class=\"dataframe\">\n",
              "  <thead>\n",
              "    <tr style=\"text-align: right;\">\n",
              "      <th></th>\n",
              "      <th>name</th>\n",
              "      <th>author</th>\n",
              "      <th>narrator</th>\n",
              "      <th>time</th>\n",
              "      <th>releasedate</th>\n",
              "      <th>language</th>\n",
              "      <th>stars</th>\n",
              "      <th>price</th>\n",
              "    </tr>\n",
              "  </thead>\n",
              "  <tbody>\n",
              "    <tr>\n",
              "      <th>3</th>\n",
              "      <td>Daughter of the Deep</td>\n",
              "      <td>Writtenby:RickRiordan</td>\n",
              "      <td>Narratedby:SoneelaNankani</td>\n",
              "      <td>11 hrs and 16 mins</td>\n",
              "      <td>2021-05-10 00:00:00</td>\n",
              "      <td>English</td>\n",
              "      <td>4.5 out of 5 stars12 ratings</td>\n",
              "      <td>615</td>\n",
              "    </tr>\n",
              "    <tr>\n",
              "      <th>4</th>\n",
              "      <td>The Lightning Thief: Percy Jackson, Book 1</td>\n",
              "      <td>Writtenby:RickRiordan</td>\n",
              "      <td>Narratedby:JesseBernstein</td>\n",
              "      <td>10 hrs</td>\n",
              "      <td>2010-01-13 00:00:00</td>\n",
              "      <td>English</td>\n",
              "      <td>4.5 out of 5 stars181 ratings</td>\n",
              "      <td>820</td>\n",
              "    </tr>\n",
              "    <tr>\n",
              "      <th>7</th>\n",
              "      <td>The Dark Prophecy</td>\n",
              "      <td>Writtenby:RickRiordan</td>\n",
              "      <td>Narratedby:RobbieDaymond</td>\n",
              "      <td>12 hrs and 32 mins</td>\n",
              "      <td>2017-02-05 00:00:00</td>\n",
              "      <td>English</td>\n",
              "      <td>5 out of 5 stars50 ratings</td>\n",
              "      <td>820</td>\n",
              "    </tr>\n",
              "    <tr>\n",
              "      <th>9</th>\n",
              "      <td>The Tyrantâ€™s Tomb</td>\n",
              "      <td>Writtenby:RickRiordan</td>\n",
              "      <td>Narratedby:RobbieDaymond</td>\n",
              "      <td>13 hrs and 22 mins</td>\n",
              "      <td>24-09-19</td>\n",
              "      <td>English</td>\n",
              "      <td>5 out of 5 stars58 ratings</td>\n",
              "      <td>820</td>\n",
              "    </tr>\n",
              "    <tr>\n",
              "      <th>10</th>\n",
              "      <td>The Titan's Curse: Percy Jackson, Book 3</td>\n",
              "      <td>Writtenby:RickRiordan</td>\n",
              "      <td>Narratedby:JesseBernstein</td>\n",
              "      <td>8 hrs and 48 mins</td>\n",
              "      <td>14-01-10</td>\n",
              "      <td>English</td>\n",
              "      <td>4.5 out of 5 stars130 ratings</td>\n",
              "      <td>820</td>\n",
              "    </tr>\n",
              "    <tr>\n",
              "      <th>...</th>\n",
              "      <td>...</td>\n",
              "      <td>...</td>\n",
              "      <td>...</td>\n",
              "      <td>...</td>\n",
              "      <td>...</td>\n",
              "      <td>...</td>\n",
              "      <td>...</td>\n",
              "      <td>...</td>\n",
              "    </tr>\n",
              "    <tr>\n",
              "      <th>87480</th>\n",
              "      <td>Journey into Cyprus</td>\n",
              "      <td>Writtenby:ColinThubron</td>\n",
              "      <td>Narratedby:JonathanKeeble</td>\n",
              "      <td>11 hrs and 51 mins</td>\n",
              "      <td>2018-01-01 00:00:00</td>\n",
              "      <td>English</td>\n",
              "      <td>Not rated yet</td>\n",
              "      <td>785</td>\n",
              "    </tr>\n",
              "    <tr>\n",
              "      <th>87481</th>\n",
              "      <td>The Hills of Adonis</td>\n",
              "      <td>Writtenby:ColinThubron</td>\n",
              "      <td>Narratedby:JonathanKeeble</td>\n",
              "      <td>6 hrs and 52 mins</td>\n",
              "      <td>2017-01-12 00:00:00</td>\n",
              "      <td>English</td>\n",
              "      <td>Not rated yet</td>\n",
              "      <td>679</td>\n",
              "    </tr>\n",
              "    <tr>\n",
              "      <th>87486</th>\n",
              "      <td>The Innocents Abroad</td>\n",
              "      <td>Writtenby:MarkTwain</td>\n",
              "      <td>Narratedby:FloGibson</td>\n",
              "      <td>19 hrs and 4 mins</td>\n",
              "      <td>30-12-16</td>\n",
              "      <td>English</td>\n",
              "      <td>Not rated yet</td>\n",
              "      <td>938</td>\n",
              "    </tr>\n",
              "    <tr>\n",
              "      <th>87487</th>\n",
              "      <td>A Sentimental Journey</td>\n",
              "      <td>Writtenby:LaurenceSterne</td>\n",
              "      <td>Narratedby:AntonLesser</td>\n",
              "      <td>4 hrs and 8 mins</td>\n",
              "      <td>23-02-11</td>\n",
              "      <td>English</td>\n",
              "      <td>Not rated yet</td>\n",
              "      <td>680</td>\n",
              "    </tr>\n",
              "    <tr>\n",
              "      <th>87488</th>\n",
              "      <td>Havana</td>\n",
              "      <td>Writtenby:MarkKurlansky</td>\n",
              "      <td>Narratedby:FleetCooper</td>\n",
              "      <td>6 hrs and 1 min</td>\n",
              "      <td>2017-07-03 00:00:00</td>\n",
              "      <td>English</td>\n",
              "      <td>Not rated yet</td>\n",
              "      <td>569</td>\n",
              "    </tr>\n",
              "  </tbody>\n",
              "</table>\n",
              "<p>39115 rows × 8 columns</p>\n",
              "</div>\n",
              "      <button class=\"colab-df-convert\" onclick=\"convertToInteractive('df-7395e460-cab3-4417-ab2c-1dd1cc6561bc')\"\n",
              "              title=\"Convert this dataframe to an interactive table.\"\n",
              "              style=\"display:none;\">\n",
              "        \n",
              "  <svg xmlns=\"http://www.w3.org/2000/svg\" height=\"24px\"viewBox=\"0 0 24 24\"\n",
              "       width=\"24px\">\n",
              "    <path d=\"M0 0h24v24H0V0z\" fill=\"none\"/>\n",
              "    <path d=\"M18.56 5.44l.94 2.06.94-2.06 2.06-.94-2.06-.94-.94-2.06-.94 2.06-2.06.94zm-11 1L8.5 8.5l.94-2.06 2.06-.94-2.06-.94L8.5 2.5l-.94 2.06-2.06.94zm10 10l.94 2.06.94-2.06 2.06-.94-2.06-.94-.94-2.06-.94 2.06-2.06.94z\"/><path d=\"M17.41 7.96l-1.37-1.37c-.4-.4-.92-.59-1.43-.59-.52 0-1.04.2-1.43.59L10.3 9.45l-7.72 7.72c-.78.78-.78 2.05 0 2.83L4 21.41c.39.39.9.59 1.41.59.51 0 1.02-.2 1.41-.59l7.78-7.78 2.81-2.81c.8-.78.8-2.07 0-2.86zM5.41 20L4 18.59l7.72-7.72 1.47 1.35L5.41 20z\"/>\n",
              "  </svg>\n",
              "      </button>\n",
              "      \n",
              "  <style>\n",
              "    .colab-df-container {\n",
              "      display:flex;\n",
              "      flex-wrap:wrap;\n",
              "      gap: 12px;\n",
              "    }\n",
              "\n",
              "    .colab-df-convert {\n",
              "      background-color: #E8F0FE;\n",
              "      border: none;\n",
              "      border-radius: 50%;\n",
              "      cursor: pointer;\n",
              "      display: none;\n",
              "      fill: #1967D2;\n",
              "      height: 32px;\n",
              "      padding: 0 0 0 0;\n",
              "      width: 32px;\n",
              "    }\n",
              "\n",
              "    .colab-df-convert:hover {\n",
              "      background-color: #E2EBFA;\n",
              "      box-shadow: 0px 1px 2px rgba(60, 64, 67, 0.3), 0px 1px 3px 1px rgba(60, 64, 67, 0.15);\n",
              "      fill: #174EA6;\n",
              "    }\n",
              "\n",
              "    [theme=dark] .colab-df-convert {\n",
              "      background-color: #3B4455;\n",
              "      fill: #D2E3FC;\n",
              "    }\n",
              "\n",
              "    [theme=dark] .colab-df-convert:hover {\n",
              "      background-color: #434B5C;\n",
              "      box-shadow: 0px 1px 3px 1px rgba(0, 0, 0, 0.15);\n",
              "      filter: drop-shadow(0px 1px 2px rgba(0, 0, 0, 0.3));\n",
              "      fill: #FFFFFF;\n",
              "    }\n",
              "  </style>\n",
              "\n",
              "      <script>\n",
              "        const buttonEl =\n",
              "          document.querySelector('#df-7395e460-cab3-4417-ab2c-1dd1cc6561bc button.colab-df-convert');\n",
              "        buttonEl.style.display =\n",
              "          google.colab.kernel.accessAllowed ? 'block' : 'none';\n",
              "\n",
              "        async function convertToInteractive(key) {\n",
              "          const element = document.querySelector('#df-7395e460-cab3-4417-ab2c-1dd1cc6561bc');\n",
              "          const dataTable =\n",
              "            await google.colab.kernel.invokeFunction('convertToInteractive',\n",
              "                                                     [key], {});\n",
              "          if (!dataTable) return;\n",
              "\n",
              "          const docLinkHtml = 'Like what you see? Visit the ' +\n",
              "            '<a target=\"_blank\" href=https://colab.research.google.com/notebooks/data_table.ipynb>data table notebook</a>'\n",
              "            + ' to learn more about interactive tables.';\n",
              "          element.innerHTML = '';\n",
              "          dataTable['output_type'] = 'display_data';\n",
              "          await google.colab.output.renderOutput(dataTable, element);\n",
              "          const docLink = document.createElement('div');\n",
              "          docLink.innerHTML = docLinkHtml;\n",
              "          element.appendChild(docLink);\n",
              "        }\n",
              "      </script>\n",
              "    </div>\n",
              "  </div>\n",
              "  "
            ]
          },
          "metadata": {},
          "execution_count": 34
        }
      ]
    },
    {
      "cell_type": "markdown",
      "source": [
        "### unique\n",
        "- can convert to a cateory"
      ],
      "metadata": {
        "id": "FYKSys-9HTdh"
      }
    },
    {
      "cell_type": "code",
      "source": [
        "len(audible['author'].unique())"
      ],
      "metadata": {
        "colab": {
          "base_uri": "https://localhost:8080/"
        },
        "id": "LmHhhET5HVpf",
        "outputId": "91913f64-e26a-452a-d926-8b53d678b31b"
      },
      "execution_count": 35,
      "outputs": [
        {
          "output_type": "execute_result",
          "data": {
            "text/plain": [
              "48374"
            ]
          },
          "metadata": {},
          "execution_count": 35
        }
      ]
    },
    {
      "cell_type": "markdown",
      "source": [
        "## narrator"
      ],
      "metadata": {
        "id": "NXO4K8uYFC_7"
      }
    },
    {
      "cell_type": "markdown",
      "source": [
        "### head, tail & sample"
      ],
      "metadata": {
        "id": "zvnvIA2KFOrM"
      }
    },
    {
      "cell_type": "code",
      "source": [
        "audible['narrator'].head()"
      ],
      "metadata": {
        "colab": {
          "base_uri": "https://localhost:8080/"
        },
        "id": "fORIcx-H-oO8",
        "outputId": "c27e64a6-5775-481d-a087-ee572213a241"
      },
      "execution_count": 36,
      "outputs": [
        {
          "output_type": "execute_result",
          "data": {
            "text/plain": [
              "0        Narratedby:BillLobely\n",
              "1     Narratedby:RobbieDaymond\n",
              "2        Narratedby:DanRussell\n",
              "3    Narratedby:SoneelaNankani\n",
              "4    Narratedby:JesseBernstein\n",
              "Name: narrator, dtype: object"
            ]
          },
          "metadata": {},
          "execution_count": 36
        }
      ]
    },
    {
      "cell_type": "code",
      "source": [
        "audible['narrator'].tail()"
      ],
      "metadata": {
        "colab": {
          "base_uri": "https://localhost:8080/"
        },
        "id": "-H90cZns-oTY",
        "outputId": "ff10103f-3723-445f-82cf-8db5c8031e89"
      },
      "execution_count": 37,
      "outputs": [
        {
          "output_type": "execute_result",
          "data": {
            "text/plain": [
              "87484    Narratedby:ChrisStewart\n",
              "87485      Narratedby:RobertFass\n",
              "87486       Narratedby:FloGibson\n",
              "87487     Narratedby:AntonLesser\n",
              "87488     Narratedby:FleetCooper\n",
              "Name: narrator, dtype: object"
            ]
          },
          "metadata": {},
          "execution_count": 37
        }
      ]
    },
    {
      "cell_type": "code",
      "source": [
        "audible['narrator'].sample(5)"
      ],
      "metadata": {
        "colab": {
          "base_uri": "https://localhost:8080/"
        },
        "id": "jYuunDjQ-oXe",
        "outputId": "ab2c9653-2be5-481e-d5f5-4361e6b4bf25"
      },
      "execution_count": 38,
      "outputs": [
        {
          "output_type": "execute_result",
          "data": {
            "text/plain": [
              "43500    Narratedby:IggyToma,KirtGraves\n",
              "14561           Narratedby:JulienAllouf\n",
              "36694          Narratedby:PatrickLawlor\n",
              "72495            Narratedby:OlgaDianova\n",
              "9586            Narratedby:SoniaManzano\n",
              "Name: narrator, dtype: object"
            ]
          },
          "metadata": {},
          "execution_count": 38
        }
      ]
    },
    {
      "cell_type": "markdown",
      "source": [
        "### info"
      ],
      "metadata": {
        "id": "DIec-rv_-obD"
      }
    },
    {
      "cell_type": "code",
      "source": [
        "audible['narrator'].info()"
      ],
      "metadata": {
        "colab": {
          "base_uri": "https://localhost:8080/"
        },
        "id": "OX9enZIh-otX",
        "outputId": "d6cfa570-fd97-4efa-c604-68e65b6d54fb"
      },
      "execution_count": 39,
      "outputs": [
        {
          "output_type": "stream",
          "name": "stdout",
          "text": [
            "<class 'pandas.core.series.Series'>\n",
            "RangeIndex: 87489 entries, 0 to 87488\n",
            "Series name: narrator\n",
            "Non-Null Count  Dtype \n",
            "--------------  ----- \n",
            "87489 non-null  object\n",
            "dtypes: object(1)\n",
            "memory usage: 683.6+ KB\n"
          ]
        }
      ]
    },
    {
      "cell_type": "markdown",
      "source": [
        "### unique"
      ],
      "metadata": {
        "id": "GyKTzLf7Hhbm"
      }
    },
    {
      "cell_type": "code",
      "source": [
        "len(audible['narrator'].unique())"
      ],
      "metadata": {
        "colab": {
          "base_uri": "https://localhost:8080/"
        },
        "id": "XkeDioLV-o8P",
        "outputId": "be7e7fd5-3c5c-4f46-a517-65c3ac9cdf96"
      },
      "execution_count": 40,
      "outputs": [
        {
          "output_type": "execute_result",
          "data": {
            "text/plain": [
              "29717"
            ]
          },
          "metadata": {},
          "execution_count": 40
        }
      ]
    },
    {
      "cell_type": "markdown",
      "source": [
        "## time"
      ],
      "metadata": {
        "id": "mYow4TclHlOO"
      }
    },
    {
      "cell_type": "markdown",
      "source": [
        "### head, tail & sample"
      ],
      "metadata": {
        "id": "jiJnTqbMH4Du"
      }
    },
    {
      "cell_type": "code",
      "source": [
        "audible['time'].head()"
      ],
      "metadata": {
        "colab": {
          "base_uri": "https://localhost:8080/"
        },
        "id": "ThP2vDaMGtx8",
        "outputId": "096f6119-8f2a-4f82-b5a6-b5eeb8748257"
      },
      "execution_count": 41,
      "outputs": [
        {
          "output_type": "execute_result",
          "data": {
            "text/plain": [
              "0     2 hrs and 20 mins\n",
              "1     13 hrs and 8 mins\n",
              "2      2 hrs and 3 mins\n",
              "3    11 hrs and 16 mins\n",
              "4                10 hrs\n",
              "Name: time, dtype: object"
            ]
          },
          "metadata": {},
          "execution_count": 41
        }
      ]
    },
    {
      "cell_type": "code",
      "source": [
        "audible['time'].tail()"
      ],
      "metadata": {
        "colab": {
          "base_uri": "https://localhost:8080/"
        },
        "id": "C64c09xd-pDS",
        "outputId": "9468a753-037e-4ed4-82bc-caad82af32db"
      },
      "execution_count": 42,
      "outputs": [
        {
          "output_type": "execute_result",
          "data": {
            "text/plain": [
              "87484    7 hrs and 34 mins\n",
              "87485    10 hrs and 7 mins\n",
              "87486    19 hrs and 4 mins\n",
              "87487     4 hrs and 8 mins\n",
              "87488      6 hrs and 1 min\n",
              "Name: time, dtype: object"
            ]
          },
          "metadata": {},
          "execution_count": 42
        }
      ]
    },
    {
      "cell_type": "code",
      "source": [
        "audible['time'].sample(5)"
      ],
      "metadata": {
        "colab": {
          "base_uri": "https://localhost:8080/"
        },
        "id": "pHimD6--IRGk",
        "outputId": "89b777a9-b5b9-4cb8-aacb-3cc58e9eaf54"
      },
      "execution_count": 43,
      "outputs": [
        {
          "output_type": "execute_result",
          "data": {
            "text/plain": [
              "39359    2 hrs and 34 mins\n",
              "82319     6 hrs and 9 mins\n",
              "70698    9 hrs and 17 mins\n",
              "7569      2 hrs and 6 mins\n",
              "31748    6 hrs and 10 mins\n",
              "Name: time, dtype: object"
            ]
          },
          "metadata": {},
          "execution_count": 43
        }
      ]
    },
    {
      "cell_type": "markdown",
      "source": [
        "### info"
      ],
      "metadata": {
        "id": "mUuMR09mIgik"
      }
    },
    {
      "cell_type": "code",
      "source": [
        "audible['time'].info()"
      ],
      "metadata": {
        "colab": {
          "base_uri": "https://localhost:8080/"
        },
        "id": "brxLPqJBIn84",
        "outputId": "0b25c3f7-1ca5-47c0-e313-7ab5a2b19f1d"
      },
      "execution_count": 44,
      "outputs": [
        {
          "output_type": "stream",
          "name": "stdout",
          "text": [
            "<class 'pandas.core.series.Series'>\n",
            "RangeIndex: 87489 entries, 0 to 87488\n",
            "Series name: time\n",
            "Non-Null Count  Dtype \n",
            "--------------  ----- \n",
            "87489 non-null  object\n",
            "dtypes: object(1)\n",
            "memory usage: 683.6+ KB\n"
          ]
        }
      ]
    },
    {
      "cell_type": "markdown",
      "source": [
        "### duplicated"
      ],
      "metadata": {
        "id": "5QflJ0aMJQuj"
      }
    },
    {
      "cell_type": "code",
      "source": [
        "audible['time'].duplicated().sum()"
      ],
      "metadata": {
        "colab": {
          "base_uri": "https://localhost:8080/"
        },
        "id": "b6DvavHCJKSS",
        "outputId": "ea2b5d2a-693e-4ad3-b938-dc76d1c78aa8"
      },
      "execution_count": 45,
      "outputs": [
        {
          "output_type": "execute_result",
          "data": {
            "text/plain": [
              "85205"
            ]
          },
          "metadata": {},
          "execution_count": 45
        }
      ]
    },
    {
      "cell_type": "code",
      "source": [
        "audible[audible['time'].duplicated()]['time']"
      ],
      "metadata": {
        "colab": {
          "base_uri": "https://localhost:8080/"
        },
        "id": "ndIKQf8OJWZ7",
        "outputId": "3c92bd1d-4719-448d-83f8-7c12821500d0"
      },
      "execution_count": 46,
      "outputs": [
        {
          "output_type": "execute_result",
          "data": {
            "text/plain": [
              "48         2 hrs and 1 min\n",
              "67       5 hrs and 27 mins\n",
              "70       2 hrs and 23 mins\n",
              "76       5 hrs and 41 mins\n",
              "84       9 hrs and 30 mins\n",
              "               ...        \n",
              "87484    7 hrs and 34 mins\n",
              "87485    10 hrs and 7 mins\n",
              "87486    19 hrs and 4 mins\n",
              "87487     4 hrs and 8 mins\n",
              "87488      6 hrs and 1 min\n",
              "Name: time, Length: 85205, dtype: object"
            ]
          },
          "metadata": {},
          "execution_count": 46
        }
      ]
    },
    {
      "cell_type": "markdown",
      "source": [
        "## releasedate"
      ],
      "metadata": {
        "id": "1xLFH6LlJtFG"
      }
    },
    {
      "cell_type": "markdown",
      "source": [
        "### head,tail & sample"
      ],
      "metadata": {
        "id": "aQjw52v5JtB4"
      }
    },
    {
      "cell_type": "code",
      "source": [
        "audible['releasedate'].head()"
      ],
      "metadata": {
        "colab": {
          "base_uri": "https://localhost:8080/"
        },
        "id": "sB3vdesVJ0pv",
        "outputId": "b0c787f0-2863-42d0-f13a-bd2166ccbc8b"
      },
      "execution_count": 47,
      "outputs": [
        {
          "output_type": "execute_result",
          "data": {
            "text/plain": [
              "0    2008-04-08 00:00:00\n",
              "1    2018-01-05 00:00:00\n",
              "2    2020-06-11 00:00:00\n",
              "3    2021-05-10 00:00:00\n",
              "4    2010-01-13 00:00:00\n",
              "Name: releasedate, dtype: object"
            ]
          },
          "metadata": {},
          "execution_count": 47
        }
      ]
    },
    {
      "cell_type": "code",
      "source": [
        "audible['releasedate'].tail()"
      ],
      "metadata": {
        "colab": {
          "base_uri": "https://localhost:8080/"
        },
        "id": "zQ9OIHkuJ-nL",
        "outputId": "9f1ad81c-ded6-4816-861f-c2bd16755d2c"
      },
      "execution_count": 48,
      "outputs": [
        {
          "output_type": "execute_result",
          "data": {
            "text/plain": [
              "87484    2017-09-03 00:00:00\n",
              "87485               21-02-17\n",
              "87486               30-12-16\n",
              "87487               23-02-11\n",
              "87488    2017-07-03 00:00:00\n",
              "Name: releasedate, dtype: object"
            ]
          },
          "metadata": {},
          "execution_count": 48
        }
      ]
    },
    {
      "cell_type": "code",
      "source": [
        "audible['releasedate'].sample(5)"
      ],
      "metadata": {
        "colab": {
          "base_uri": "https://localhost:8080/"
        },
        "id": "5gN08SmFKSb_",
        "outputId": "86bf1573-9936-4887-bf25-e859491b7ed8"
      },
      "execution_count": 49,
      "outputs": [
        {
          "output_type": "execute_result",
          "data": {
            "text/plain": [
              "49789    2008-05-12 00:00:00\n",
              "4722     2022-04-01 00:00:00\n",
              "82982    2021-01-12 00:00:00\n",
              "18502               19-10-21\n",
              "35569               22-03-22\n",
              "Name: releasedate, dtype: object"
            ]
          },
          "metadata": {},
          "execution_count": 49
        }
      ]
    },
    {
      "cell_type": "markdown",
      "source": [
        "### info"
      ],
      "metadata": {
        "id": "0vK82UxNJz3N"
      }
    },
    {
      "cell_type": "code",
      "source": [
        "audible['releasedate'].info(5)"
      ],
      "metadata": {
        "colab": {
          "base_uri": "https://localhost:8080/"
        },
        "id": "-AeJhgbkK4wH",
        "outputId": "4c0d0b4d-1e32-4310-b91f-e61e8dbc8d4b"
      },
      "execution_count": 50,
      "outputs": [
        {
          "output_type": "stream",
          "name": "stdout",
          "text": [
            "<class 'pandas.core.series.Series'>\n",
            "RangeIndex: 87489 entries, 0 to 87488\n",
            "Series name: releasedate\n",
            "Non-Null Count  Dtype \n",
            "--------------  ----- \n",
            "87489 non-null  object\n",
            "dtypes: object(1)\n",
            "memory usage: 683.6+ KB\n"
          ]
        }
      ]
    },
    {
      "cell_type": "markdown",
      "source": [
        "### duplicated"
      ],
      "metadata": {
        "id": "u7A-JT7bJs9w"
      }
    },
    {
      "cell_type": "code",
      "source": [
        "audible['releasedate'].duplicated().sum()"
      ],
      "metadata": {
        "colab": {
          "base_uri": "https://localhost:8080/"
        },
        "id": "rnNDm1ukLEnF",
        "outputId": "45fad90a-6f48-41e9-cc5c-b723c459ee67"
      },
      "execution_count": 51,
      "outputs": [
        {
          "output_type": "execute_result",
          "data": {
            "text/plain": [
              "82430"
            ]
          },
          "metadata": {},
          "execution_count": 51
        }
      ]
    },
    {
      "cell_type": "code",
      "source": [
        "audible[audible['releasedate'].duplicated()]['releasedate']"
      ],
      "metadata": {
        "colab": {
          "base_uri": "https://localhost:8080/"
        },
        "id": "x_arJgHpLpc7",
        "outputId": "6a33c805-524a-4c7b-c5e8-b7869a4aaf6e"
      },
      "execution_count": 52,
      "outputs": [
        {
          "output_type": "execute_result",
          "data": {
            "text/plain": [
              "8        2017-02-05 00:00:00\n",
              "18       2017-02-05 00:00:00\n",
              "19       2018-06-11 00:00:00\n",
              "29                  25-11-14\n",
              "36       2008-08-02 00:00:00\n",
              "                ...         \n",
              "87484    2017-09-03 00:00:00\n",
              "87485               21-02-17\n",
              "87486               30-12-16\n",
              "87487               23-02-11\n",
              "87488    2017-07-03 00:00:00\n",
              "Name: releasedate, Length: 82430, dtype: object"
            ]
          },
          "metadata": {},
          "execution_count": 52
        }
      ]
    },
    {
      "cell_type": "markdown",
      "source": [
        "## language\n"
      ],
      "metadata": {
        "id": "ttMsbxnSJs7Q"
      }
    },
    {
      "cell_type": "markdown",
      "source": [
        "### unique"
      ],
      "metadata": {
        "id": "eq5Loa8zMMXA"
      }
    },
    {
      "cell_type": "code",
      "source": [
        "audible['language'].unique()"
      ],
      "metadata": {
        "colab": {
          "base_uri": "https://localhost:8080/"
        },
        "id": "c4qz9traMLN7",
        "outputId": "2031a1c1-85eb-4880-c4be-759cd2084bc3"
      },
      "execution_count": 53,
      "outputs": [
        {
          "output_type": "execute_result",
          "data": {
            "text/plain": [
              "array(['English', 'Hindi', 'spanish', 'german', 'french', 'catalan',\n",
              "       'swedish', 'italian', 'danish', 'finnish', 'dutch', 'hebrew',\n",
              "       'russian', 'polish', 'galician', 'afrikaans', 'icelandic',\n",
              "       'romanian', 'japanese', 'tamil', 'portuguese', 'urdu', 'hungarian',\n",
              "       'czech', 'bulgarian', 'mandarin_chinese', 'basque', 'korean',\n",
              "       'arabic', 'greek', 'turkish', 'ukrainian', 'slovene', 'norwegian',\n",
              "       'telugu', 'lithuanian'], dtype=object)"
            ]
          },
          "metadata": {},
          "execution_count": 53
        }
      ]
    },
    {
      "cell_type": "markdown",
      "source": [
        "### duplicated"
      ],
      "metadata": {
        "id": "nw6o8ya_MqbY"
      }
    },
    {
      "cell_type": "code",
      "source": [
        "audible['language'].duplicated().sum()"
      ],
      "metadata": {
        "colab": {
          "base_uri": "https://localhost:8080/"
        },
        "id": "_Xwx_WiKMKN0",
        "outputId": "d35d6118-c73b-4b08-ba12-be799fcda5fa"
      },
      "execution_count": 54,
      "outputs": [
        {
          "output_type": "execute_result",
          "data": {
            "text/plain": [
              "87453"
            ]
          },
          "metadata": {},
          "execution_count": 54
        }
      ]
    },
    {
      "cell_type": "markdown",
      "source": [
        "### head, tail & sample"
      ],
      "metadata": {
        "id": "IxQK3XgkJsjr"
      }
    },
    {
      "cell_type": "code",
      "source": [
        "audible['language'].head()"
      ],
      "metadata": {
        "colab": {
          "base_uri": "https://localhost:8080/"
        },
        "id": "C4EDYAIGM_qg",
        "outputId": "89ceeb52-4d7b-4776-a5c4-ff781c1cd662"
      },
      "execution_count": 55,
      "outputs": [
        {
          "output_type": "execute_result",
          "data": {
            "text/plain": [
              "0    English\n",
              "1    English\n",
              "2    English\n",
              "3    English\n",
              "4    English\n",
              "Name: language, dtype: object"
            ]
          },
          "metadata": {},
          "execution_count": 55
        }
      ]
    },
    {
      "cell_type": "code",
      "source": [
        "audible['language'].tail()"
      ],
      "metadata": {
        "colab": {
          "base_uri": "https://localhost:8080/"
        },
        "id": "SqrHwPATNCxD",
        "outputId": "3dfde4e3-6e44-4915-abd5-bd0541f94c70"
      },
      "execution_count": 56,
      "outputs": [
        {
          "output_type": "execute_result",
          "data": {
            "text/plain": [
              "87484    English\n",
              "87485    English\n",
              "87486    English\n",
              "87487    English\n",
              "87488    English\n",
              "Name: language, dtype: object"
            ]
          },
          "metadata": {},
          "execution_count": 56
        }
      ]
    },
    {
      "cell_type": "code",
      "source": [
        "audible['language'].sample(5)"
      ],
      "metadata": {
        "colab": {
          "base_uri": "https://localhost:8080/"
        },
        "id": "o0hUanQQNFG7",
        "outputId": "a71c14dc-87fa-44b7-cafd-37c8ad6bf9c8"
      },
      "execution_count": 57,
      "outputs": [
        {
          "output_type": "execute_result",
          "data": {
            "text/plain": [
              "19771    English\n",
              "59726    italian\n",
              "24039     german\n",
              "38995    English\n",
              "26961    English\n",
              "Name: language, dtype: object"
            ]
          },
          "metadata": {},
          "execution_count": 57
        }
      ]
    },
    {
      "cell_type": "code",
      "source": [
        "audible['language'].value_counts()"
      ],
      "metadata": {
        "colab": {
          "base_uri": "https://localhost:8080/"
        },
        "id": "Z_efehjkNQXJ",
        "outputId": "596fe00c-4611-4a06-9d48-f97cd8be4edb"
      },
      "execution_count": 58,
      "outputs": [
        {
          "output_type": "execute_result",
          "data": {
            "text/plain": [
              "English             61884\n",
              "german               8295\n",
              "spanish              3496\n",
              "japanese             3167\n",
              "italian              2694\n",
              "french               2386\n",
              "russian              1804\n",
              "danish                935\n",
              "portuguese            526\n",
              "swedish               515\n",
              "Hindi                 436\n",
              "polish                224\n",
              "finnish               197\n",
              "dutch                 190\n",
              "tamil                 161\n",
              "catalan               153\n",
              "mandarin_chinese       97\n",
              "icelandic              52\n",
              "romanian               50\n",
              "hungarian              36\n",
              "urdu                   34\n",
              "afrikaans              28\n",
              "czech                  23\n",
              "turkish                20\n",
              "greek                  18\n",
              "arabic                 16\n",
              "norwegian              16\n",
              "galician               10\n",
              "bulgarian               9\n",
              "korean                  4\n",
              "slovene                 4\n",
              "hebrew                  2\n",
              "basque                  2\n",
              "telugu                  2\n",
              "lithuanian              2\n",
              "ukrainian               1\n",
              "Name: language, dtype: int64"
            ]
          },
          "metadata": {},
          "execution_count": 58
        }
      ]
    },
    {
      "cell_type": "markdown",
      "source": [
        "### info"
      ],
      "metadata": {
        "id": "42k9M1umNx0Q"
      }
    },
    {
      "cell_type": "code",
      "source": [
        "audible['language'].info()"
      ],
      "metadata": {
        "colab": {
          "base_uri": "https://localhost:8080/"
        },
        "id": "plmc2LTgNzZn",
        "outputId": "ad5d519e-8ea7-4a4e-9fb1-4cc8e75c434b"
      },
      "execution_count": 59,
      "outputs": [
        {
          "output_type": "stream",
          "name": "stdout",
          "text": [
            "<class 'pandas.core.series.Series'>\n",
            "RangeIndex: 87489 entries, 0 to 87488\n",
            "Series name: language\n",
            "Non-Null Count  Dtype \n",
            "--------------  ----- \n",
            "87489 non-null  object\n",
            "dtypes: object(1)\n",
            "memory usage: 683.6+ KB\n"
          ]
        }
      ]
    },
    {
      "cell_type": "markdown",
      "source": [
        "## stars"
      ],
      "metadata": {
        "id": "wTnu48spODJO"
      }
    },
    {
      "cell_type": "markdown",
      "source": [
        "### head, tail & sample"
      ],
      "metadata": {
        "id": "KK2G0SNWOJGx"
      }
    },
    {
      "cell_type": "code",
      "source": [
        "audible['stars'].head()"
      ],
      "metadata": {
        "colab": {
          "base_uri": "https://localhost:8080/"
        },
        "id": "tGgWCnExOLv3",
        "outputId": "9c3d3f1f-9deb-4c80-9aa3-d19a086649e7"
      },
      "execution_count": 60,
      "outputs": [
        {
          "output_type": "execute_result",
          "data": {
            "text/plain": [
              "0       5 out of 5 stars34 ratings\n",
              "1     4.5 out of 5 stars41 ratings\n",
              "2     4.5 out of 5 stars38 ratings\n",
              "3     4.5 out of 5 stars12 ratings\n",
              "4    4.5 out of 5 stars181 ratings\n",
              "Name: stars, dtype: object"
            ]
          },
          "metadata": {},
          "execution_count": 60
        }
      ]
    },
    {
      "cell_type": "code",
      "source": [
        "audible['stars'].tail()"
      ],
      "metadata": {
        "colab": {
          "base_uri": "https://localhost:8080/"
        },
        "id": "SdBSLQ3oOIJ-",
        "outputId": "cfbda9e0-8000-4825-d8cf-25d71e0422b2"
      },
      "execution_count": 61,
      "outputs": [
        {
          "output_type": "execute_result",
          "data": {
            "text/plain": [
              "87484    Not rated yet\n",
              "87485    Not rated yet\n",
              "87486    Not rated yet\n",
              "87487    Not rated yet\n",
              "87488    Not rated yet\n",
              "Name: stars, dtype: object"
            ]
          },
          "metadata": {},
          "execution_count": 61
        }
      ]
    },
    {
      "cell_type": "code",
      "source": [
        "audible['stars'].sample(5)"
      ],
      "metadata": {
        "colab": {
          "base_uri": "https://localhost:8080/"
        },
        "id": "2j4-4fbDOGLh",
        "outputId": "1e2c3b19-a951-4bb3-dad4-c281e44a099f"
      },
      "execution_count": 62,
      "outputs": [
        {
          "output_type": "execute_result",
          "data": {
            "text/plain": [
              "73614                  Not rated yet\n",
              "82719                  Not rated yet\n",
              "84328                  Not rated yet\n",
              "87402                  Not rated yet\n",
              "19717    4.5 out of 5 stars2 ratings\n",
              "Name: stars, dtype: object"
            ]
          },
          "metadata": {},
          "execution_count": 62
        }
      ]
    },
    {
      "cell_type": "code",
      "source": [
        "audible[audible['stars']==\"Not rated yet\"].count()"
      ],
      "metadata": {
        "colab": {
          "base_uri": "https://localhost:8080/"
        },
        "id": "cLrySW3mOnzS",
        "outputId": "10feeb7e-54f6-46c6-f755-9e3e46a2b7c3"
      },
      "execution_count": 63,
      "outputs": [
        {
          "output_type": "execute_result",
          "data": {
            "text/plain": [
              "name           72417\n",
              "author         72417\n",
              "narrator       72417\n",
              "time           72417\n",
              "releasedate    72417\n",
              "language       72417\n",
              "stars          72417\n",
              "price          72417\n",
              "dtype: int64"
            ]
          },
          "metadata": {},
          "execution_count": 63
        }
      ]
    },
    {
      "cell_type": "markdown",
      "source": [
        "### info"
      ],
      "metadata": {
        "id": "C-QNn82KPdeo"
      }
    },
    {
      "cell_type": "code",
      "source": [
        "audible['stars'].info()"
      ],
      "metadata": {
        "colab": {
          "base_uri": "https://localhost:8080/"
        },
        "id": "gqfRSTapPcul",
        "outputId": "346df0d0-298f-424f-9fdc-f9a4a8b7095c"
      },
      "execution_count": 64,
      "outputs": [
        {
          "output_type": "stream",
          "name": "stdout",
          "text": [
            "<class 'pandas.core.series.Series'>\n",
            "RangeIndex: 87489 entries, 0 to 87488\n",
            "Series name: stars\n",
            "Non-Null Count  Dtype \n",
            "--------------  ----- \n",
            "87489 non-null  object\n",
            "dtypes: object(1)\n",
            "memory usage: 683.6+ KB\n"
          ]
        }
      ]
    },
    {
      "cell_type": "markdown",
      "source": [
        "## price"
      ],
      "metadata": {
        "id": "tpUT3kpLQvvm"
      }
    },
    {
      "cell_type": "markdown",
      "source": [
        "### head, tail & sample"
      ],
      "metadata": {
        "id": "z7c8JEzsQyT4"
      }
    },
    {
      "cell_type": "code",
      "source": [
        "audible['price'].head()"
      ],
      "metadata": {
        "colab": {
          "base_uri": "https://localhost:8080/"
        },
        "id": "Q2Ca8VKAQxsl",
        "outputId": "78c553ce-d147-4112-caab-7643455aeed7"
      },
      "execution_count": 65,
      "outputs": [
        {
          "output_type": "execute_result",
          "data": {
            "text/plain": [
              "0    468\n",
              "1    820\n",
              "2    410\n",
              "3    615\n",
              "4    820\n",
              "Name: price, dtype: object"
            ]
          },
          "metadata": {},
          "execution_count": 65
        }
      ]
    },
    {
      "cell_type": "code",
      "source": [
        "audible['price'].tail()"
      ],
      "metadata": {
        "colab": {
          "base_uri": "https://localhost:8080/"
        },
        "id": "qik05rbVQxE4",
        "outputId": "9a9e8ed5-db81-4b4f-b9e2-9d1c26bfffdd"
      },
      "execution_count": 66,
      "outputs": [
        {
          "output_type": "execute_result",
          "data": {
            "text/plain": [
              "87484    596\n",
              "87485    820\n",
              "87486    938\n",
              "87487    680\n",
              "87488    569\n",
              "Name: price, dtype: object"
            ]
          },
          "metadata": {},
          "execution_count": 66
        }
      ]
    },
    {
      "cell_type": "code",
      "source": [
        "audible['price'].sample(5)"
      ],
      "metadata": {
        "colab": {
          "base_uri": "https://localhost:8080/"
        },
        "id": "Bwl54O2QaGTM",
        "outputId": "88c4ea43-af1a-4702-a2d3-7ea2b8d4eca3"
      },
      "execution_count": 67,
      "outputs": [
        {
          "output_type": "execute_result",
          "data": {
            "text/plain": [
              "18768    267\n",
              "79330    139\n",
              "81870    352\n",
              "27072    586\n",
              "48017    930\n",
              "Name: price, dtype: object"
            ]
          },
          "metadata": {},
          "execution_count": 67
        }
      ]
    },
    {
      "cell_type": "markdown",
      "source": [
        "### info\n",
        "\n",
        "- convert object to float"
      ],
      "metadata": {
        "id": "hua42rSjaaIe"
      }
    },
    {
      "cell_type": "code",
      "source": [
        "audible['price'].info()"
      ],
      "metadata": {
        "colab": {
          "base_uri": "https://localhost:8080/"
        },
        "id": "Hb6JuH_7QvOz",
        "outputId": "7d9b5d9f-c2d4-4744-9e93-9cb095ac1e00"
      },
      "execution_count": 68,
      "outputs": [
        {
          "output_type": "stream",
          "name": "stdout",
          "text": [
            "<class 'pandas.core.series.Series'>\n",
            "RangeIndex: 87489 entries, 0 to 87488\n",
            "Series name: price\n",
            "Non-Null Count  Dtype \n",
            "--------------  ----- \n",
            "87489 non-null  object\n",
            "dtypes: object(1)\n",
            "memory usage: 683.6+ KB\n"
          ]
        }
      ]
    },
    {
      "cell_type": "markdown",
      "source": [
        "### describe\n",
        "\n",
        "- apply after converting it to int"
      ],
      "metadata": {
        "id": "DeJd8tIaaQwr"
      }
    },
    {
      "cell_type": "markdown",
      "source": [
        "# create copy of original dataset\n",
        "\n",
        "- making changes in copy dataset and not in the original one"
      ],
      "metadata": {
        "id": "k6mvtLNxeCQ_"
      }
    },
    {
      "cell_type": "code",
      "source": [
        "audible_copy=audible.copy()"
      ],
      "metadata": {
        "id": "BJrifRmPeB0t"
      },
      "execution_count": 69,
      "outputs": []
    },
    {
      "cell_type": "code",
      "source": [
        "audible_copy"
      ],
      "metadata": {
        "colab": {
          "base_uri": "https://localhost:8080/",
          "height": 815
        },
        "id": "vEmcH9tuePCp",
        "outputId": "ec5a5a1e-1c76-4e52-e17f-737e9f6da527"
      },
      "execution_count": 70,
      "outputs": [
        {
          "output_type": "execute_result",
          "data": {
            "text/plain": [
              "                                             name                     author  \\\n",
              "0                      Geronimo Stilton #11 & #12  Writtenby:GeronimoStilton   \n",
              "1                                The Burning Maze      Writtenby:RickRiordan   \n",
              "2                                    The Deep End       Writtenby:JeffKinney   \n",
              "3                            Daughter of the Deep      Writtenby:RickRiordan   \n",
              "4      The Lightning Thief: Percy Jackson, Book 1      Writtenby:RickRiordan   \n",
              "...                                           ...                        ...   \n",
              "87484                   Last Days of the Bus Club     Writtenby:ChrisStewart   \n",
              "87485                                    The Alps    Writtenby:StephenO'Shea   \n",
              "87486                        The Innocents Abroad        Writtenby:MarkTwain   \n",
              "87487                       A Sentimental Journey   Writtenby:LaurenceSterne   \n",
              "87488                                      Havana    Writtenby:MarkKurlansky   \n",
              "\n",
              "                        narrator                time          releasedate  \\\n",
              "0          Narratedby:BillLobely   2 hrs and 20 mins  2008-04-08 00:00:00   \n",
              "1       Narratedby:RobbieDaymond   13 hrs and 8 mins  2018-01-05 00:00:00   \n",
              "2          Narratedby:DanRussell    2 hrs and 3 mins  2020-06-11 00:00:00   \n",
              "3      Narratedby:SoneelaNankani  11 hrs and 16 mins  2021-05-10 00:00:00   \n",
              "4      Narratedby:JesseBernstein              10 hrs  2010-01-13 00:00:00   \n",
              "...                          ...                 ...                  ...   \n",
              "87484    Narratedby:ChrisStewart   7 hrs and 34 mins  2017-09-03 00:00:00   \n",
              "87485      Narratedby:RobertFass   10 hrs and 7 mins             21-02-17   \n",
              "87486       Narratedby:FloGibson   19 hrs and 4 mins             30-12-16   \n",
              "87487     Narratedby:AntonLesser    4 hrs and 8 mins             23-02-11   \n",
              "87488     Narratedby:FleetCooper     6 hrs and 1 min  2017-07-03 00:00:00   \n",
              "\n",
              "      language                          stars price  \n",
              "0      English     5 out of 5 stars34 ratings   468  \n",
              "1      English   4.5 out of 5 stars41 ratings   820  \n",
              "2      English   4.5 out of 5 stars38 ratings   410  \n",
              "3      English   4.5 out of 5 stars12 ratings   615  \n",
              "4      English  4.5 out of 5 stars181 ratings   820  \n",
              "...        ...                            ...   ...  \n",
              "87484  English                  Not rated yet   596  \n",
              "87485  English                  Not rated yet   820  \n",
              "87486  English                  Not rated yet   938  \n",
              "87487  English                  Not rated yet   680  \n",
              "87488  English                  Not rated yet   569  \n",
              "\n",
              "[87489 rows x 8 columns]"
            ],
            "text/html": [
              "\n",
              "  <div id=\"df-7961a8b0-856c-4310-8f0b-96c4238a9836\">\n",
              "    <div class=\"colab-df-container\">\n",
              "      <div>\n",
              "<style scoped>\n",
              "    .dataframe tbody tr th:only-of-type {\n",
              "        vertical-align: middle;\n",
              "    }\n",
              "\n",
              "    .dataframe tbody tr th {\n",
              "        vertical-align: top;\n",
              "    }\n",
              "\n",
              "    .dataframe thead th {\n",
              "        text-align: right;\n",
              "    }\n",
              "</style>\n",
              "<table border=\"1\" class=\"dataframe\">\n",
              "  <thead>\n",
              "    <tr style=\"text-align: right;\">\n",
              "      <th></th>\n",
              "      <th>name</th>\n",
              "      <th>author</th>\n",
              "      <th>narrator</th>\n",
              "      <th>time</th>\n",
              "      <th>releasedate</th>\n",
              "      <th>language</th>\n",
              "      <th>stars</th>\n",
              "      <th>price</th>\n",
              "    </tr>\n",
              "  </thead>\n",
              "  <tbody>\n",
              "    <tr>\n",
              "      <th>0</th>\n",
              "      <td>Geronimo Stilton #11 &amp; #12</td>\n",
              "      <td>Writtenby:GeronimoStilton</td>\n",
              "      <td>Narratedby:BillLobely</td>\n",
              "      <td>2 hrs and 20 mins</td>\n",
              "      <td>2008-04-08 00:00:00</td>\n",
              "      <td>English</td>\n",
              "      <td>5 out of 5 stars34 ratings</td>\n",
              "      <td>468</td>\n",
              "    </tr>\n",
              "    <tr>\n",
              "      <th>1</th>\n",
              "      <td>The Burning Maze</td>\n",
              "      <td>Writtenby:RickRiordan</td>\n",
              "      <td>Narratedby:RobbieDaymond</td>\n",
              "      <td>13 hrs and 8 mins</td>\n",
              "      <td>2018-01-05 00:00:00</td>\n",
              "      <td>English</td>\n",
              "      <td>4.5 out of 5 stars41 ratings</td>\n",
              "      <td>820</td>\n",
              "    </tr>\n",
              "    <tr>\n",
              "      <th>2</th>\n",
              "      <td>The Deep End</td>\n",
              "      <td>Writtenby:JeffKinney</td>\n",
              "      <td>Narratedby:DanRussell</td>\n",
              "      <td>2 hrs and 3 mins</td>\n",
              "      <td>2020-06-11 00:00:00</td>\n",
              "      <td>English</td>\n",
              "      <td>4.5 out of 5 stars38 ratings</td>\n",
              "      <td>410</td>\n",
              "    </tr>\n",
              "    <tr>\n",
              "      <th>3</th>\n",
              "      <td>Daughter of the Deep</td>\n",
              "      <td>Writtenby:RickRiordan</td>\n",
              "      <td>Narratedby:SoneelaNankani</td>\n",
              "      <td>11 hrs and 16 mins</td>\n",
              "      <td>2021-05-10 00:00:00</td>\n",
              "      <td>English</td>\n",
              "      <td>4.5 out of 5 stars12 ratings</td>\n",
              "      <td>615</td>\n",
              "    </tr>\n",
              "    <tr>\n",
              "      <th>4</th>\n",
              "      <td>The Lightning Thief: Percy Jackson, Book 1</td>\n",
              "      <td>Writtenby:RickRiordan</td>\n",
              "      <td>Narratedby:JesseBernstein</td>\n",
              "      <td>10 hrs</td>\n",
              "      <td>2010-01-13 00:00:00</td>\n",
              "      <td>English</td>\n",
              "      <td>4.5 out of 5 stars181 ratings</td>\n",
              "      <td>820</td>\n",
              "    </tr>\n",
              "    <tr>\n",
              "      <th>...</th>\n",
              "      <td>...</td>\n",
              "      <td>...</td>\n",
              "      <td>...</td>\n",
              "      <td>...</td>\n",
              "      <td>...</td>\n",
              "      <td>...</td>\n",
              "      <td>...</td>\n",
              "      <td>...</td>\n",
              "    </tr>\n",
              "    <tr>\n",
              "      <th>87484</th>\n",
              "      <td>Last Days of the Bus Club</td>\n",
              "      <td>Writtenby:ChrisStewart</td>\n",
              "      <td>Narratedby:ChrisStewart</td>\n",
              "      <td>7 hrs and 34 mins</td>\n",
              "      <td>2017-09-03 00:00:00</td>\n",
              "      <td>English</td>\n",
              "      <td>Not rated yet</td>\n",
              "      <td>596</td>\n",
              "    </tr>\n",
              "    <tr>\n",
              "      <th>87485</th>\n",
              "      <td>The Alps</td>\n",
              "      <td>Writtenby:StephenO'Shea</td>\n",
              "      <td>Narratedby:RobertFass</td>\n",
              "      <td>10 hrs and 7 mins</td>\n",
              "      <td>21-02-17</td>\n",
              "      <td>English</td>\n",
              "      <td>Not rated yet</td>\n",
              "      <td>820</td>\n",
              "    </tr>\n",
              "    <tr>\n",
              "      <th>87486</th>\n",
              "      <td>The Innocents Abroad</td>\n",
              "      <td>Writtenby:MarkTwain</td>\n",
              "      <td>Narratedby:FloGibson</td>\n",
              "      <td>19 hrs and 4 mins</td>\n",
              "      <td>30-12-16</td>\n",
              "      <td>English</td>\n",
              "      <td>Not rated yet</td>\n",
              "      <td>938</td>\n",
              "    </tr>\n",
              "    <tr>\n",
              "      <th>87487</th>\n",
              "      <td>A Sentimental Journey</td>\n",
              "      <td>Writtenby:LaurenceSterne</td>\n",
              "      <td>Narratedby:AntonLesser</td>\n",
              "      <td>4 hrs and 8 mins</td>\n",
              "      <td>23-02-11</td>\n",
              "      <td>English</td>\n",
              "      <td>Not rated yet</td>\n",
              "      <td>680</td>\n",
              "    </tr>\n",
              "    <tr>\n",
              "      <th>87488</th>\n",
              "      <td>Havana</td>\n",
              "      <td>Writtenby:MarkKurlansky</td>\n",
              "      <td>Narratedby:FleetCooper</td>\n",
              "      <td>6 hrs and 1 min</td>\n",
              "      <td>2017-07-03 00:00:00</td>\n",
              "      <td>English</td>\n",
              "      <td>Not rated yet</td>\n",
              "      <td>569</td>\n",
              "    </tr>\n",
              "  </tbody>\n",
              "</table>\n",
              "<p>87489 rows × 8 columns</p>\n",
              "</div>\n",
              "      <button class=\"colab-df-convert\" onclick=\"convertToInteractive('df-7961a8b0-856c-4310-8f0b-96c4238a9836')\"\n",
              "              title=\"Convert this dataframe to an interactive table.\"\n",
              "              style=\"display:none;\">\n",
              "        \n",
              "  <svg xmlns=\"http://www.w3.org/2000/svg\" height=\"24px\"viewBox=\"0 0 24 24\"\n",
              "       width=\"24px\">\n",
              "    <path d=\"M0 0h24v24H0V0z\" fill=\"none\"/>\n",
              "    <path d=\"M18.56 5.44l.94 2.06.94-2.06 2.06-.94-2.06-.94-.94-2.06-.94 2.06-2.06.94zm-11 1L8.5 8.5l.94-2.06 2.06-.94-2.06-.94L8.5 2.5l-.94 2.06-2.06.94zm10 10l.94 2.06.94-2.06 2.06-.94-2.06-.94-.94-2.06-.94 2.06-2.06.94z\"/><path d=\"M17.41 7.96l-1.37-1.37c-.4-.4-.92-.59-1.43-.59-.52 0-1.04.2-1.43.59L10.3 9.45l-7.72 7.72c-.78.78-.78 2.05 0 2.83L4 21.41c.39.39.9.59 1.41.59.51 0 1.02-.2 1.41-.59l7.78-7.78 2.81-2.81c.8-.78.8-2.07 0-2.86zM5.41 20L4 18.59l7.72-7.72 1.47 1.35L5.41 20z\"/>\n",
              "  </svg>\n",
              "      </button>\n",
              "      \n",
              "  <style>\n",
              "    .colab-df-container {\n",
              "      display:flex;\n",
              "      flex-wrap:wrap;\n",
              "      gap: 12px;\n",
              "    }\n",
              "\n",
              "    .colab-df-convert {\n",
              "      background-color: #E8F0FE;\n",
              "      border: none;\n",
              "      border-radius: 50%;\n",
              "      cursor: pointer;\n",
              "      display: none;\n",
              "      fill: #1967D2;\n",
              "      height: 32px;\n",
              "      padding: 0 0 0 0;\n",
              "      width: 32px;\n",
              "    }\n",
              "\n",
              "    .colab-df-convert:hover {\n",
              "      background-color: #E2EBFA;\n",
              "      box-shadow: 0px 1px 2px rgba(60, 64, 67, 0.3), 0px 1px 3px 1px rgba(60, 64, 67, 0.15);\n",
              "      fill: #174EA6;\n",
              "    }\n",
              "\n",
              "    [theme=dark] .colab-df-convert {\n",
              "      background-color: #3B4455;\n",
              "      fill: #D2E3FC;\n",
              "    }\n",
              "\n",
              "    [theme=dark] .colab-df-convert:hover {\n",
              "      background-color: #434B5C;\n",
              "      box-shadow: 0px 1px 3px 1px rgba(0, 0, 0, 0.15);\n",
              "      filter: drop-shadow(0px 1px 2px rgba(0, 0, 0, 0.3));\n",
              "      fill: #FFFFFF;\n",
              "    }\n",
              "  </style>\n",
              "\n",
              "      <script>\n",
              "        const buttonEl =\n",
              "          document.querySelector('#df-7961a8b0-856c-4310-8f0b-96c4238a9836 button.colab-df-convert');\n",
              "        buttonEl.style.display =\n",
              "          google.colab.kernel.accessAllowed ? 'block' : 'none';\n",
              "\n",
              "        async function convertToInteractive(key) {\n",
              "          const element = document.querySelector('#df-7961a8b0-856c-4310-8f0b-96c4238a9836');\n",
              "          const dataTable =\n",
              "            await google.colab.kernel.invokeFunction('convertToInteractive',\n",
              "                                                     [key], {});\n",
              "          if (!dataTable) return;\n",
              "\n",
              "          const docLinkHtml = 'Like what you see? Visit the ' +\n",
              "            '<a target=\"_blank\" href=https://colab.research.google.com/notebooks/data_table.ipynb>data table notebook</a>'\n",
              "            + ' to learn more about interactive tables.';\n",
              "          element.innerHTML = '';\n",
              "          dataTable['output_type'] = 'display_data';\n",
              "          await google.colab.output.renderOutput(dataTable, element);\n",
              "          const docLink = document.createElement('div');\n",
              "          docLink.innerHTML = docLinkHtml;\n",
              "          element.appendChild(docLink);\n",
              "        }\n",
              "      </script>\n",
              "    </div>\n",
              "  </div>\n",
              "  "
            ]
          },
          "metadata": {},
          "execution_count": 70
        }
      ]
    },
    {
      "cell_type": "markdown",
      "source": [
        "# Data cleaning"
      ],
      "metadata": {
        "id": "fyAhS-uPa0Mk"
      }
    },
    {
      "cell_type": "markdown",
      "source": [
        "## 1. Completeness\n",
        "\n",
        "\n"
      ],
      "metadata": {
        "id": "MGhXW-fodQth"
      }
    },
    {
      "cell_type": "markdown",
      "source": [
        "### 1) star\n",
        "most (72417) movies are 'not rated yet' -> replace with nan - completeness"
      ],
      "metadata": {
        "id": "6C9B8HPgmikG"
      }
    },
    {
      "cell_type": "code",
      "source": [
        "#1. star - most (72417) movies are completeness\n",
        "\n",
        "#check \n",
        "audible_copy[audible_copy['stars']=='Not rated yet']['stars'].count()\n",
        "\n",
        "#define - replace  'not rated yet' with nan\n",
        "#after creating seperate cols for star and total_rating -> coming back again "
      ],
      "metadata": {
        "colab": {
          "base_uri": "https://localhost:8080/"
        },
        "id": "xnugRpmtfJqW",
        "outputId": "1f9f245a-263c-4e4b-faf6-0e234a97f6f0"
      },
      "execution_count": 71,
      "outputs": [
        {
          "output_type": "execute_result",
          "data": {
            "text/plain": [
              "72417"
            ]
          },
          "metadata": {},
          "execution_count": 71
        }
      ]
    },
    {
      "cell_type": "code",
      "source": [
        "#code\n",
        "audible_copy['stars']=audible_copy['stars'].replace('Not rated yet',np.nan)"
      ],
      "metadata": {
        "id": "yFFkO8nDaw3T"
      },
      "execution_count": 72,
      "outputs": []
    },
    {
      "cell_type": "code",
      "source": [
        "#test\n",
        "audible_copy[audible_copy['stars']=='Not rated yet']['stars'].count()"
      ],
      "metadata": {
        "colab": {
          "base_uri": "https://localhost:8080/"
        },
        "id": "mZIqeuGKd53o",
        "outputId": "64c4e4fb-86db-45f3-e677-dc3a4f219c22"
      },
      "execution_count": 73,
      "outputs": [
        {
          "output_type": "execute_result",
          "data": {
            "text/plain": [
              "0"
            ]
          },
          "metadata": {},
          "execution_count": 73
        }
      ]
    },
    {
      "cell_type": "markdown",
      "source": [
        "### 2) total_ratings\n",
        "\n",
        "- replacing NaN with 0"
      ],
      "metadata": {
        "id": "0d3Bo9bkmoAs"
      }
    },
    {
      "cell_type": "code",
      "source": [
        "audible_copy['total_ratings'].isna().sum()"
      ],
      "metadata": {
        "colab": {
          "base_uri": "https://localhost:8080/"
        },
        "id": "vYb1fKngmrtD",
        "outputId": "ed3c79ec-6445-4211-fc06-a0a57cbf1115"
      },
      "execution_count": 161,
      "outputs": [
        {
          "output_type": "execute_result",
          "data": {
            "text/plain": [
              "72417"
            ]
          },
          "metadata": {},
          "execution_count": 161
        }
      ]
    },
    {
      "cell_type": "code",
      "source": [
        "audible_copy['total_ratings']=audible_copy['total_ratings'].fillna(0)"
      ],
      "metadata": {
        "id": "XHKRtfOhogdx"
      },
      "execution_count": 180,
      "outputs": []
    },
    {
      "cell_type": "code",
      "source": [
        "audible_copy['total_ratings'].isna().sum()"
      ],
      "metadata": {
        "colab": {
          "base_uri": "https://localhost:8080/"
        },
        "id": "G7_nSRbzqSYI",
        "outputId": "39e16a7b-bd34-4460-9791-d845d368f137"
      },
      "execution_count": 181,
      "outputs": [
        {
          "output_type": "execute_result",
          "data": {
            "text/plain": [
              "0"
            ]
          },
          "metadata": {},
          "execution_count": 181
        }
      ]
    },
    {
      "cell_type": "markdown",
      "source": [
        "## 2. messy data\n",
        "\n",
        "\n",
        "\n",
        "\n",
        "\n",
        "\n"
      ],
      "metadata": {
        "id": "1oHeJEDCguhG"
      }
    },
    {
      "cell_type": "code",
      "source": [
        "#1. star and total_ratings in same column [seperate]\n",
        "\n",
        "#check\n",
        "audible_copy['stars'].head(5)\n",
        "#define: seprate total_rating(ratings) and average_rating(stars)"
      ],
      "metadata": {
        "colab": {
          "base_uri": "https://localhost:8080/"
        },
        "id": "UTP_QsPJgxqn",
        "outputId": "9f123d9c-8aa0-4691-85cb-631803293f65"
      },
      "execution_count": 74,
      "outputs": [
        {
          "output_type": "execute_result",
          "data": {
            "text/plain": [
              "0       5 out of 5 stars34 ratings\n",
              "1     4.5 out of 5 stars41 ratings\n",
              "2     4.5 out of 5 stars38 ratings\n",
              "3     4.5 out of 5 stars12 ratings\n",
              "4    4.5 out of 5 stars181 ratings\n",
              "Name: stars, dtype: object"
            ]
          },
          "metadata": {},
          "execution_count": 74
        }
      ]
    },
    {
      "cell_type": "code",
      "source": [
        "#code\n",
        "audible_copy['star']=audible_copy['stars'].str.split('stars').str.get(0)\n",
        "audible_copy['total_ratings']=audible_copy['stars'].str.split('stars').str.get(1)"
      ],
      "metadata": {
        "id": "7r6_uHrmiSzW"
      },
      "execution_count": 75,
      "outputs": []
    },
    {
      "cell_type": "code",
      "source": [
        "#test\n",
        "audible_copy.head()"
      ],
      "metadata": {
        "colab": {
          "base_uri": "https://localhost:8080/",
          "height": 635
        },
        "id": "pwyLiFVMjBwd",
        "outputId": "43d3840b-1ea6-4fcc-fc68-f9ae7e843b46"
      },
      "execution_count": 76,
      "outputs": [
        {
          "output_type": "execute_result",
          "data": {
            "text/plain": [
              "                                         name                     author  \\\n",
              "0                  Geronimo Stilton #11 & #12  Writtenby:GeronimoStilton   \n",
              "1                            The Burning Maze      Writtenby:RickRiordan   \n",
              "2                                The Deep End       Writtenby:JeffKinney   \n",
              "3                        Daughter of the Deep      Writtenby:RickRiordan   \n",
              "4  The Lightning Thief: Percy Jackson, Book 1      Writtenby:RickRiordan   \n",
              "\n",
              "                    narrator                time          releasedate  \\\n",
              "0      Narratedby:BillLobely   2 hrs and 20 mins  2008-04-08 00:00:00   \n",
              "1   Narratedby:RobbieDaymond   13 hrs and 8 mins  2018-01-05 00:00:00   \n",
              "2      Narratedby:DanRussell    2 hrs and 3 mins  2020-06-11 00:00:00   \n",
              "3  Narratedby:SoneelaNankani  11 hrs and 16 mins  2021-05-10 00:00:00   \n",
              "4  Narratedby:JesseBernstein              10 hrs  2010-01-13 00:00:00   \n",
              "\n",
              "  language                          stars price           star total_ratings  \n",
              "0  English     5 out of 5 stars34 ratings   468    5 out of 5     34 ratings  \n",
              "1  English   4.5 out of 5 stars41 ratings   820  4.5 out of 5     41 ratings  \n",
              "2  English   4.5 out of 5 stars38 ratings   410  4.5 out of 5     38 ratings  \n",
              "3  English   4.5 out of 5 stars12 ratings   615  4.5 out of 5     12 ratings  \n",
              "4  English  4.5 out of 5 stars181 ratings   820  4.5 out of 5    181 ratings  "
            ],
            "text/html": [
              "\n",
              "  <div id=\"df-96d2d92c-9811-401c-a469-5e606528092b\">\n",
              "    <div class=\"colab-df-container\">\n",
              "      <div>\n",
              "<style scoped>\n",
              "    .dataframe tbody tr th:only-of-type {\n",
              "        vertical-align: middle;\n",
              "    }\n",
              "\n",
              "    .dataframe tbody tr th {\n",
              "        vertical-align: top;\n",
              "    }\n",
              "\n",
              "    .dataframe thead th {\n",
              "        text-align: right;\n",
              "    }\n",
              "</style>\n",
              "<table border=\"1\" class=\"dataframe\">\n",
              "  <thead>\n",
              "    <tr style=\"text-align: right;\">\n",
              "      <th></th>\n",
              "      <th>name</th>\n",
              "      <th>author</th>\n",
              "      <th>narrator</th>\n",
              "      <th>time</th>\n",
              "      <th>releasedate</th>\n",
              "      <th>language</th>\n",
              "      <th>stars</th>\n",
              "      <th>price</th>\n",
              "      <th>star</th>\n",
              "      <th>total_ratings</th>\n",
              "    </tr>\n",
              "  </thead>\n",
              "  <tbody>\n",
              "    <tr>\n",
              "      <th>0</th>\n",
              "      <td>Geronimo Stilton #11 &amp; #12</td>\n",
              "      <td>Writtenby:GeronimoStilton</td>\n",
              "      <td>Narratedby:BillLobely</td>\n",
              "      <td>2 hrs and 20 mins</td>\n",
              "      <td>2008-04-08 00:00:00</td>\n",
              "      <td>English</td>\n",
              "      <td>5 out of 5 stars34 ratings</td>\n",
              "      <td>468</td>\n",
              "      <td>5 out of 5</td>\n",
              "      <td>34 ratings</td>\n",
              "    </tr>\n",
              "    <tr>\n",
              "      <th>1</th>\n",
              "      <td>The Burning Maze</td>\n",
              "      <td>Writtenby:RickRiordan</td>\n",
              "      <td>Narratedby:RobbieDaymond</td>\n",
              "      <td>13 hrs and 8 mins</td>\n",
              "      <td>2018-01-05 00:00:00</td>\n",
              "      <td>English</td>\n",
              "      <td>4.5 out of 5 stars41 ratings</td>\n",
              "      <td>820</td>\n",
              "      <td>4.5 out of 5</td>\n",
              "      <td>41 ratings</td>\n",
              "    </tr>\n",
              "    <tr>\n",
              "      <th>2</th>\n",
              "      <td>The Deep End</td>\n",
              "      <td>Writtenby:JeffKinney</td>\n",
              "      <td>Narratedby:DanRussell</td>\n",
              "      <td>2 hrs and 3 mins</td>\n",
              "      <td>2020-06-11 00:00:00</td>\n",
              "      <td>English</td>\n",
              "      <td>4.5 out of 5 stars38 ratings</td>\n",
              "      <td>410</td>\n",
              "      <td>4.5 out of 5</td>\n",
              "      <td>38 ratings</td>\n",
              "    </tr>\n",
              "    <tr>\n",
              "      <th>3</th>\n",
              "      <td>Daughter of the Deep</td>\n",
              "      <td>Writtenby:RickRiordan</td>\n",
              "      <td>Narratedby:SoneelaNankani</td>\n",
              "      <td>11 hrs and 16 mins</td>\n",
              "      <td>2021-05-10 00:00:00</td>\n",
              "      <td>English</td>\n",
              "      <td>4.5 out of 5 stars12 ratings</td>\n",
              "      <td>615</td>\n",
              "      <td>4.5 out of 5</td>\n",
              "      <td>12 ratings</td>\n",
              "    </tr>\n",
              "    <tr>\n",
              "      <th>4</th>\n",
              "      <td>The Lightning Thief: Percy Jackson, Book 1</td>\n",
              "      <td>Writtenby:RickRiordan</td>\n",
              "      <td>Narratedby:JesseBernstein</td>\n",
              "      <td>10 hrs</td>\n",
              "      <td>2010-01-13 00:00:00</td>\n",
              "      <td>English</td>\n",
              "      <td>4.5 out of 5 stars181 ratings</td>\n",
              "      <td>820</td>\n",
              "      <td>4.5 out of 5</td>\n",
              "      <td>181 ratings</td>\n",
              "    </tr>\n",
              "  </tbody>\n",
              "</table>\n",
              "</div>\n",
              "      <button class=\"colab-df-convert\" onclick=\"convertToInteractive('df-96d2d92c-9811-401c-a469-5e606528092b')\"\n",
              "              title=\"Convert this dataframe to an interactive table.\"\n",
              "              style=\"display:none;\">\n",
              "        \n",
              "  <svg xmlns=\"http://www.w3.org/2000/svg\" height=\"24px\"viewBox=\"0 0 24 24\"\n",
              "       width=\"24px\">\n",
              "    <path d=\"M0 0h24v24H0V0z\" fill=\"none\"/>\n",
              "    <path d=\"M18.56 5.44l.94 2.06.94-2.06 2.06-.94-2.06-.94-.94-2.06-.94 2.06-2.06.94zm-11 1L8.5 8.5l.94-2.06 2.06-.94-2.06-.94L8.5 2.5l-.94 2.06-2.06.94zm10 10l.94 2.06.94-2.06 2.06-.94-2.06-.94-.94-2.06-.94 2.06-2.06.94z\"/><path d=\"M17.41 7.96l-1.37-1.37c-.4-.4-.92-.59-1.43-.59-.52 0-1.04.2-1.43.59L10.3 9.45l-7.72 7.72c-.78.78-.78 2.05 0 2.83L4 21.41c.39.39.9.59 1.41.59.51 0 1.02-.2 1.41-.59l7.78-7.78 2.81-2.81c.8-.78.8-2.07 0-2.86zM5.41 20L4 18.59l7.72-7.72 1.47 1.35L5.41 20z\"/>\n",
              "  </svg>\n",
              "      </button>\n",
              "      \n",
              "  <style>\n",
              "    .colab-df-container {\n",
              "      display:flex;\n",
              "      flex-wrap:wrap;\n",
              "      gap: 12px;\n",
              "    }\n",
              "\n",
              "    .colab-df-convert {\n",
              "      background-color: #E8F0FE;\n",
              "      border: none;\n",
              "      border-radius: 50%;\n",
              "      cursor: pointer;\n",
              "      display: none;\n",
              "      fill: #1967D2;\n",
              "      height: 32px;\n",
              "      padding: 0 0 0 0;\n",
              "      width: 32px;\n",
              "    }\n",
              "\n",
              "    .colab-df-convert:hover {\n",
              "      background-color: #E2EBFA;\n",
              "      box-shadow: 0px 1px 2px rgba(60, 64, 67, 0.3), 0px 1px 3px 1px rgba(60, 64, 67, 0.15);\n",
              "      fill: #174EA6;\n",
              "    }\n",
              "\n",
              "    [theme=dark] .colab-df-convert {\n",
              "      background-color: #3B4455;\n",
              "      fill: #D2E3FC;\n",
              "    }\n",
              "\n",
              "    [theme=dark] .colab-df-convert:hover {\n",
              "      background-color: #434B5C;\n",
              "      box-shadow: 0px 1px 3px 1px rgba(0, 0, 0, 0.15);\n",
              "      filter: drop-shadow(0px 1px 2px rgba(0, 0, 0, 0.3));\n",
              "      fill: #FFFFFF;\n",
              "    }\n",
              "  </style>\n",
              "\n",
              "      <script>\n",
              "        const buttonEl =\n",
              "          document.querySelector('#df-96d2d92c-9811-401c-a469-5e606528092b button.colab-df-convert');\n",
              "        buttonEl.style.display =\n",
              "          google.colab.kernel.accessAllowed ? 'block' : 'none';\n",
              "\n",
              "        async function convertToInteractive(key) {\n",
              "          const element = document.querySelector('#df-96d2d92c-9811-401c-a469-5e606528092b');\n",
              "          const dataTable =\n",
              "            await google.colab.kernel.invokeFunction('convertToInteractive',\n",
              "                                                     [key], {});\n",
              "          if (!dataTable) return;\n",
              "\n",
              "          const docLinkHtml = 'Like what you see? Visit the ' +\n",
              "            '<a target=\"_blank\" href=https://colab.research.google.com/notebooks/data_table.ipynb>data table notebook</a>'\n",
              "            + ' to learn more about interactive tables.';\n",
              "          element.innerHTML = '';\n",
              "          dataTable['output_type'] = 'display_data';\n",
              "          await google.colab.output.renderOutput(dataTable, element);\n",
              "          const docLink = document.createElement('div');\n",
              "          docLink.innerHTML = docLinkHtml;\n",
              "          element.appendChild(docLink);\n",
              "        }\n",
              "      </script>\n",
              "    </div>\n",
              "  </div>\n",
              "  "
            ]
          },
          "metadata": {},
          "execution_count": 76
        }
      ]
    },
    {
      "cell_type": "code",
      "source": [
        "audible_copy.drop(columns='stars',inplace=True)"
      ],
      "metadata": {
        "id": "ET3khIcMjSG1"
      },
      "execution_count": 77,
      "outputs": []
    },
    {
      "cell_type": "code",
      "source": [
        "#test\n",
        "audible_copy.head()"
      ],
      "metadata": {
        "colab": {
          "base_uri": "https://localhost:8080/",
          "height": 476
        },
        "id": "6VRqtdkPjdbu",
        "outputId": "4d2d1e9b-9231-4bc4-f3bd-17722e991797"
      },
      "execution_count": 78,
      "outputs": [
        {
          "output_type": "execute_result",
          "data": {
            "text/plain": [
              "                                         name                     author  \\\n",
              "0                  Geronimo Stilton #11 & #12  Writtenby:GeronimoStilton   \n",
              "1                            The Burning Maze      Writtenby:RickRiordan   \n",
              "2                                The Deep End       Writtenby:JeffKinney   \n",
              "3                        Daughter of the Deep      Writtenby:RickRiordan   \n",
              "4  The Lightning Thief: Percy Jackson, Book 1      Writtenby:RickRiordan   \n",
              "\n",
              "                    narrator                time          releasedate  \\\n",
              "0      Narratedby:BillLobely   2 hrs and 20 mins  2008-04-08 00:00:00   \n",
              "1   Narratedby:RobbieDaymond   13 hrs and 8 mins  2018-01-05 00:00:00   \n",
              "2      Narratedby:DanRussell    2 hrs and 3 mins  2020-06-11 00:00:00   \n",
              "3  Narratedby:SoneelaNankani  11 hrs and 16 mins  2021-05-10 00:00:00   \n",
              "4  Narratedby:JesseBernstein              10 hrs  2010-01-13 00:00:00   \n",
              "\n",
              "  language price           star total_ratings  \n",
              "0  English   468    5 out of 5     34 ratings  \n",
              "1  English   820  4.5 out of 5     41 ratings  \n",
              "2  English   410  4.5 out of 5     38 ratings  \n",
              "3  English   615  4.5 out of 5     12 ratings  \n",
              "4  English   820  4.5 out of 5    181 ratings  "
            ],
            "text/html": [
              "\n",
              "  <div id=\"df-e0347404-ce92-446a-8288-ea2cc88ba3be\">\n",
              "    <div class=\"colab-df-container\">\n",
              "      <div>\n",
              "<style scoped>\n",
              "    .dataframe tbody tr th:only-of-type {\n",
              "        vertical-align: middle;\n",
              "    }\n",
              "\n",
              "    .dataframe tbody tr th {\n",
              "        vertical-align: top;\n",
              "    }\n",
              "\n",
              "    .dataframe thead th {\n",
              "        text-align: right;\n",
              "    }\n",
              "</style>\n",
              "<table border=\"1\" class=\"dataframe\">\n",
              "  <thead>\n",
              "    <tr style=\"text-align: right;\">\n",
              "      <th></th>\n",
              "      <th>name</th>\n",
              "      <th>author</th>\n",
              "      <th>narrator</th>\n",
              "      <th>time</th>\n",
              "      <th>releasedate</th>\n",
              "      <th>language</th>\n",
              "      <th>price</th>\n",
              "      <th>star</th>\n",
              "      <th>total_ratings</th>\n",
              "    </tr>\n",
              "  </thead>\n",
              "  <tbody>\n",
              "    <tr>\n",
              "      <th>0</th>\n",
              "      <td>Geronimo Stilton #11 &amp; #12</td>\n",
              "      <td>Writtenby:GeronimoStilton</td>\n",
              "      <td>Narratedby:BillLobely</td>\n",
              "      <td>2 hrs and 20 mins</td>\n",
              "      <td>2008-04-08 00:00:00</td>\n",
              "      <td>English</td>\n",
              "      <td>468</td>\n",
              "      <td>5 out of 5</td>\n",
              "      <td>34 ratings</td>\n",
              "    </tr>\n",
              "    <tr>\n",
              "      <th>1</th>\n",
              "      <td>The Burning Maze</td>\n",
              "      <td>Writtenby:RickRiordan</td>\n",
              "      <td>Narratedby:RobbieDaymond</td>\n",
              "      <td>13 hrs and 8 mins</td>\n",
              "      <td>2018-01-05 00:00:00</td>\n",
              "      <td>English</td>\n",
              "      <td>820</td>\n",
              "      <td>4.5 out of 5</td>\n",
              "      <td>41 ratings</td>\n",
              "    </tr>\n",
              "    <tr>\n",
              "      <th>2</th>\n",
              "      <td>The Deep End</td>\n",
              "      <td>Writtenby:JeffKinney</td>\n",
              "      <td>Narratedby:DanRussell</td>\n",
              "      <td>2 hrs and 3 mins</td>\n",
              "      <td>2020-06-11 00:00:00</td>\n",
              "      <td>English</td>\n",
              "      <td>410</td>\n",
              "      <td>4.5 out of 5</td>\n",
              "      <td>38 ratings</td>\n",
              "    </tr>\n",
              "    <tr>\n",
              "      <th>3</th>\n",
              "      <td>Daughter of the Deep</td>\n",
              "      <td>Writtenby:RickRiordan</td>\n",
              "      <td>Narratedby:SoneelaNankani</td>\n",
              "      <td>11 hrs and 16 mins</td>\n",
              "      <td>2021-05-10 00:00:00</td>\n",
              "      <td>English</td>\n",
              "      <td>615</td>\n",
              "      <td>4.5 out of 5</td>\n",
              "      <td>12 ratings</td>\n",
              "    </tr>\n",
              "    <tr>\n",
              "      <th>4</th>\n",
              "      <td>The Lightning Thief: Percy Jackson, Book 1</td>\n",
              "      <td>Writtenby:RickRiordan</td>\n",
              "      <td>Narratedby:JesseBernstein</td>\n",
              "      <td>10 hrs</td>\n",
              "      <td>2010-01-13 00:00:00</td>\n",
              "      <td>English</td>\n",
              "      <td>820</td>\n",
              "      <td>4.5 out of 5</td>\n",
              "      <td>181 ratings</td>\n",
              "    </tr>\n",
              "  </tbody>\n",
              "</table>\n",
              "</div>\n",
              "      <button class=\"colab-df-convert\" onclick=\"convertToInteractive('df-e0347404-ce92-446a-8288-ea2cc88ba3be')\"\n",
              "              title=\"Convert this dataframe to an interactive table.\"\n",
              "              style=\"display:none;\">\n",
              "        \n",
              "  <svg xmlns=\"http://www.w3.org/2000/svg\" height=\"24px\"viewBox=\"0 0 24 24\"\n",
              "       width=\"24px\">\n",
              "    <path d=\"M0 0h24v24H0V0z\" fill=\"none\"/>\n",
              "    <path d=\"M18.56 5.44l.94 2.06.94-2.06 2.06-.94-2.06-.94-.94-2.06-.94 2.06-2.06.94zm-11 1L8.5 8.5l.94-2.06 2.06-.94-2.06-.94L8.5 2.5l-.94 2.06-2.06.94zm10 10l.94 2.06.94-2.06 2.06-.94-2.06-.94-.94-2.06-.94 2.06-2.06.94z\"/><path d=\"M17.41 7.96l-1.37-1.37c-.4-.4-.92-.59-1.43-.59-.52 0-1.04.2-1.43.59L10.3 9.45l-7.72 7.72c-.78.78-.78 2.05 0 2.83L4 21.41c.39.39.9.59 1.41.59.51 0 1.02-.2 1.41-.59l7.78-7.78 2.81-2.81c.8-.78.8-2.07 0-2.86zM5.41 20L4 18.59l7.72-7.72 1.47 1.35L5.41 20z\"/>\n",
              "  </svg>\n",
              "      </button>\n",
              "      \n",
              "  <style>\n",
              "    .colab-df-container {\n",
              "      display:flex;\n",
              "      flex-wrap:wrap;\n",
              "      gap: 12px;\n",
              "    }\n",
              "\n",
              "    .colab-df-convert {\n",
              "      background-color: #E8F0FE;\n",
              "      border: none;\n",
              "      border-radius: 50%;\n",
              "      cursor: pointer;\n",
              "      display: none;\n",
              "      fill: #1967D2;\n",
              "      height: 32px;\n",
              "      padding: 0 0 0 0;\n",
              "      width: 32px;\n",
              "    }\n",
              "\n",
              "    .colab-df-convert:hover {\n",
              "      background-color: #E2EBFA;\n",
              "      box-shadow: 0px 1px 2px rgba(60, 64, 67, 0.3), 0px 1px 3px 1px rgba(60, 64, 67, 0.15);\n",
              "      fill: #174EA6;\n",
              "    }\n",
              "\n",
              "    [theme=dark] .colab-df-convert {\n",
              "      background-color: #3B4455;\n",
              "      fill: #D2E3FC;\n",
              "    }\n",
              "\n",
              "    [theme=dark] .colab-df-convert:hover {\n",
              "      background-color: #434B5C;\n",
              "      box-shadow: 0px 1px 3px 1px rgba(0, 0, 0, 0.15);\n",
              "      filter: drop-shadow(0px 1px 2px rgba(0, 0, 0, 0.3));\n",
              "      fill: #FFFFFF;\n",
              "    }\n",
              "  </style>\n",
              "\n",
              "      <script>\n",
              "        const buttonEl =\n",
              "          document.querySelector('#df-e0347404-ce92-446a-8288-ea2cc88ba3be button.colab-df-convert');\n",
              "        buttonEl.style.display =\n",
              "          google.colab.kernel.accessAllowed ? 'block' : 'none';\n",
              "\n",
              "        async function convertToInteractive(key) {\n",
              "          const element = document.querySelector('#df-e0347404-ce92-446a-8288-ea2cc88ba3be');\n",
              "          const dataTable =\n",
              "            await google.colab.kernel.invokeFunction('convertToInteractive',\n",
              "                                                     [key], {});\n",
              "          if (!dataTable) return;\n",
              "\n",
              "          const docLinkHtml = 'Like what you see? Visit the ' +\n",
              "            '<a target=\"_blank\" href=https://colab.research.google.com/notebooks/data_table.ipynb>data table notebook</a>'\n",
              "            + ' to learn more about interactive tables.';\n",
              "          element.innerHTML = '';\n",
              "          dataTable['output_type'] = 'display_data';\n",
              "          await google.colab.output.renderOutput(dataTable, element);\n",
              "          const docLink = document.createElement('div');\n",
              "          docLink.innerHTML = docLinkHtml;\n",
              "          element.appendChild(docLink);\n",
              "        }\n",
              "      </script>\n",
              "    </div>\n",
              "  </div>\n",
              "  "
            ]
          },
          "metadata": {},
          "execution_count": 78
        }
      ]
    },
    {
      "cell_type": "markdown",
      "source": [
        "### 2\n",
        "\n",
        "create new columns for date and time"
      ],
      "metadata": {
        "id": "VLqhcStHKnL2"
      }
    },
    {
      "cell_type": "code",
      "source": [
        "def convert_to_time(time):\n",
        "  temp=time.split('and') \n",
        "  hour='0'\n",
        "  min='0'\n",
        "  if(len(temp)==1):\n",
        "    if('hrs' in temp[0]):\n",
        "      hour=temp[0]\n",
        "    else:\n",
        "      min=temp[0]\n",
        "  else:\n",
        "    hour=temp[0]\n",
        "    min=temp[1]\n",
        " \n",
        "  return hour,min"
      ],
      "metadata": {
        "id": "CWg0ofpSKrEL"
      },
      "execution_count": 79,
      "outputs": []
    },
    {
      "cell_type": "code",
      "source": [
        "total_time=audible_copy['time'].apply(lambda x: convert_to_time(x))"
      ],
      "metadata": {
        "id": "E5v5sH6rLcmD"
      },
      "execution_count": 80,
      "outputs": []
    },
    {
      "cell_type": "code",
      "source": [
        "audible_copy['hours']=total_time.str.get(0)\n",
        "audible_copy['minutes']=total_time.str.get(1)"
      ],
      "metadata": {
        "id": "xy_1lYrMLLY8"
      },
      "execution_count": 81,
      "outputs": []
    },
    {
      "cell_type": "code",
      "source": [
        "audible_copy.head()"
      ],
      "metadata": {
        "colab": {
          "base_uri": "https://localhost:8080/",
          "height": 635
        },
        "id": "9MvzVT4DOf8B",
        "outputId": "afe4266b-a965-4a72-beaf-691437fe73d7"
      },
      "execution_count": 82,
      "outputs": [
        {
          "output_type": "execute_result",
          "data": {
            "text/plain": [
              "                                         name                     author  \\\n",
              "0                  Geronimo Stilton #11 & #12  Writtenby:GeronimoStilton   \n",
              "1                            The Burning Maze      Writtenby:RickRiordan   \n",
              "2                                The Deep End       Writtenby:JeffKinney   \n",
              "3                        Daughter of the Deep      Writtenby:RickRiordan   \n",
              "4  The Lightning Thief: Percy Jackson, Book 1      Writtenby:RickRiordan   \n",
              "\n",
              "                    narrator                time          releasedate  \\\n",
              "0      Narratedby:BillLobely   2 hrs and 20 mins  2008-04-08 00:00:00   \n",
              "1   Narratedby:RobbieDaymond   13 hrs and 8 mins  2018-01-05 00:00:00   \n",
              "2      Narratedby:DanRussell    2 hrs and 3 mins  2020-06-11 00:00:00   \n",
              "3  Narratedby:SoneelaNankani  11 hrs and 16 mins  2021-05-10 00:00:00   \n",
              "4  Narratedby:JesseBernstein              10 hrs  2010-01-13 00:00:00   \n",
              "\n",
              "  language price           star total_ratings    hours   minutes  \n",
              "0  English   468    5 out of 5     34 ratings   2 hrs    20 mins  \n",
              "1  English   820  4.5 out of 5     41 ratings  13 hrs     8 mins  \n",
              "2  English   410  4.5 out of 5     38 ratings   2 hrs     3 mins  \n",
              "3  English   615  4.5 out of 5     12 ratings  11 hrs    16 mins  \n",
              "4  English   820  4.5 out of 5    181 ratings   10 hrs         0  "
            ],
            "text/html": [
              "\n",
              "  <div id=\"df-118bc4b4-1332-4d7e-8d96-593d632725e5\">\n",
              "    <div class=\"colab-df-container\">\n",
              "      <div>\n",
              "<style scoped>\n",
              "    .dataframe tbody tr th:only-of-type {\n",
              "        vertical-align: middle;\n",
              "    }\n",
              "\n",
              "    .dataframe tbody tr th {\n",
              "        vertical-align: top;\n",
              "    }\n",
              "\n",
              "    .dataframe thead th {\n",
              "        text-align: right;\n",
              "    }\n",
              "</style>\n",
              "<table border=\"1\" class=\"dataframe\">\n",
              "  <thead>\n",
              "    <tr style=\"text-align: right;\">\n",
              "      <th></th>\n",
              "      <th>name</th>\n",
              "      <th>author</th>\n",
              "      <th>narrator</th>\n",
              "      <th>time</th>\n",
              "      <th>releasedate</th>\n",
              "      <th>language</th>\n",
              "      <th>price</th>\n",
              "      <th>star</th>\n",
              "      <th>total_ratings</th>\n",
              "      <th>hours</th>\n",
              "      <th>minutes</th>\n",
              "    </tr>\n",
              "  </thead>\n",
              "  <tbody>\n",
              "    <tr>\n",
              "      <th>0</th>\n",
              "      <td>Geronimo Stilton #11 &amp; #12</td>\n",
              "      <td>Writtenby:GeronimoStilton</td>\n",
              "      <td>Narratedby:BillLobely</td>\n",
              "      <td>2 hrs and 20 mins</td>\n",
              "      <td>2008-04-08 00:00:00</td>\n",
              "      <td>English</td>\n",
              "      <td>468</td>\n",
              "      <td>5 out of 5</td>\n",
              "      <td>34 ratings</td>\n",
              "      <td>2 hrs</td>\n",
              "      <td>20 mins</td>\n",
              "    </tr>\n",
              "    <tr>\n",
              "      <th>1</th>\n",
              "      <td>The Burning Maze</td>\n",
              "      <td>Writtenby:RickRiordan</td>\n",
              "      <td>Narratedby:RobbieDaymond</td>\n",
              "      <td>13 hrs and 8 mins</td>\n",
              "      <td>2018-01-05 00:00:00</td>\n",
              "      <td>English</td>\n",
              "      <td>820</td>\n",
              "      <td>4.5 out of 5</td>\n",
              "      <td>41 ratings</td>\n",
              "      <td>13 hrs</td>\n",
              "      <td>8 mins</td>\n",
              "    </tr>\n",
              "    <tr>\n",
              "      <th>2</th>\n",
              "      <td>The Deep End</td>\n",
              "      <td>Writtenby:JeffKinney</td>\n",
              "      <td>Narratedby:DanRussell</td>\n",
              "      <td>2 hrs and 3 mins</td>\n",
              "      <td>2020-06-11 00:00:00</td>\n",
              "      <td>English</td>\n",
              "      <td>410</td>\n",
              "      <td>4.5 out of 5</td>\n",
              "      <td>38 ratings</td>\n",
              "      <td>2 hrs</td>\n",
              "      <td>3 mins</td>\n",
              "    </tr>\n",
              "    <tr>\n",
              "      <th>3</th>\n",
              "      <td>Daughter of the Deep</td>\n",
              "      <td>Writtenby:RickRiordan</td>\n",
              "      <td>Narratedby:SoneelaNankani</td>\n",
              "      <td>11 hrs and 16 mins</td>\n",
              "      <td>2021-05-10 00:00:00</td>\n",
              "      <td>English</td>\n",
              "      <td>615</td>\n",
              "      <td>4.5 out of 5</td>\n",
              "      <td>12 ratings</td>\n",
              "      <td>11 hrs</td>\n",
              "      <td>16 mins</td>\n",
              "    </tr>\n",
              "    <tr>\n",
              "      <th>4</th>\n",
              "      <td>The Lightning Thief: Percy Jackson, Book 1</td>\n",
              "      <td>Writtenby:RickRiordan</td>\n",
              "      <td>Narratedby:JesseBernstein</td>\n",
              "      <td>10 hrs</td>\n",
              "      <td>2010-01-13 00:00:00</td>\n",
              "      <td>English</td>\n",
              "      <td>820</td>\n",
              "      <td>4.5 out of 5</td>\n",
              "      <td>181 ratings</td>\n",
              "      <td>10 hrs</td>\n",
              "      <td>0</td>\n",
              "    </tr>\n",
              "  </tbody>\n",
              "</table>\n",
              "</div>\n",
              "      <button class=\"colab-df-convert\" onclick=\"convertToInteractive('df-118bc4b4-1332-4d7e-8d96-593d632725e5')\"\n",
              "              title=\"Convert this dataframe to an interactive table.\"\n",
              "              style=\"display:none;\">\n",
              "        \n",
              "  <svg xmlns=\"http://www.w3.org/2000/svg\" height=\"24px\"viewBox=\"0 0 24 24\"\n",
              "       width=\"24px\">\n",
              "    <path d=\"M0 0h24v24H0V0z\" fill=\"none\"/>\n",
              "    <path d=\"M18.56 5.44l.94 2.06.94-2.06 2.06-.94-2.06-.94-.94-2.06-.94 2.06-2.06.94zm-11 1L8.5 8.5l.94-2.06 2.06-.94-2.06-.94L8.5 2.5l-.94 2.06-2.06.94zm10 10l.94 2.06.94-2.06 2.06-.94-2.06-.94-.94-2.06-.94 2.06-2.06.94z\"/><path d=\"M17.41 7.96l-1.37-1.37c-.4-.4-.92-.59-1.43-.59-.52 0-1.04.2-1.43.59L10.3 9.45l-7.72 7.72c-.78.78-.78 2.05 0 2.83L4 21.41c.39.39.9.59 1.41.59.51 0 1.02-.2 1.41-.59l7.78-7.78 2.81-2.81c.8-.78.8-2.07 0-2.86zM5.41 20L4 18.59l7.72-7.72 1.47 1.35L5.41 20z\"/>\n",
              "  </svg>\n",
              "      </button>\n",
              "      \n",
              "  <style>\n",
              "    .colab-df-container {\n",
              "      display:flex;\n",
              "      flex-wrap:wrap;\n",
              "      gap: 12px;\n",
              "    }\n",
              "\n",
              "    .colab-df-convert {\n",
              "      background-color: #E8F0FE;\n",
              "      border: none;\n",
              "      border-radius: 50%;\n",
              "      cursor: pointer;\n",
              "      display: none;\n",
              "      fill: #1967D2;\n",
              "      height: 32px;\n",
              "      padding: 0 0 0 0;\n",
              "      width: 32px;\n",
              "    }\n",
              "\n",
              "    .colab-df-convert:hover {\n",
              "      background-color: #E2EBFA;\n",
              "      box-shadow: 0px 1px 2px rgba(60, 64, 67, 0.3), 0px 1px 3px 1px rgba(60, 64, 67, 0.15);\n",
              "      fill: #174EA6;\n",
              "    }\n",
              "\n",
              "    [theme=dark] .colab-df-convert {\n",
              "      background-color: #3B4455;\n",
              "      fill: #D2E3FC;\n",
              "    }\n",
              "\n",
              "    [theme=dark] .colab-df-convert:hover {\n",
              "      background-color: #434B5C;\n",
              "      box-shadow: 0px 1px 3px 1px rgba(0, 0, 0, 0.15);\n",
              "      filter: drop-shadow(0px 1px 2px rgba(0, 0, 0, 0.3));\n",
              "      fill: #FFFFFF;\n",
              "    }\n",
              "  </style>\n",
              "\n",
              "      <script>\n",
              "        const buttonEl =\n",
              "          document.querySelector('#df-118bc4b4-1332-4d7e-8d96-593d632725e5 button.colab-df-convert');\n",
              "        buttonEl.style.display =\n",
              "          google.colab.kernel.accessAllowed ? 'block' : 'none';\n",
              "\n",
              "        async function convertToInteractive(key) {\n",
              "          const element = document.querySelector('#df-118bc4b4-1332-4d7e-8d96-593d632725e5');\n",
              "          const dataTable =\n",
              "            await google.colab.kernel.invokeFunction('convertToInteractive',\n",
              "                                                     [key], {});\n",
              "          if (!dataTable) return;\n",
              "\n",
              "          const docLinkHtml = 'Like what you see? Visit the ' +\n",
              "            '<a target=\"_blank\" href=https://colab.research.google.com/notebooks/data_table.ipynb>data table notebook</a>'\n",
              "            + ' to learn more about interactive tables.';\n",
              "          element.innerHTML = '';\n",
              "          dataTable['output_type'] = 'display_data';\n",
              "          await google.colab.output.renderOutput(dataTable, element);\n",
              "          const docLink = document.createElement('div');\n",
              "          docLink.innerHTML = docLinkHtml;\n",
              "          element.appendChild(docLink);\n",
              "        }\n",
              "      </script>\n",
              "    </div>\n",
              "  </div>\n",
              "  "
            ]
          },
          "metadata": {},
          "execution_count": 82
        }
      ]
    },
    {
      "cell_type": "markdown",
      "source": [
        "## 3. validity issues"
      ],
      "metadata": {
        "id": "Y1CaK7hSjBP3"
      }
    },
    {
      "cell_type": "markdown",
      "source": [
        "### 1) author - remove suffix  "
      ],
      "metadata": {
        "id": "ZN_oRZMDk6F5"
      }
    },
    {
      "cell_type": "code",
      "source": [
        "#author - remove suffix writtenby validity\n",
        "\n",
        "#check\n",
        "audible_copy['author'].head()"
      ],
      "metadata": {
        "colab": {
          "base_uri": "https://localhost:8080/"
        },
        "id": "D7GWuFQfkfLD",
        "outputId": "f70ea696-ff08-486b-c707-1f1bd9b1dc89"
      },
      "execution_count": 83,
      "outputs": [
        {
          "output_type": "execute_result",
          "data": {
            "text/plain": [
              "0    Writtenby:GeronimoStilton\n",
              "1        Writtenby:RickRiordan\n",
              "2         Writtenby:JeffKinney\n",
              "3        Writtenby:RickRiordan\n",
              "4        Writtenby:RickRiordan\n",
              "Name: author, dtype: object"
            ]
          },
          "metadata": {},
          "execution_count": 83
        }
      ]
    },
    {
      "cell_type": "code",
      "source": [
        "print(audible_copy['author'].str.contains('Writtenby:').sum(),audible.shape)\n",
        "#issue for all rows"
      ],
      "metadata": {
        "colab": {
          "base_uri": "https://localhost:8080/"
        },
        "id": "38ADd9mElRCm",
        "outputId": "62d99f08-1853-4dd4-c850-1c113af5e39d"
      },
      "execution_count": 84,
      "outputs": [
        {
          "output_type": "stream",
          "name": "stdout",
          "text": [
            "87489 (87489, 8)\n"
          ]
        }
      ]
    },
    {
      "cell_type": "code",
      "source": [
        "#define: replace Writtenby: with ''\n",
        "\n",
        "#code\n",
        "audible_copy['author']=audible_copy['author'].str.replace('Writtenby:','')"
      ],
      "metadata": {
        "id": "CR6YsZhYktDA"
      },
      "execution_count": 85,
      "outputs": []
    },
    {
      "cell_type": "code",
      "source": [
        "#test\n",
        "audible_copy['author'].str.contains('Writtenby:').sum()"
      ],
      "metadata": {
        "colab": {
          "base_uri": "https://localhost:8080/"
        },
        "id": "P8yMa91M0NRf",
        "outputId": "3da7c521-5a59-4d31-bdd1-3f7b2bb53321"
      },
      "execution_count": 86,
      "outputs": [
        {
          "output_type": "execute_result",
          "data": {
            "text/plain": [
              "0"
            ]
          },
          "metadata": {},
          "execution_count": 86
        }
      ]
    },
    {
      "cell_type": "markdown",
      "source": [
        "### 2) narrator - remove suffix   "
      ],
      "metadata": {
        "id": "HsLhjEue06ox"
      }
    },
    {
      "cell_type": "code",
      "source": [
        "#check\n",
        "audible_copy['narrator'].head()"
      ],
      "metadata": {
        "colab": {
          "base_uri": "https://localhost:8080/"
        },
        "id": "2ymDR6by1H74",
        "outputId": "ad2c54bb-1b30-468e-b1c5-e8d5327b8f81"
      },
      "execution_count": 87,
      "outputs": [
        {
          "output_type": "execute_result",
          "data": {
            "text/plain": [
              "0        Narratedby:BillLobely\n",
              "1     Narratedby:RobbieDaymond\n",
              "2        Narratedby:DanRussell\n",
              "3    Narratedby:SoneelaNankani\n",
              "4    Narratedby:JesseBernstein\n",
              "Name: narrator, dtype: object"
            ]
          },
          "metadata": {},
          "execution_count": 87
        }
      ]
    },
    {
      "cell_type": "code",
      "source": [
        "print(audible_copy['narrator'].str.contains('Narratedby:').sum(),audible.shape)\n",
        "#issue for all rows"
      ],
      "metadata": {
        "colab": {
          "base_uri": "https://localhost:8080/"
        },
        "id": "lbbnx0VG1IE-",
        "outputId": "20c4ba48-d0d7-4796-da7a-1c6a81e71a40"
      },
      "execution_count": 88,
      "outputs": [
        {
          "output_type": "stream",
          "name": "stdout",
          "text": [
            "87489 (87489, 8)\n"
          ]
        }
      ]
    },
    {
      "cell_type": "code",
      "source": [
        "#define: replace Narratedby: with ''\n",
        "\n",
        "#code\n",
        "audible_copy['narrator']=audible_copy['narrator'].str.replace('Narratedby:','')"
      ],
      "metadata": {
        "id": "pMdlM23l1IO8"
      },
      "execution_count": 89,
      "outputs": []
    },
    {
      "cell_type": "code",
      "source": [
        "#test\n",
        "audible_copy['narrator'].str.contains('Narratedby:').sum()"
      ],
      "metadata": {
        "colab": {
          "base_uri": "https://localhost:8080/"
        },
        "id": "2FSGMF0e1IaR",
        "outputId": "ec8c1174-5fc6-40d9-f60e-20552be6830f"
      },
      "execution_count": 90,
      "outputs": [
        {
          "output_type": "execute_result",
          "data": {
            "text/plain": [
              "0"
            ]
          },
          "metadata": {},
          "execution_count": 90
        }
      ]
    },
    {
      "cell_type": "markdown",
      "source": [
        "### 3) time - remove hrs and mins unit \n",
        " "
      ],
      "metadata": {
        "id": "KQme94gh2U8b"
      }
    },
    {
      "cell_type": "code",
      "source": [
        "#check\n",
        "audible_copy[['hours','minutes']].head()"
      ],
      "metadata": {
        "colab": {
          "base_uri": "https://localhost:8080/",
          "height": 206
        },
        "id": "3cKWWGYSPDC8",
        "outputId": "121abeba-998c-45ac-f5a9-d4cbfdcc851b"
      },
      "execution_count": 91,
      "outputs": [
        {
          "output_type": "execute_result",
          "data": {
            "text/plain": [
              "     hours   minutes\n",
              "0   2 hrs    20 mins\n",
              "1  13 hrs     8 mins\n",
              "2   2 hrs     3 mins\n",
              "3  11 hrs    16 mins\n",
              "4   10 hrs         0"
            ],
            "text/html": [
              "\n",
              "  <div id=\"df-887e32b7-1c7f-42fe-ba04-677abed6618c\">\n",
              "    <div class=\"colab-df-container\">\n",
              "      <div>\n",
              "<style scoped>\n",
              "    .dataframe tbody tr th:only-of-type {\n",
              "        vertical-align: middle;\n",
              "    }\n",
              "\n",
              "    .dataframe tbody tr th {\n",
              "        vertical-align: top;\n",
              "    }\n",
              "\n",
              "    .dataframe thead th {\n",
              "        text-align: right;\n",
              "    }\n",
              "</style>\n",
              "<table border=\"1\" class=\"dataframe\">\n",
              "  <thead>\n",
              "    <tr style=\"text-align: right;\">\n",
              "      <th></th>\n",
              "      <th>hours</th>\n",
              "      <th>minutes</th>\n",
              "    </tr>\n",
              "  </thead>\n",
              "  <tbody>\n",
              "    <tr>\n",
              "      <th>0</th>\n",
              "      <td>2 hrs</td>\n",
              "      <td>20 mins</td>\n",
              "    </tr>\n",
              "    <tr>\n",
              "      <th>1</th>\n",
              "      <td>13 hrs</td>\n",
              "      <td>8 mins</td>\n",
              "    </tr>\n",
              "    <tr>\n",
              "      <th>2</th>\n",
              "      <td>2 hrs</td>\n",
              "      <td>3 mins</td>\n",
              "    </tr>\n",
              "    <tr>\n",
              "      <th>3</th>\n",
              "      <td>11 hrs</td>\n",
              "      <td>16 mins</td>\n",
              "    </tr>\n",
              "    <tr>\n",
              "      <th>4</th>\n",
              "      <td>10 hrs</td>\n",
              "      <td>0</td>\n",
              "    </tr>\n",
              "  </tbody>\n",
              "</table>\n",
              "</div>\n",
              "      <button class=\"colab-df-convert\" onclick=\"convertToInteractive('df-887e32b7-1c7f-42fe-ba04-677abed6618c')\"\n",
              "              title=\"Convert this dataframe to an interactive table.\"\n",
              "              style=\"display:none;\">\n",
              "        \n",
              "  <svg xmlns=\"http://www.w3.org/2000/svg\" height=\"24px\"viewBox=\"0 0 24 24\"\n",
              "       width=\"24px\">\n",
              "    <path d=\"M0 0h24v24H0V0z\" fill=\"none\"/>\n",
              "    <path d=\"M18.56 5.44l.94 2.06.94-2.06 2.06-.94-2.06-.94-.94-2.06-.94 2.06-2.06.94zm-11 1L8.5 8.5l.94-2.06 2.06-.94-2.06-.94L8.5 2.5l-.94 2.06-2.06.94zm10 10l.94 2.06.94-2.06 2.06-.94-2.06-.94-.94-2.06-.94 2.06-2.06.94z\"/><path d=\"M17.41 7.96l-1.37-1.37c-.4-.4-.92-.59-1.43-.59-.52 0-1.04.2-1.43.59L10.3 9.45l-7.72 7.72c-.78.78-.78 2.05 0 2.83L4 21.41c.39.39.9.59 1.41.59.51 0 1.02-.2 1.41-.59l7.78-7.78 2.81-2.81c.8-.78.8-2.07 0-2.86zM5.41 20L4 18.59l7.72-7.72 1.47 1.35L5.41 20z\"/>\n",
              "  </svg>\n",
              "      </button>\n",
              "      \n",
              "  <style>\n",
              "    .colab-df-container {\n",
              "      display:flex;\n",
              "      flex-wrap:wrap;\n",
              "      gap: 12px;\n",
              "    }\n",
              "\n",
              "    .colab-df-convert {\n",
              "      background-color: #E8F0FE;\n",
              "      border: none;\n",
              "      border-radius: 50%;\n",
              "      cursor: pointer;\n",
              "      display: none;\n",
              "      fill: #1967D2;\n",
              "      height: 32px;\n",
              "      padding: 0 0 0 0;\n",
              "      width: 32px;\n",
              "    }\n",
              "\n",
              "    .colab-df-convert:hover {\n",
              "      background-color: #E2EBFA;\n",
              "      box-shadow: 0px 1px 2px rgba(60, 64, 67, 0.3), 0px 1px 3px 1px rgba(60, 64, 67, 0.15);\n",
              "      fill: #174EA6;\n",
              "    }\n",
              "\n",
              "    [theme=dark] .colab-df-convert {\n",
              "      background-color: #3B4455;\n",
              "      fill: #D2E3FC;\n",
              "    }\n",
              "\n",
              "    [theme=dark] .colab-df-convert:hover {\n",
              "      background-color: #434B5C;\n",
              "      box-shadow: 0px 1px 3px 1px rgba(0, 0, 0, 0.15);\n",
              "      filter: drop-shadow(0px 1px 2px rgba(0, 0, 0, 0.3));\n",
              "      fill: #FFFFFF;\n",
              "    }\n",
              "  </style>\n",
              "\n",
              "      <script>\n",
              "        const buttonEl =\n",
              "          document.querySelector('#df-887e32b7-1c7f-42fe-ba04-677abed6618c button.colab-df-convert');\n",
              "        buttonEl.style.display =\n",
              "          google.colab.kernel.accessAllowed ? 'block' : 'none';\n",
              "\n",
              "        async function convertToInteractive(key) {\n",
              "          const element = document.querySelector('#df-887e32b7-1c7f-42fe-ba04-677abed6618c');\n",
              "          const dataTable =\n",
              "            await google.colab.kernel.invokeFunction('convertToInteractive',\n",
              "                                                     [key], {});\n",
              "          if (!dataTable) return;\n",
              "\n",
              "          const docLinkHtml = 'Like what you see? Visit the ' +\n",
              "            '<a target=\"_blank\" href=https://colab.research.google.com/notebooks/data_table.ipynb>data table notebook</a>'\n",
              "            + ' to learn more about interactive tables.';\n",
              "          element.innerHTML = '';\n",
              "          dataTable['output_type'] = 'display_data';\n",
              "          await google.colab.output.renderOutput(dataTable, element);\n",
              "          const docLink = document.createElement('div');\n",
              "          docLink.innerHTML = docLinkHtml;\n",
              "          element.appendChild(docLink);\n",
              "        }\n",
              "      </script>\n",
              "    </div>\n",
              "  </div>\n",
              "  "
            ]
          },
          "metadata": {},
          "execution_count": 91
        }
      ]
    },
    {
      "cell_type": "code",
      "source": [
        "#define - replace hrs and mins with ''\n",
        "audible_copy['minutes']=audible_copy['minutes'].str.replace('mins','').str.replace('min','').str.strip()"
      ],
      "metadata": {
        "id": "DmX380wO2YYQ"
      },
      "execution_count": 92,
      "outputs": []
    },
    {
      "cell_type": "code",
      "source": [
        "audible_copy['hours']=audible_copy['hours'].str.replace('hrs','').str.replace('hs','').str.strip()"
      ],
      "metadata": {
        "id": "xCCdXPKhF5ag"
      },
      "execution_count": 93,
      "outputs": []
    },
    {
      "cell_type": "code",
      "source": [
        "#test\n",
        "audible_copy[['hours','minutes']]"
      ],
      "metadata": {
        "colab": {
          "base_uri": "https://localhost:8080/",
          "height": 424
        },
        "id": "wGpdlcf32adA",
        "outputId": "f5c5b27e-e2a4-435b-8c70-acd16a2d7caf"
      },
      "execution_count": 94,
      "outputs": [
        {
          "output_type": "execute_result",
          "data": {
            "text/plain": [
              "      hours minutes\n",
              "0         2      20\n",
              "1        13       8\n",
              "2         2       3\n",
              "3        11      16\n",
              "4        10       0\n",
              "...     ...     ...\n",
              "87484     7      34\n",
              "87485    10       7\n",
              "87486    19       4\n",
              "87487     4       8\n",
              "87488     6       1\n",
              "\n",
              "[87489 rows x 2 columns]"
            ],
            "text/html": [
              "\n",
              "  <div id=\"df-cd26cbdd-136b-4bd7-80b5-a11009a74e70\">\n",
              "    <div class=\"colab-df-container\">\n",
              "      <div>\n",
              "<style scoped>\n",
              "    .dataframe tbody tr th:only-of-type {\n",
              "        vertical-align: middle;\n",
              "    }\n",
              "\n",
              "    .dataframe tbody tr th {\n",
              "        vertical-align: top;\n",
              "    }\n",
              "\n",
              "    .dataframe thead th {\n",
              "        text-align: right;\n",
              "    }\n",
              "</style>\n",
              "<table border=\"1\" class=\"dataframe\">\n",
              "  <thead>\n",
              "    <tr style=\"text-align: right;\">\n",
              "      <th></th>\n",
              "      <th>hours</th>\n",
              "      <th>minutes</th>\n",
              "    </tr>\n",
              "  </thead>\n",
              "  <tbody>\n",
              "    <tr>\n",
              "      <th>0</th>\n",
              "      <td>2</td>\n",
              "      <td>20</td>\n",
              "    </tr>\n",
              "    <tr>\n",
              "      <th>1</th>\n",
              "      <td>13</td>\n",
              "      <td>8</td>\n",
              "    </tr>\n",
              "    <tr>\n",
              "      <th>2</th>\n",
              "      <td>2</td>\n",
              "      <td>3</td>\n",
              "    </tr>\n",
              "    <tr>\n",
              "      <th>3</th>\n",
              "      <td>11</td>\n",
              "      <td>16</td>\n",
              "    </tr>\n",
              "    <tr>\n",
              "      <th>4</th>\n",
              "      <td>10</td>\n",
              "      <td>0</td>\n",
              "    </tr>\n",
              "    <tr>\n",
              "      <th>...</th>\n",
              "      <td>...</td>\n",
              "      <td>...</td>\n",
              "    </tr>\n",
              "    <tr>\n",
              "      <th>87484</th>\n",
              "      <td>7</td>\n",
              "      <td>34</td>\n",
              "    </tr>\n",
              "    <tr>\n",
              "      <th>87485</th>\n",
              "      <td>10</td>\n",
              "      <td>7</td>\n",
              "    </tr>\n",
              "    <tr>\n",
              "      <th>87486</th>\n",
              "      <td>19</td>\n",
              "      <td>4</td>\n",
              "    </tr>\n",
              "    <tr>\n",
              "      <th>87487</th>\n",
              "      <td>4</td>\n",
              "      <td>8</td>\n",
              "    </tr>\n",
              "    <tr>\n",
              "      <th>87488</th>\n",
              "      <td>6</td>\n",
              "      <td>1</td>\n",
              "    </tr>\n",
              "  </tbody>\n",
              "</table>\n",
              "<p>87489 rows × 2 columns</p>\n",
              "</div>\n",
              "      <button class=\"colab-df-convert\" onclick=\"convertToInteractive('df-cd26cbdd-136b-4bd7-80b5-a11009a74e70')\"\n",
              "              title=\"Convert this dataframe to an interactive table.\"\n",
              "              style=\"display:none;\">\n",
              "        \n",
              "  <svg xmlns=\"http://www.w3.org/2000/svg\" height=\"24px\"viewBox=\"0 0 24 24\"\n",
              "       width=\"24px\">\n",
              "    <path d=\"M0 0h24v24H0V0z\" fill=\"none\"/>\n",
              "    <path d=\"M18.56 5.44l.94 2.06.94-2.06 2.06-.94-2.06-.94-.94-2.06-.94 2.06-2.06.94zm-11 1L8.5 8.5l.94-2.06 2.06-.94-2.06-.94L8.5 2.5l-.94 2.06-2.06.94zm10 10l.94 2.06.94-2.06 2.06-.94-2.06-.94-.94-2.06-.94 2.06-2.06.94z\"/><path d=\"M17.41 7.96l-1.37-1.37c-.4-.4-.92-.59-1.43-.59-.52 0-1.04.2-1.43.59L10.3 9.45l-7.72 7.72c-.78.78-.78 2.05 0 2.83L4 21.41c.39.39.9.59 1.41.59.51 0 1.02-.2 1.41-.59l7.78-7.78 2.81-2.81c.8-.78.8-2.07 0-2.86zM5.41 20L4 18.59l7.72-7.72 1.47 1.35L5.41 20z\"/>\n",
              "  </svg>\n",
              "      </button>\n",
              "      \n",
              "  <style>\n",
              "    .colab-df-container {\n",
              "      display:flex;\n",
              "      flex-wrap:wrap;\n",
              "      gap: 12px;\n",
              "    }\n",
              "\n",
              "    .colab-df-convert {\n",
              "      background-color: #E8F0FE;\n",
              "      border: none;\n",
              "      border-radius: 50%;\n",
              "      cursor: pointer;\n",
              "      display: none;\n",
              "      fill: #1967D2;\n",
              "      height: 32px;\n",
              "      padding: 0 0 0 0;\n",
              "      width: 32px;\n",
              "    }\n",
              "\n",
              "    .colab-df-convert:hover {\n",
              "      background-color: #E2EBFA;\n",
              "      box-shadow: 0px 1px 2px rgba(60, 64, 67, 0.3), 0px 1px 3px 1px rgba(60, 64, 67, 0.15);\n",
              "      fill: #174EA6;\n",
              "    }\n",
              "\n",
              "    [theme=dark] .colab-df-convert {\n",
              "      background-color: #3B4455;\n",
              "      fill: #D2E3FC;\n",
              "    }\n",
              "\n",
              "    [theme=dark] .colab-df-convert:hover {\n",
              "      background-color: #434B5C;\n",
              "      box-shadow: 0px 1px 3px 1px rgba(0, 0, 0, 0.15);\n",
              "      filter: drop-shadow(0px 1px 2px rgba(0, 0, 0, 0.3));\n",
              "      fill: #FFFFFF;\n",
              "    }\n",
              "  </style>\n",
              "\n",
              "      <script>\n",
              "        const buttonEl =\n",
              "          document.querySelector('#df-cd26cbdd-136b-4bd7-80b5-a11009a74e70 button.colab-df-convert');\n",
              "        buttonEl.style.display =\n",
              "          google.colab.kernel.accessAllowed ? 'block' : 'none';\n",
              "\n",
              "        async function convertToInteractive(key) {\n",
              "          const element = document.querySelector('#df-cd26cbdd-136b-4bd7-80b5-a11009a74e70');\n",
              "          const dataTable =\n",
              "            await google.colab.kernel.invokeFunction('convertToInteractive',\n",
              "                                                     [key], {});\n",
              "          if (!dataTable) return;\n",
              "\n",
              "          const docLinkHtml = 'Like what you see? Visit the ' +\n",
              "            '<a target=\"_blank\" href=https://colab.research.google.com/notebooks/data_table.ipynb>data table notebook</a>'\n",
              "            + ' to learn more about interactive tables.';\n",
              "          element.innerHTML = '';\n",
              "          dataTable['output_type'] = 'display_data';\n",
              "          await google.colab.output.renderOutput(dataTable, element);\n",
              "          const docLink = document.createElement('div');\n",
              "          docLink.innerHTML = docLinkHtml;\n",
              "          element.appendChild(docLink);\n",
              "        }\n",
              "      </script>\n",
              "    </div>\n",
              "  </div>\n",
              "  "
            ]
          },
          "metadata": {},
          "execution_count": 94
        }
      ]
    },
    {
      "cell_type": "markdown",
      "source": [
        "### 4. star - remove suffinx\n",
        "\n",
        "star - remove 'out of _ starts' and 'ratings' `validity`"
      ],
      "metadata": {
        "id": "fpiMSjsJQeaX"
      }
    },
    {
      "cell_type": "code",
      "source": [
        "# check\n",
        "audible_copy[['star',\t'total_ratings']].head()"
      ],
      "metadata": {
        "colab": {
          "base_uri": "https://localhost:8080/",
          "height": 206
        },
        "id": "qdIjiP4fQeD1",
        "outputId": "bbf32278-cc10-4748-b720-a273cd138ad6"
      },
      "execution_count": 95,
      "outputs": [
        {
          "output_type": "execute_result",
          "data": {
            "text/plain": [
              "            star total_ratings\n",
              "0    5 out of 5     34 ratings\n",
              "1  4.5 out of 5     41 ratings\n",
              "2  4.5 out of 5     38 ratings\n",
              "3  4.5 out of 5     12 ratings\n",
              "4  4.5 out of 5    181 ratings"
            ],
            "text/html": [
              "\n",
              "  <div id=\"df-6484ed7a-5818-4b60-8e72-241b77175546\">\n",
              "    <div class=\"colab-df-container\">\n",
              "      <div>\n",
              "<style scoped>\n",
              "    .dataframe tbody tr th:only-of-type {\n",
              "        vertical-align: middle;\n",
              "    }\n",
              "\n",
              "    .dataframe tbody tr th {\n",
              "        vertical-align: top;\n",
              "    }\n",
              "\n",
              "    .dataframe thead th {\n",
              "        text-align: right;\n",
              "    }\n",
              "</style>\n",
              "<table border=\"1\" class=\"dataframe\">\n",
              "  <thead>\n",
              "    <tr style=\"text-align: right;\">\n",
              "      <th></th>\n",
              "      <th>star</th>\n",
              "      <th>total_ratings</th>\n",
              "    </tr>\n",
              "  </thead>\n",
              "  <tbody>\n",
              "    <tr>\n",
              "      <th>0</th>\n",
              "      <td>5 out of 5</td>\n",
              "      <td>34 ratings</td>\n",
              "    </tr>\n",
              "    <tr>\n",
              "      <th>1</th>\n",
              "      <td>4.5 out of 5</td>\n",
              "      <td>41 ratings</td>\n",
              "    </tr>\n",
              "    <tr>\n",
              "      <th>2</th>\n",
              "      <td>4.5 out of 5</td>\n",
              "      <td>38 ratings</td>\n",
              "    </tr>\n",
              "    <tr>\n",
              "      <th>3</th>\n",
              "      <td>4.5 out of 5</td>\n",
              "      <td>12 ratings</td>\n",
              "    </tr>\n",
              "    <tr>\n",
              "      <th>4</th>\n",
              "      <td>4.5 out of 5</td>\n",
              "      <td>181 ratings</td>\n",
              "    </tr>\n",
              "  </tbody>\n",
              "</table>\n",
              "</div>\n",
              "      <button class=\"colab-df-convert\" onclick=\"convertToInteractive('df-6484ed7a-5818-4b60-8e72-241b77175546')\"\n",
              "              title=\"Convert this dataframe to an interactive table.\"\n",
              "              style=\"display:none;\">\n",
              "        \n",
              "  <svg xmlns=\"http://www.w3.org/2000/svg\" height=\"24px\"viewBox=\"0 0 24 24\"\n",
              "       width=\"24px\">\n",
              "    <path d=\"M0 0h24v24H0V0z\" fill=\"none\"/>\n",
              "    <path d=\"M18.56 5.44l.94 2.06.94-2.06 2.06-.94-2.06-.94-.94-2.06-.94 2.06-2.06.94zm-11 1L8.5 8.5l.94-2.06 2.06-.94-2.06-.94L8.5 2.5l-.94 2.06-2.06.94zm10 10l.94 2.06.94-2.06 2.06-.94-2.06-.94-.94-2.06-.94 2.06-2.06.94z\"/><path d=\"M17.41 7.96l-1.37-1.37c-.4-.4-.92-.59-1.43-.59-.52 0-1.04.2-1.43.59L10.3 9.45l-7.72 7.72c-.78.78-.78 2.05 0 2.83L4 21.41c.39.39.9.59 1.41.59.51 0 1.02-.2 1.41-.59l7.78-7.78 2.81-2.81c.8-.78.8-2.07 0-2.86zM5.41 20L4 18.59l7.72-7.72 1.47 1.35L5.41 20z\"/>\n",
              "  </svg>\n",
              "      </button>\n",
              "      \n",
              "  <style>\n",
              "    .colab-df-container {\n",
              "      display:flex;\n",
              "      flex-wrap:wrap;\n",
              "      gap: 12px;\n",
              "    }\n",
              "\n",
              "    .colab-df-convert {\n",
              "      background-color: #E8F0FE;\n",
              "      border: none;\n",
              "      border-radius: 50%;\n",
              "      cursor: pointer;\n",
              "      display: none;\n",
              "      fill: #1967D2;\n",
              "      height: 32px;\n",
              "      padding: 0 0 0 0;\n",
              "      width: 32px;\n",
              "    }\n",
              "\n",
              "    .colab-df-convert:hover {\n",
              "      background-color: #E2EBFA;\n",
              "      box-shadow: 0px 1px 2px rgba(60, 64, 67, 0.3), 0px 1px 3px 1px rgba(60, 64, 67, 0.15);\n",
              "      fill: #174EA6;\n",
              "    }\n",
              "\n",
              "    [theme=dark] .colab-df-convert {\n",
              "      background-color: #3B4455;\n",
              "      fill: #D2E3FC;\n",
              "    }\n",
              "\n",
              "    [theme=dark] .colab-df-convert:hover {\n",
              "      background-color: #434B5C;\n",
              "      box-shadow: 0px 1px 3px 1px rgba(0, 0, 0, 0.15);\n",
              "      filter: drop-shadow(0px 1px 2px rgba(0, 0, 0, 0.3));\n",
              "      fill: #FFFFFF;\n",
              "    }\n",
              "  </style>\n",
              "\n",
              "      <script>\n",
              "        const buttonEl =\n",
              "          document.querySelector('#df-6484ed7a-5818-4b60-8e72-241b77175546 button.colab-df-convert');\n",
              "        buttonEl.style.display =\n",
              "          google.colab.kernel.accessAllowed ? 'block' : 'none';\n",
              "\n",
              "        async function convertToInteractive(key) {\n",
              "          const element = document.querySelector('#df-6484ed7a-5818-4b60-8e72-241b77175546');\n",
              "          const dataTable =\n",
              "            await google.colab.kernel.invokeFunction('convertToInteractive',\n",
              "                                                     [key], {});\n",
              "          if (!dataTable) return;\n",
              "\n",
              "          const docLinkHtml = 'Like what you see? Visit the ' +\n",
              "            '<a target=\"_blank\" href=https://colab.research.google.com/notebooks/data_table.ipynb>data table notebook</a>'\n",
              "            + ' to learn more about interactive tables.';\n",
              "          element.innerHTML = '';\n",
              "          dataTable['output_type'] = 'display_data';\n",
              "          await google.colab.output.renderOutput(dataTable, element);\n",
              "          const docLink = document.createElement('div');\n",
              "          docLink.innerHTML = docLinkHtml;\n",
              "          element.appendChild(docLink);\n",
              "        }\n",
              "      </script>\n",
              "    </div>\n",
              "  </div>\n",
              "  "
            ]
          },
          "metadata": {},
          "execution_count": 95
        }
      ]
    },
    {
      "cell_type": "code",
      "source": [
        "#define replace it with ''\n",
        "audible_copy['star']=audible_copy['star'].str.replace('out of 5','').str.strip()\n",
        "audible_copy['total_ratings']=audible_copy['total_ratings'].str.replace('ratings','').str.replace('rating','').str.strip()"
      ],
      "metadata": {
        "id": "leu2PgZN2aoJ"
      },
      "execution_count": 154,
      "outputs": []
    },
    {
      "cell_type": "code",
      "source": [
        "#test\n",
        "audible_copy[['star',\t'total_ratings']].head()"
      ],
      "metadata": {
        "colab": {
          "base_uri": "https://localhost:8080/",
          "height": 206
        },
        "id": "mM8N18pT2ZOA",
        "outputId": "f42793d6-e4a5-458b-8b65-5580bbe356fc"
      },
      "execution_count": 98,
      "outputs": [
        {
          "output_type": "execute_result",
          "data": {
            "text/plain": [
              "  star total_ratings\n",
              "0    5            34\n",
              "1  4.5            41\n",
              "2  4.5            38\n",
              "3  4.5            12\n",
              "4  4.5           181"
            ],
            "text/html": [
              "\n",
              "  <div id=\"df-75712dbb-0ef2-4073-a252-7cda8a244522\">\n",
              "    <div class=\"colab-df-container\">\n",
              "      <div>\n",
              "<style scoped>\n",
              "    .dataframe tbody tr th:only-of-type {\n",
              "        vertical-align: middle;\n",
              "    }\n",
              "\n",
              "    .dataframe tbody tr th {\n",
              "        vertical-align: top;\n",
              "    }\n",
              "\n",
              "    .dataframe thead th {\n",
              "        text-align: right;\n",
              "    }\n",
              "</style>\n",
              "<table border=\"1\" class=\"dataframe\">\n",
              "  <thead>\n",
              "    <tr style=\"text-align: right;\">\n",
              "      <th></th>\n",
              "      <th>star</th>\n",
              "      <th>total_ratings</th>\n",
              "    </tr>\n",
              "  </thead>\n",
              "  <tbody>\n",
              "    <tr>\n",
              "      <th>0</th>\n",
              "      <td>5</td>\n",
              "      <td>34</td>\n",
              "    </tr>\n",
              "    <tr>\n",
              "      <th>1</th>\n",
              "      <td>4.5</td>\n",
              "      <td>41</td>\n",
              "    </tr>\n",
              "    <tr>\n",
              "      <th>2</th>\n",
              "      <td>4.5</td>\n",
              "      <td>38</td>\n",
              "    </tr>\n",
              "    <tr>\n",
              "      <th>3</th>\n",
              "      <td>4.5</td>\n",
              "      <td>12</td>\n",
              "    </tr>\n",
              "    <tr>\n",
              "      <th>4</th>\n",
              "      <td>4.5</td>\n",
              "      <td>181</td>\n",
              "    </tr>\n",
              "  </tbody>\n",
              "</table>\n",
              "</div>\n",
              "      <button class=\"colab-df-convert\" onclick=\"convertToInteractive('df-75712dbb-0ef2-4073-a252-7cda8a244522')\"\n",
              "              title=\"Convert this dataframe to an interactive table.\"\n",
              "              style=\"display:none;\">\n",
              "        \n",
              "  <svg xmlns=\"http://www.w3.org/2000/svg\" height=\"24px\"viewBox=\"0 0 24 24\"\n",
              "       width=\"24px\">\n",
              "    <path d=\"M0 0h24v24H0V0z\" fill=\"none\"/>\n",
              "    <path d=\"M18.56 5.44l.94 2.06.94-2.06 2.06-.94-2.06-.94-.94-2.06-.94 2.06-2.06.94zm-11 1L8.5 8.5l.94-2.06 2.06-.94-2.06-.94L8.5 2.5l-.94 2.06-2.06.94zm10 10l.94 2.06.94-2.06 2.06-.94-2.06-.94-.94-2.06-.94 2.06-2.06.94z\"/><path d=\"M17.41 7.96l-1.37-1.37c-.4-.4-.92-.59-1.43-.59-.52 0-1.04.2-1.43.59L10.3 9.45l-7.72 7.72c-.78.78-.78 2.05 0 2.83L4 21.41c.39.39.9.59 1.41.59.51 0 1.02-.2 1.41-.59l7.78-7.78 2.81-2.81c.8-.78.8-2.07 0-2.86zM5.41 20L4 18.59l7.72-7.72 1.47 1.35L5.41 20z\"/>\n",
              "  </svg>\n",
              "      </button>\n",
              "      \n",
              "  <style>\n",
              "    .colab-df-container {\n",
              "      display:flex;\n",
              "      flex-wrap:wrap;\n",
              "      gap: 12px;\n",
              "    }\n",
              "\n",
              "    .colab-df-convert {\n",
              "      background-color: #E8F0FE;\n",
              "      border: none;\n",
              "      border-radius: 50%;\n",
              "      cursor: pointer;\n",
              "      display: none;\n",
              "      fill: #1967D2;\n",
              "      height: 32px;\n",
              "      padding: 0 0 0 0;\n",
              "      width: 32px;\n",
              "    }\n",
              "\n",
              "    .colab-df-convert:hover {\n",
              "      background-color: #E2EBFA;\n",
              "      box-shadow: 0px 1px 2px rgba(60, 64, 67, 0.3), 0px 1px 3px 1px rgba(60, 64, 67, 0.15);\n",
              "      fill: #174EA6;\n",
              "    }\n",
              "\n",
              "    [theme=dark] .colab-df-convert {\n",
              "      background-color: #3B4455;\n",
              "      fill: #D2E3FC;\n",
              "    }\n",
              "\n",
              "    [theme=dark] .colab-df-convert:hover {\n",
              "      background-color: #434B5C;\n",
              "      box-shadow: 0px 1px 3px 1px rgba(0, 0, 0, 0.15);\n",
              "      filter: drop-shadow(0px 1px 2px rgba(0, 0, 0, 0.3));\n",
              "      fill: #FFFFFF;\n",
              "    }\n",
              "  </style>\n",
              "\n",
              "      <script>\n",
              "        const buttonEl =\n",
              "          document.querySelector('#df-75712dbb-0ef2-4073-a252-7cda8a244522 button.colab-df-convert');\n",
              "        buttonEl.style.display =\n",
              "          google.colab.kernel.accessAllowed ? 'block' : 'none';\n",
              "\n",
              "        async function convertToInteractive(key) {\n",
              "          const element = document.querySelector('#df-75712dbb-0ef2-4073-a252-7cda8a244522');\n",
              "          const dataTable =\n",
              "            await google.colab.kernel.invokeFunction('convertToInteractive',\n",
              "                                                     [key], {});\n",
              "          if (!dataTable) return;\n",
              "\n",
              "          const docLinkHtml = 'Like what you see? Visit the ' +\n",
              "            '<a target=\"_blank\" href=https://colab.research.google.com/notebooks/data_table.ipynb>data table notebook</a>'\n",
              "            + ' to learn more about interactive tables.';\n",
              "          element.innerHTML = '';\n",
              "          dataTable['output_type'] = 'display_data';\n",
              "          await google.colab.output.renderOutput(dataTable, element);\n",
              "          const docLink = document.createElement('div');\n",
              "          docLink.innerHTML = docLinkHtml;\n",
              "          element.appendChild(docLink);\n",
              "        }\n",
              "      </script>\n",
              "    </div>\n",
              "  </div>\n",
              "  "
            ]
          },
          "metadata": {},
          "execution_count": 98
        }
      ]
    },
    {
      "cell_type": "code",
      "source": [
        "audible_copy['total_ratings'].str.contains('rating').sum()"
      ],
      "metadata": {
        "colab": {
          "base_uri": "https://localhost:8080/"
        },
        "id": "ethQkOaTlz33",
        "outputId": "afab2089-3abc-4628-e8df-f353601a0d35"
      },
      "execution_count": 155,
      "outputs": [
        {
          "output_type": "execute_result",
          "data": {
            "text/plain": [
              "0"
            ]
          },
          "metadata": {},
          "execution_count": 155
        }
      ]
    },
    {
      "cell_type": "markdown",
      "source": [
        "### 5) price - 'free' instade of 0 \n"
      ],
      "metadata": {
        "id": "GUQ-bN5UUOcb"
      }
    },
    {
      "cell_type": "code",
      "source": [
        "#check\n",
        "audible_copy[audible_copy['price'].str.contains('Free',na=False)]['price'].count()"
      ],
      "metadata": {
        "colab": {
          "base_uri": "https://localhost:8080/"
        },
        "id": "cXXV_-MDg5aA",
        "outputId": "263d40b9-79ba-410c-d6fc-9535a55b74c5"
      },
      "execution_count": 117,
      "outputs": [
        {
          "output_type": "execute_result",
          "data": {
            "text/plain": [
              "338"
            ]
          },
          "metadata": {},
          "execution_count": 117
        }
      ]
    },
    {
      "cell_type": "code",
      "source": [
        "#define: replace 'Free' with 0\n",
        "\n",
        "#code\n",
        "audible_copy['price']=audible_copy['price'].replace('Free','0')"
      ],
      "metadata": {
        "id": "5FB50gFAhfWe"
      },
      "execution_count": 128,
      "outputs": []
    },
    {
      "cell_type": "code",
      "source": [
        "#test\n",
        "audible_copy['price'].str.contains('Free',na=False).sum()"
      ],
      "metadata": {
        "colab": {
          "base_uri": "https://localhost:8080/"
        },
        "id": "0M6-wPZ2h0As",
        "outputId": "9a29ba70-ac9f-4c27-8f19-90a1a3d946c3"
      },
      "execution_count": 129,
      "outputs": [
        {
          "output_type": "execute_result",
          "data": {
            "text/plain": [
              "0"
            ]
          },
          "metadata": {},
          "execution_count": 129
        }
      ]
    },
    {
      "cell_type": "markdown",
      "source": [
        "6) total_ratings - remove ','"
      ],
      "metadata": {
        "id": "en_cFMR3pCIO"
      }
    },
    {
      "cell_type": "code",
      "source": [
        "#check\n",
        "audible_copy['total_ratings'].str.contains(',').sum()"
      ],
      "metadata": {
        "colab": {
          "base_uri": "https://localhost:8080/"
        },
        "id": "pQ9V6oWypAOe",
        "outputId": "0594d388-ad87-4cd2-cc6e-304d686bc59a"
      },
      "execution_count": 166,
      "outputs": [
        {
          "output_type": "execute_result",
          "data": {
            "text/plain": [
              "39"
            ]
          },
          "metadata": {},
          "execution_count": 166
        }
      ]
    },
    {
      "cell_type": "code",
      "source": [
        "audible_copy[audible_copy['total_ratings'].str.contains(',',na=False)]['total_ratings'].head()"
      ],
      "metadata": {
        "colab": {
          "base_uri": "https://localhost:8080/"
        },
        "id": "7Vv2o10JpVMa",
        "outputId": "37183218-9b59-4453-a3cd-574c371aff57"
      },
      "execution_count": 171,
      "outputs": [
        {
          "output_type": "execute_result",
          "data": {
            "text/plain": [
              "7551     1,423\n",
              "7555     1,006\n",
              "19432    1,216\n",
              "22158    1,823\n",
              "22174    1,636\n",
              "Name: total_ratings, dtype: object"
            ]
          },
          "metadata": {},
          "execution_count": 171
        }
      ]
    },
    {
      "cell_type": "code",
      "source": [
        "#define - replace ',' with ''\n",
        "#code\n",
        "audible_copy['total_ratings']=audible_copy['total_ratings'].str.replace(',','')"
      ],
      "metadata": {
        "id": "anYmSsa9pn6T"
      },
      "execution_count": 173,
      "outputs": []
    },
    {
      "cell_type": "code",
      "source": [
        "#test\n",
        "audible_copy['total_ratings'].str.contains(',').sum()"
      ],
      "metadata": {
        "colab": {
          "base_uri": "https://localhost:8080/"
        },
        "id": "n1KXIz2BpymU",
        "outputId": "83576422-c98a-4bea-de61-ea26eaaeb17e"
      },
      "execution_count": 174,
      "outputs": [
        {
          "output_type": "execute_result",
          "data": {
            "text/plain": [
              "0"
            ]
          },
          "metadata": {},
          "execution_count": 174
        }
      ]
    },
    {
      "cell_type": "markdown",
      "source": [
        "## Accuracy issues"
      ],
      "metadata": {
        "id": "TPiaQmX1Sh0N"
      }
    },
    {
      "cell_type": "markdown",
      "source": [
        "### 1) price in float\n",
        "\n",
        "price - given in object - convert to float accuracy"
      ],
      "metadata": {
        "id": "u37H6zqDSkkv"
      }
    },
    {
      "cell_type": "code",
      "source": [
        "#check\n",
        "audible_copy['price'].info()"
      ],
      "metadata": {
        "colab": {
          "base_uri": "https://localhost:8080/"
        },
        "id": "t51a0X0Y2ZVX",
        "outputId": "f388aae4-e343-4f8d-dcd8-957c4fbd60ff"
      },
      "execution_count": 130,
      "outputs": [
        {
          "output_type": "stream",
          "name": "stdout",
          "text": [
            "<class 'pandas.core.series.Series'>\n",
            "RangeIndex: 87489 entries, 0 to 87488\n",
            "Series name: price\n",
            "Non-Null Count  Dtype \n",
            "--------------  ----- \n",
            "87489 non-null  object\n",
            "dtypes: object(1)\n",
            "memory usage: 683.6+ KB\n"
          ]
        }
      ]
    },
    {
      "cell_type": "code",
      "source": [
        "audible_copy['price'].sample(5)"
      ],
      "metadata": {
        "colab": {
          "base_uri": "https://localhost:8080/"
        },
        "id": "uNMYm1KYTG0E",
        "outputId": "85dba4bc-09c6-4ec6-e3c4-41aa3c11159e"
      },
      "execution_count": 131,
      "outputs": [
        {
          "output_type": "execute_result",
          "data": {
            "text/plain": [
              "48537    727\n",
              "23805    820\n",
              "85554    820\n",
              "32710     33\n",
              "13950    233\n",
              "Name: price, dtype: object"
            ]
          },
          "metadata": {},
          "execution_count": 131
        }
      ]
    },
    {
      "cell_type": "code",
      "source": [
        "audible_copy['price'].iloc[983]"
      ],
      "metadata": {
        "colab": {
          "base_uri": "https://localhost:8080/",
          "height": 35
        },
        "id": "KyNZ73q4Tyg1",
        "outputId": "9b96efe4-03ae-4dc0-d265-72a7aa9c1f8a"
      },
      "execution_count": 132,
      "outputs": [
        {
          "output_type": "execute_result",
          "data": {
            "text/plain": [
              "'0'"
            ],
            "application/vnd.google.colaboratory.intrinsic+json": {
              "type": "string"
            }
          },
          "metadata": {},
          "execution_count": 132
        }
      ]
    },
    {
      "cell_type": "code",
      "source": [
        "#define: convert object type to float\n",
        "#test\n",
        "audible_copy['price']=audible_copy['price'].astype(float)"
      ],
      "metadata": {
        "id": "e2AIdAtm2Zc_"
      },
      "execution_count": 135,
      "outputs": []
    },
    {
      "cell_type": "markdown",
      "source": [
        "### 2) language - convert to category"
      ],
      "metadata": {
        "id": "NXxMcPt02ZlG"
      }
    },
    {
      "cell_type": "code",
      "source": [
        "#check\n",
        "audible_copy['language'].value_counts()"
      ],
      "metadata": {
        "colab": {
          "base_uri": "https://localhost:8080/"
        },
        "id": "tAdJ4eKfjJqe",
        "outputId": "5ff6e194-c99b-4189-86b5-1a1dc8d42999"
      },
      "execution_count": 138,
      "outputs": [
        {
          "output_type": "execute_result",
          "data": {
            "text/plain": [
              "English             61884\n",
              "german               8295\n",
              "spanish              3496\n",
              "japanese             3167\n",
              "italian              2694\n",
              "french               2386\n",
              "russian              1804\n",
              "danish                935\n",
              "portuguese            526\n",
              "swedish               515\n",
              "Hindi                 436\n",
              "polish                224\n",
              "finnish               197\n",
              "dutch                 190\n",
              "tamil                 161\n",
              "catalan               153\n",
              "mandarin_chinese       97\n",
              "icelandic              52\n",
              "romanian               50\n",
              "hungarian              36\n",
              "urdu                   34\n",
              "afrikaans              28\n",
              "czech                  23\n",
              "turkish                20\n",
              "greek                  18\n",
              "arabic                 16\n",
              "norwegian              16\n",
              "galician               10\n",
              "bulgarian               9\n",
              "korean                  4\n",
              "slovene                 4\n",
              "hebrew                  2\n",
              "basque                  2\n",
              "telugu                  2\n",
              "lithuanian              2\n",
              "ukrainian               1\n",
              "Name: language, dtype: int64"
            ]
          },
          "metadata": {},
          "execution_count": 138
        }
      ]
    },
    {
      "cell_type": "code",
      "source": [
        "audible_copy['language'].info()"
      ],
      "metadata": {
        "colab": {
          "base_uri": "https://localhost:8080/"
        },
        "id": "hpwwtq1JkXya",
        "outputId": "a7ee80b1-0301-41d2-987c-ad450ffda3c5"
      },
      "execution_count": 141,
      "outputs": [
        {
          "output_type": "stream",
          "name": "stdout",
          "text": [
            "<class 'pandas.core.series.Series'>\n",
            "RangeIndex: 87489 entries, 0 to 87488\n",
            "Series name: language\n",
            "Non-Null Count  Dtype \n",
            "--------------  ----- \n",
            "87489 non-null  object\n",
            "dtypes: object(1)\n",
            "memory usage: 683.6+ KB\n"
          ]
        }
      ]
    },
    {
      "cell_type": "code",
      "source": [
        "#define: converting object to category using astype\n",
        "audible_copy['language']=audible_copy['language'].astype('category')"
      ],
      "metadata": {
        "id": "dB-ADjfgj5qn"
      },
      "execution_count": 142,
      "outputs": []
    },
    {
      "cell_type": "code",
      "source": [
        "#test\n",
        "audible_copy['language'].info()"
      ],
      "metadata": {
        "colab": {
          "base_uri": "https://localhost:8080/"
        },
        "id": "qiPvSxA0kKyj",
        "outputId": "fa80ca9f-7348-451e-f45c-432cbb522e36"
      },
      "execution_count": 143,
      "outputs": [
        {
          "output_type": "stream",
          "name": "stdout",
          "text": [
            "<class 'pandas.core.series.Series'>\n",
            "RangeIndex: 87489 entries, 0 to 87488\n",
            "Series name: language\n",
            "Non-Null Count  Dtype   \n",
            "--------------  -----   \n",
            "87489 non-null  category\n",
            "dtypes: category(1)\n",
            "memory usage: 86.9 KB\n"
          ]
        }
      ]
    },
    {
      "cell_type": "markdown",
      "source": [
        "### 3)star - convert datatype\n",
        "\n",
        "avg_rating to float and total_rating to int"
      ],
      "metadata": {
        "id": "ZH-hb7DMknZ6"
      }
    },
    {
      "cell_type": "code",
      "source": [
        "#check\n",
        "audible_copy[['star','total_ratings']].info()"
      ],
      "metadata": {
        "colab": {
          "base_uri": "https://localhost:8080/"
        },
        "id": "jo4TCw9CkteY",
        "outputId": "00612184-db66-4106-e38b-54f4c3ab0117"
      },
      "execution_count": 144,
      "outputs": [
        {
          "output_type": "stream",
          "name": "stdout",
          "text": [
            "<class 'pandas.core.frame.DataFrame'>\n",
            "RangeIndex: 87489 entries, 0 to 87488\n",
            "Data columns (total 2 columns):\n",
            " #   Column         Non-Null Count  Dtype \n",
            "---  ------         --------------  ----- \n",
            " 0   star           15072 non-null  object\n",
            " 1   total_ratings  15072 non-null  object\n",
            "dtypes: object(2)\n",
            "memory usage: 1.3+ MB\n"
          ]
        }
      ]
    },
    {
      "cell_type": "code",
      "source": [
        "audible_copy[['star','total_ratings']].head(5)"
      ],
      "metadata": {
        "colab": {
          "base_uri": "https://localhost:8080/",
          "height": 206
        },
        "id": "LdVFyTpuk7gv",
        "outputId": "5c1bb4b9-6c7b-4299-ad1c-61a441f1606f"
      },
      "execution_count": 149,
      "outputs": [
        {
          "output_type": "execute_result",
          "data": {
            "text/plain": [
              "  star total_ratings\n",
              "0    5            34\n",
              "1  4.5            41\n",
              "2  4.5            38\n",
              "3  4.5            12\n",
              "4  4.5           181"
            ],
            "text/html": [
              "\n",
              "  <div id=\"df-14220d80-9ecf-4cf7-b25e-1df7c90640b8\">\n",
              "    <div class=\"colab-df-container\">\n",
              "      <div>\n",
              "<style scoped>\n",
              "    .dataframe tbody tr th:only-of-type {\n",
              "        vertical-align: middle;\n",
              "    }\n",
              "\n",
              "    .dataframe tbody tr th {\n",
              "        vertical-align: top;\n",
              "    }\n",
              "\n",
              "    .dataframe thead th {\n",
              "        text-align: right;\n",
              "    }\n",
              "</style>\n",
              "<table border=\"1\" class=\"dataframe\">\n",
              "  <thead>\n",
              "    <tr style=\"text-align: right;\">\n",
              "      <th></th>\n",
              "      <th>star</th>\n",
              "      <th>total_ratings</th>\n",
              "    </tr>\n",
              "  </thead>\n",
              "  <tbody>\n",
              "    <tr>\n",
              "      <th>0</th>\n",
              "      <td>5</td>\n",
              "      <td>34</td>\n",
              "    </tr>\n",
              "    <tr>\n",
              "      <th>1</th>\n",
              "      <td>4.5</td>\n",
              "      <td>41</td>\n",
              "    </tr>\n",
              "    <tr>\n",
              "      <th>2</th>\n",
              "      <td>4.5</td>\n",
              "      <td>38</td>\n",
              "    </tr>\n",
              "    <tr>\n",
              "      <th>3</th>\n",
              "      <td>4.5</td>\n",
              "      <td>12</td>\n",
              "    </tr>\n",
              "    <tr>\n",
              "      <th>4</th>\n",
              "      <td>4.5</td>\n",
              "      <td>181</td>\n",
              "    </tr>\n",
              "  </tbody>\n",
              "</table>\n",
              "</div>\n",
              "      <button class=\"colab-df-convert\" onclick=\"convertToInteractive('df-14220d80-9ecf-4cf7-b25e-1df7c90640b8')\"\n",
              "              title=\"Convert this dataframe to an interactive table.\"\n",
              "              style=\"display:none;\">\n",
              "        \n",
              "  <svg xmlns=\"http://www.w3.org/2000/svg\" height=\"24px\"viewBox=\"0 0 24 24\"\n",
              "       width=\"24px\">\n",
              "    <path d=\"M0 0h24v24H0V0z\" fill=\"none\"/>\n",
              "    <path d=\"M18.56 5.44l.94 2.06.94-2.06 2.06-.94-2.06-.94-.94-2.06-.94 2.06-2.06.94zm-11 1L8.5 8.5l.94-2.06 2.06-.94-2.06-.94L8.5 2.5l-.94 2.06-2.06.94zm10 10l.94 2.06.94-2.06 2.06-.94-2.06-.94-.94-2.06-.94 2.06-2.06.94z\"/><path d=\"M17.41 7.96l-1.37-1.37c-.4-.4-.92-.59-1.43-.59-.52 0-1.04.2-1.43.59L10.3 9.45l-7.72 7.72c-.78.78-.78 2.05 0 2.83L4 21.41c.39.39.9.59 1.41.59.51 0 1.02-.2 1.41-.59l7.78-7.78 2.81-2.81c.8-.78.8-2.07 0-2.86zM5.41 20L4 18.59l7.72-7.72 1.47 1.35L5.41 20z\"/>\n",
              "  </svg>\n",
              "      </button>\n",
              "      \n",
              "  <style>\n",
              "    .colab-df-container {\n",
              "      display:flex;\n",
              "      flex-wrap:wrap;\n",
              "      gap: 12px;\n",
              "    }\n",
              "\n",
              "    .colab-df-convert {\n",
              "      background-color: #E8F0FE;\n",
              "      border: none;\n",
              "      border-radius: 50%;\n",
              "      cursor: pointer;\n",
              "      display: none;\n",
              "      fill: #1967D2;\n",
              "      height: 32px;\n",
              "      padding: 0 0 0 0;\n",
              "      width: 32px;\n",
              "    }\n",
              "\n",
              "    .colab-df-convert:hover {\n",
              "      background-color: #E2EBFA;\n",
              "      box-shadow: 0px 1px 2px rgba(60, 64, 67, 0.3), 0px 1px 3px 1px rgba(60, 64, 67, 0.15);\n",
              "      fill: #174EA6;\n",
              "    }\n",
              "\n",
              "    [theme=dark] .colab-df-convert {\n",
              "      background-color: #3B4455;\n",
              "      fill: #D2E3FC;\n",
              "    }\n",
              "\n",
              "    [theme=dark] .colab-df-convert:hover {\n",
              "      background-color: #434B5C;\n",
              "      box-shadow: 0px 1px 3px 1px rgba(0, 0, 0, 0.15);\n",
              "      filter: drop-shadow(0px 1px 2px rgba(0, 0, 0, 0.3));\n",
              "      fill: #FFFFFF;\n",
              "    }\n",
              "  </style>\n",
              "\n",
              "      <script>\n",
              "        const buttonEl =\n",
              "          document.querySelector('#df-14220d80-9ecf-4cf7-b25e-1df7c90640b8 button.colab-df-convert');\n",
              "        buttonEl.style.display =\n",
              "          google.colab.kernel.accessAllowed ? 'block' : 'none';\n",
              "\n",
              "        async function convertToInteractive(key) {\n",
              "          const element = document.querySelector('#df-14220d80-9ecf-4cf7-b25e-1df7c90640b8');\n",
              "          const dataTable =\n",
              "            await google.colab.kernel.invokeFunction('convertToInteractive',\n",
              "                                                     [key], {});\n",
              "          if (!dataTable) return;\n",
              "\n",
              "          const docLinkHtml = 'Like what you see? Visit the ' +\n",
              "            '<a target=\"_blank\" href=https://colab.research.google.com/notebooks/data_table.ipynb>data table notebook</a>'\n",
              "            + ' to learn more about interactive tables.';\n",
              "          element.innerHTML = '';\n",
              "          dataTable['output_type'] = 'display_data';\n",
              "          await google.colab.output.renderOutput(dataTable, element);\n",
              "          const docLink = document.createElement('div');\n",
              "          docLink.innerHTML = docLinkHtml;\n",
              "          element.appendChild(docLink);\n",
              "        }\n",
              "      </script>\n",
              "    </div>\n",
              "  </div>\n",
              "  "
            ]
          },
          "metadata": {},
          "execution_count": 149
        }
      ]
    },
    {
      "cell_type": "code",
      "source": [
        "#define \n",
        "#convert star to float\n",
        "#convert total_ratings to int\n",
        "\n",
        "#code\n",
        "audible_copy['star']=audible_copy['star'].astype('float')\n",
        "audible_copy['total_ratings']=audible_copy['total_ratings'].astype('int')"
      ],
      "metadata": {
        "id": "oC2nAgWNk4EL"
      },
      "execution_count": 183,
      "outputs": []
    },
    {
      "cell_type": "code",
      "source": [
        "audible_copy['total_ratings'].isna().sum()"
      ],
      "metadata": {
        "colab": {
          "base_uri": "https://localhost:8080/"
        },
        "id": "Jh0zAjKIlHp5",
        "outputId": "6d996199-70c2-4cd9-8bb2-dfd1e9b76eaf"
      },
      "execution_count": 182,
      "outputs": [
        {
          "output_type": "execute_result",
          "data": {
            "text/plain": [
              "0"
            ]
          },
          "metadata": {},
          "execution_count": 182
        }
      ]
    },
    {
      "cell_type": "markdown",
      "source": [
        "## Consistency"
      ],
      "metadata": {
        "id": "BtMhtnc5qsWe"
      }
    },
    {
      "cell_type": "markdown",
      "source": [
        "### 1) releasedate - contains both yy and yyyy\n",
        "\n",
        " \n",
        "[convert all to yyyy] \n"
      ],
      "metadata": {
        "id": "d9sWKsMAqudt"
      }
    },
    {
      "cell_type": "markdown",
      "source": [
        "### 2) releasedate - remove time part"
      ],
      "metadata": {
        "id": "emSQO3jPukbj"
      }
    },
    {
      "cell_type": "code",
      "source": [
        "#check\n",
        "audible_copy['releasedate'].head()"
      ],
      "metadata": {
        "colab": {
          "base_uri": "https://localhost:8080/"
        },
        "id": "xCuDme2pqr33",
        "outputId": "9bc8899f-5317-49fc-ed2e-6f29c784a521"
      },
      "execution_count": 190,
      "outputs": [
        {
          "output_type": "execute_result",
          "data": {
            "text/plain": [
              "0    2008-04-08 00:00:00\n",
              "1    2018-01-05 00:00:00\n",
              "2    2020-06-11 00:00:00\n",
              "3    2021-05-10 00:00:00\n",
              "4    2010-01-13 00:00:00\n",
              "Name: releasedate, dtype: object"
            ]
          },
          "metadata": {},
          "execution_count": 190
        }
      ]
    },
    {
      "cell_type": "code",
      "source": [
        "#define converting all to yyyy format\n",
        "audible_copy['releasedate']=pd.to_datetime(audible_copy['releasedate'])\n",
        "audible_copy['releasedate']=audible_copy['releasedate'].dt.strftime('%d-%m-%Y')"
      ],
      "metadata": {
        "id": "xy2sJ0LisHxj"
      },
      "execution_count": 204,
      "outputs": []
    },
    {
      "cell_type": "code",
      "source": [
        "#test\n",
        "audible_copy['releasedate'].sample(5)"
      ],
      "metadata": {
        "colab": {
          "base_uri": "https://localhost:8080/"
        },
        "id": "W8RqjLz9slbd",
        "outputId": "3ef33b03-74e3-4cc3-da75-0e33c71a63d3"
      },
      "execution_count": 207,
      "outputs": [
        {
          "output_type": "execute_result",
          "data": {
            "text/plain": [
              "30951    05-01-2018\n",
              "39901    30-03-2020\n",
              "83974    30-12-2007\n",
              "15323    03-02-2018\n",
              "75884    19-01-2021\n",
              "Name: releasedate, dtype: object"
            ]
          },
          "metadata": {},
          "execution_count": 207
        }
      ]
    },
    {
      "cell_type": "code",
      "source": [
        "audible_copy['releasedate'].to_csv('releasedate.csv')"
      ],
      "metadata": {
        "id": "P07tZwNguP6W"
      },
      "execution_count": 211,
      "outputs": []
    },
    {
      "cell_type": "markdown",
      "source": [],
      "metadata": {
        "id": "8JyKWY2xuDOn"
      }
    },
    {
      "cell_type": "code",
      "source": [
        "#check\n",
        "audible_copy['releasedate'].head()"
      ],
      "metadata": {
        "colab": {
          "base_uri": "https://localhost:8080/"
        },
        "id": "ROnYqDg6uC3V",
        "outputId": "5dacf708-6723-4eff-cd46-ecbdbc37f48d"
      },
      "execution_count": 208,
      "outputs": [
        {
          "output_type": "execute_result",
          "data": {
            "text/plain": [
              "0    08-04-2008\n",
              "1    05-01-2018\n",
              "2    11-06-2020\n",
              "3    10-05-2021\n",
              "4    13-01-2010\n",
              "Name: releasedate, dtype: object"
            ]
          },
          "metadata": {},
          "execution_count": 208
        }
      ]
    },
    {
      "cell_type": "markdown",
      "source": [
        "3) language - capitalized"
      ],
      "metadata": {
        "id": "4TUBPeUEyav6"
      }
    },
    {
      "cell_type": "code",
      "source": [
        "#check \n",
        "audible_copy['language'].value_counts()"
      ],
      "metadata": {
        "colab": {
          "base_uri": "https://localhost:8080/"
        },
        "id": "2bMDJXIqyZ7C",
        "outputId": "4c7d5c09-0cec-4bd4-b3e5-bad6ee8b5539"
      },
      "execution_count": 213,
      "outputs": [
        {
          "output_type": "execute_result",
          "data": {
            "text/plain": [
              "English             61884\n",
              "german               8295\n",
              "spanish              3496\n",
              "japanese             3167\n",
              "italian              2694\n",
              "french               2386\n",
              "russian              1804\n",
              "danish                935\n",
              "portuguese            526\n",
              "swedish               515\n",
              "Hindi                 436\n",
              "polish                224\n",
              "finnish               197\n",
              "dutch                 190\n",
              "tamil                 161\n",
              "catalan               153\n",
              "mandarin_chinese       97\n",
              "icelandic              52\n",
              "romanian               50\n",
              "hungarian              36\n",
              "urdu                   34\n",
              "afrikaans              28\n",
              "czech                  23\n",
              "turkish                20\n",
              "greek                  18\n",
              "arabic                 16\n",
              "norwegian              16\n",
              "galician               10\n",
              "bulgarian               9\n",
              "slovene                 4\n",
              "korean                  4\n",
              "lithuanian              2\n",
              "hebrew                  2\n",
              "telugu                  2\n",
              "basque                  2\n",
              "ukrainian               1\n",
              "Name: language, dtype: int64"
            ]
          },
          "metadata": {},
          "execution_count": 213
        }
      ]
    },
    {
      "cell_type": "code",
      "source": [
        "#define capitalize all\n",
        "\n",
        "#code\n",
        "audible_copy['language']=audible_copy['language'].str.capitalize()"
      ],
      "metadata": {
        "id": "Vy3aVnHmyoAj"
      },
      "execution_count": 216,
      "outputs": []
    },
    {
      "cell_type": "code",
      "source": [
        "#test\n",
        "audible_copy['language'].value_counts()"
      ],
      "metadata": {
        "colab": {
          "base_uri": "https://localhost:8080/"
        },
        "id": "m9QLNiPlyyow",
        "outputId": "6809baca-ee03-471e-e9cc-1792cd3fccca"
      },
      "execution_count": 217,
      "outputs": [
        {
          "output_type": "execute_result",
          "data": {
            "text/plain": [
              "English             61884\n",
              "German               8295\n",
              "Spanish              3496\n",
              "Japanese             3167\n",
              "Italian              2694\n",
              "French               2386\n",
              "Russian              1804\n",
              "Danish                935\n",
              "Portuguese            526\n",
              "Swedish               515\n",
              "Hindi                 436\n",
              "Polish                224\n",
              "Finnish               197\n",
              "Dutch                 190\n",
              "Tamil                 161\n",
              "Catalan               153\n",
              "Mandarin_chinese       97\n",
              "Icelandic              52\n",
              "Romanian               50\n",
              "Hungarian              36\n",
              "Urdu                   34\n",
              "Afrikaans              28\n",
              "Czech                  23\n",
              "Turkish                20\n",
              "Greek                  18\n",
              "Arabic                 16\n",
              "Norwegian              16\n",
              "Galician               10\n",
              "Bulgarian               9\n",
              "Korean                  4\n",
              "Slovene                 4\n",
              "Hebrew                  2\n",
              "Basque                  2\n",
              "Telugu                  2\n",
              "Lithuanian              2\n",
              "Ukrainian               1\n",
              "Name: language, dtype: int64"
            ]
          },
          "metadata": {},
          "execution_count": 217
        }
      ]
    },
    {
      "cell_type": "code",
      "source": [
        "audible_copy['language']=audible_copy['language'].astype('category')"
      ],
      "metadata": {
        "id": "WRMQ3LSPzGjc"
      },
      "execution_count": 220,
      "outputs": []
    },
    {
      "cell_type": "code",
      "source": [
        "audible_copy['language'].info()"
      ],
      "metadata": {
        "colab": {
          "base_uri": "https://localhost:8080/"
        },
        "id": "F19tdMyPy-BZ",
        "outputId": "5e7cd4e5-449e-4a0e-d3d7-4c9540f3aaf6"
      },
      "execution_count": 221,
      "outputs": [
        {
          "output_type": "stream",
          "name": "stdout",
          "text": [
            "<class 'pandas.core.series.Series'>\n",
            "RangeIndex: 87489 entries, 0 to 87488\n",
            "Series name: language\n",
            "Non-Null Count  Dtype   \n",
            "--------------  -----   \n",
            "87489 non-null  category\n",
            "dtypes: category(1)\n",
            "memory usage: 86.9 KB\n"
          ]
        }
      ]
    }
  ]
}